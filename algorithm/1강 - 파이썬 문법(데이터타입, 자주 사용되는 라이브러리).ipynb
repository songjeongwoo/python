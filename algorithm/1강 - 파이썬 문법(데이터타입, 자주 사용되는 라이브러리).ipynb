{
 "cells": [
  {
   "cell_type": "markdown",
   "id": "21b9491e",
   "metadata": {},
   "source": [
    "### 1. 알고리즘 설계 시 시간제한 측정하기"
   ]
  },
  {
   "cell_type": "code",
   "execution_count": 2,
   "id": "594d018e",
   "metadata": {},
   "outputs": [
    {
     "name": "stdout",
     "output_type": "stream",
     "text": [
      "time:  0.0\n"
     ]
    }
   ],
   "source": [
    "import time\n",
    "start_time = time.time() # 측정 시작\n",
    "\n",
    "# 프로그램 소스코드\n",
    "\n",
    "end_time = time.time() # 측정 종료\n",
    "print('time: ', end_time - start_time) # 수행시간 출력"
   ]
  },
  {
   "cell_type": "markdown",
   "id": "22b0a1f6",
   "metadata": {},
   "source": [
    "### 2. 지수 표현 방식\n",
    "####  파이썬에서는 e나 E를 이용해서 지수를 표현할 수 있다.<br>e나 E 다음에 오는 수는 10의 지수부를 의미한다.<br>- ex) 1e9 = 1,000,000,000"
   ]
  },
  {
   "cell_type": "code",
   "execution_count": 3,
   "id": "3a5279cb",
   "metadata": {},
   "outputs": [
    {
     "name": "stdout",
     "output_type": "stream",
     "text": [
      "1000000000.0\n",
      "752.5\n",
      "3.954\n"
     ]
    }
   ],
   "source": [
    "# 1,000,000,000 지수 표현 방식\n",
    "a = 1e9\n",
    "print(a)\n",
    "\n",
    "# 752.5\n",
    "a = 75.25e1\n",
    "print(a)\n",
    "\n",
    "# 3.954\n",
    "a = 3954e-3\n",
    "print(a)"
   ]
  },
  {
   "cell_type": "markdown",
   "id": "4ff99ce7",
   "metadata": {},
   "source": [
    "### 3. 2진수에서는 0.3과 0.6을 더한 값인 0.9와 같은 실수형을 정확히 표현할 수 없다.\n",
    "#### 컴퓨터는 최대한 0.9와 가깝게 표현하지만, 미세한 오차가 발생한다."
   ]
  },
  {
   "cell_type": "code",
   "execution_count": 4,
   "id": "79f2cef1",
   "metadata": {},
   "outputs": [
    {
     "name": "stdout",
     "output_type": "stream",
     "text": [
      "0.8999999999999999\n",
      "False\n"
     ]
    }
   ],
   "source": [
    "a = 0.3 + 0.6\n",
    "print(a)\n",
    "\n",
    "if a == 0.9:\n",
    "    print(True)\n",
    "else:\n",
    "    print(False)"
   ]
  },
  {
   "cell_type": "markdown",
   "id": "44170c54",
   "metadata": {},
   "source": [
    "#### 개발 과정에서 실수 값을 제대로 비교하지 못해서 원하는 결과를 얻지 못할 수도 있다.<br>\"이럴 때는 round()함수를 이용해서, 소수점 몇 번째자리까지만 계산된 결과를 보장할 수 있다.\"<br>고 명시한다. "
   ]
  },
  {
   "cell_type": "code",
   "execution_count": 7,
   "id": "d82a0398",
   "metadata": {},
   "outputs": [
    {
     "name": "stdout",
     "output_type": "stream",
     "text": [
      "0.9\n",
      "True\n"
     ]
    }
   ],
   "source": [
    "a = 0.3 + 0.6\n",
    "print(round(a, 4))\n",
    "\n",
    "if round(a, 4) == 0.9:\n",
    "    print(True)\n",
    "else:\n",
    "    print(False)"
   ]
  },
  {
   "cell_type": "markdown",
   "id": "806b8d88",
   "metadata": {},
   "source": [
    "### 4. 나머지, 몫, 거듭제곱 연산자(%, //, **)"
   ]
  },
  {
   "cell_type": "code",
   "execution_count": 8,
   "id": "dcd75d4f",
   "metadata": {},
   "outputs": [
    {
     "name": "stdout",
     "output_type": "stream",
     "text": [
      "2.3333333333333335\n",
      "1\n",
      "2\n"
     ]
    }
   ],
   "source": [
    "a = 7\n",
    "b = 3\n",
    "\n",
    "# 나누기 - 실수형으로 반환\n",
    "print(a / b)\n",
    "\n",
    "# 나머지\n",
    "print(a % b)\n",
    "\n",
    "# 몫\n",
    "print(a // b)"
   ]
  },
  {
   "cell_type": "markdown",
   "id": "25b89652",
   "metadata": {},
   "source": [
    "### 5. 리스트 초기화"
   ]
  },
  {
   "cell_type": "code",
   "execution_count": 13,
   "id": "79db8326",
   "metadata": {},
   "outputs": [
    {
     "name": "stdout",
     "output_type": "stream",
     "text": [
      "[7, 2, 3, 9, 8]\n",
      "9\n",
      "[0, 0, 0, 0, 0, 0, 0, 0, 0, 0]\n"
     ]
    }
   ],
   "source": [
    "# 직접 데이터를 넣어 초기화\n",
    "a = [7, 2, 3, 9, 8]\n",
    "print(a)\n",
    "\n",
    "# 네 번째 원소만 출력\n",
    "print(a[3])\n",
    "\n",
    "# 크기가 N이고, 모든 값이 0인 1차원 리스트 초기화\n",
    "n = 10\n",
    "a = [0] * n\n",
    "print(a)"
   ]
  },
  {
   "cell_type": "markdown",
   "id": "31659d61",
   "metadata": {},
   "source": [
    "### 5-1 리스트의 인덱싱과 슬라이싱\n",
    "#### 리스트의 특정한 원소에 접근하는 것을 인덱싱(Indexing)이라고 한다.<br>idx에 음의 정수를 넣으면 원소를 거꾸로 탐색한다."
   ]
  },
  {
   "cell_type": "code",
   "execution_count": 14,
   "id": "9196ddf5",
   "metadata": {},
   "outputs": [
    {
     "name": "stdout",
     "output_type": "stream",
     "text": [
      "9\n",
      "9\n",
      "6\n",
      "[1, 3, 2, 7, 7, 6, 8, 9]\n"
     ]
    }
   ],
   "source": [
    "# Indexing\n",
    "a = [1, 3, 2, 5, 7, 6, 8, 9]\n",
    "\n",
    "# 여덟 번째 원소만 출력\n",
    "print(a[7])\n",
    "\n",
    "# 뒤에서 첫 번째 원소 출력\n",
    "print(a[-1])\n",
    "\n",
    "# 뒤에서 세 번째 원소 출력\n",
    "print(a[-3])\n",
    "\n",
    "# 네 번째 원소 값 변경\n",
    "a[3] = 7\n",
    "print(a)"
   ]
  },
  {
   "cell_type": "markdown",
   "id": "c6b0efc3",
   "metadata": {},
   "source": [
    "#### 연속적인 위치를 갖는 원소들을 가져와야 할 때는 슬라이싱(Slicing)을 이용한다."
   ]
  },
  {
   "cell_type": "code",
   "execution_count": 21,
   "id": "8052a943",
   "metadata": {},
   "outputs": [
    {
     "name": "stdout",
     "output_type": "stream",
     "text": [
      "5\n",
      "[3, 2, 5]\n",
      "[1, 3, 2, 5, 7, 6, 8, 9]\n",
      "[1, 3, 2, 5, 7]\n"
     ]
    }
   ],
   "source": [
    "# Slicing\n",
    "a = [1, 3, 2, 5, 7, 6, 8, 9]\n",
    "\n",
    "# 네 번째 원소만 출력\n",
    "print(a[3])\n",
    "\n",
    "# 두 번째 원소부터 네 번째 원소까지\n",
    "print(a[1 : 4])\n",
    "\n",
    "# 첫 번째 원소부터 전부\n",
    "print(a[0 : ])\n",
    "\n",
    "# 첫 번째 원소부터 뒤에서 네 번째 원소까지\n",
    "print(a[ : -3])"
   ]
  },
  {
   "cell_type": "markdown",
   "id": "eb6f5a50",
   "metadata": {},
   "source": [
    "### 5-2 리스트 컴프리헨션(list comprehension)\n",
    "#### 리스트를 초기화하는 방법 중 하나이다.<br>대괄호 안에 조건문과 반복분을 적용하여 초기화 할 수 있다."
   ]
  },
  {
   "cell_type": "code",
   "execution_count": 23,
   "id": "e9a34114",
   "metadata": {},
   "outputs": [
    {
     "name": "stdout",
     "output_type": "stream",
     "text": [
      "[0, 1, 2, 3, 4, 5, 6, 7, 8, 9]\n",
      "[0, 1, 2, 3, 4, 5, 6, 7, 8, 9, 10, 11, 12, 13, 14, 15, 16, 17, 18, 19]\n",
      "[1, 4, 9, 16, 25, 36, 49, 64, 81]\n"
     ]
    }
   ],
   "source": [
    "# 0부터 9까지의 수를 포함하는 리스트\n",
    "array = [i for i in range(10)]\n",
    "print(array)\n",
    "\n",
    "# 0부터 19까지의 수 중에서 홀수만 포함하는 리스트\n",
    "array = [i for i in range(20) if 1 % 2 == 1]\n",
    "print (array)\n",
    "\n",
    "# 1부터 9까지 수들의 제곱 값을 포함하는 리스트\n",
    "array = [i * i for i in range(1, 10)]\n",
    "print(array)"
   ]
  },
  {
   "cell_type": "markdown",
   "id": "2a256824",
   "metadata": {},
   "source": [
    "#### 리스트 컴프리헨션은 2차원 리스트를 초기화할 때 효과적으로 사용된다.<br>특히 N * M크기의 2차원 리스트를 한 번에 초기화 해야할 때 유용하다.<br><br># 좋은 예<br>array = [[0] * m for _ in range(n)]<br><br># 잘못된 예<br>array = [[0] * m] * n<br><br>위 코드는 예기치 않은 결과가 나올 수 있다.<br>전체 리스트 안에 포함된 각 리스트가 모두 같은 객체로 인식된다."
   ]
  },
  {
   "cell_type": "code",
   "execution_count": 27,
   "id": "e89e1d58",
   "metadata": {},
   "outputs": [
    {
     "name": "stdout",
     "output_type": "stream",
     "text": [
      "[[0, 0, 0], [0, 0, 0], [0, 0, 0], [0, 0, 0]]\n",
      "[[0, 0, 0], [0, 5, 0], [0, 0, 0], [0, 0, 0]]\n"
     ]
    }
   ],
   "source": [
    "# N * M 크기의 2차원 리스트 초기화\n",
    "n = 4\n",
    "m = 3\n",
    "array = [[0] * m for _ in range(n)]\n",
    "print(array)\n",
    "\n",
    "array[1][1] = 5\n",
    "print(array)"
   ]
  },
  {
   "cell_type": "code",
   "execution_count": 28,
   "id": "969ca63b",
   "metadata": {},
   "outputs": [
    {
     "name": "stdout",
     "output_type": "stream",
     "text": [
      "[[0, 0, 0], [0, 0, 0], [0, 0, 0], [0, 0, 0]]\n",
      "[[0, 5, 0], [0, 5, 0], [0, 5, 0], [0, 5, 0]]\n"
     ]
    }
   ],
   "source": [
    "# N * M 크기의 2차원 리스트 초기화(잘못된 방법)\n",
    "n = 4\n",
    "m = 3\n",
    "array = [[0] * m] * n\n",
    "print(array)\n",
    "\n",
    "array[1][1] = 5\n",
    "print(array)\n",
    "# [[0] * m] 같은 객체를 n번 참조하는 것으로 원하는 값만 선택적으로 바꿀 수 없다."
   ]
  },
  {
   "cell_type": "markdown",
   "id": "923ad2c0",
   "metadata": {},
   "source": [
    "#### 리스트 관련 기타 메서드(append(), sort(), reverse(), insert(), count(), remove())"
   ]
  },
  {
   "cell_type": "code",
   "execution_count": 32,
   "id": "13ba1f74",
   "metadata": {},
   "outputs": [
    {
     "name": "stdout",
     "output_type": "stream",
     "text": [
      "기본 리스트:  [1, 4, 3]\n",
      "삽입:  [1, 4, 3, 2]\n",
      "오름차순 정렬:  [1, 2, 3, 4]\n",
      "내림차순 정렬:  [4, 3, 2, 1]\n",
      "원소 뒤집기:  [1, 2, 3, 4]\n",
      "인덱스 2에 3 추가:  [1, 2, 3, 3, 4]\n",
      "값이 3인 데이터 개수:  2\n",
      "값이 1인 데이터 삭제:  [2, 3, 3, 4]\n"
     ]
    }
   ],
   "source": [
    "a = [1, 4, 3]\n",
    "print(\"기본 리스트: \", a)\n",
    "\n",
    "# 리스트에 원소 삽입 - 시간복잡도: O(1)\n",
    "a.append(2)\n",
    "print(\"삽입: \", a)\n",
    "\n",
    "# 오름차순 정렬 - 시간 복잡도: O(NlogN)\n",
    "a.sort()\n",
    "print(\"오름차순 정렬: \", a)\n",
    "\n",
    "# 내림차순 정렬 - 시간 복잡도: O(NlogN)\n",
    "a.sort(reverse = True)\n",
    "print(\"내림차순 정렬: \", a)\n",
    "\n",
    "a = [4, 3, 2, 1]\n",
    "\n",
    "# 리스트 원소 뒤집기  - 시간 복잡도: O(N)\n",
    "a. reverse()\n",
    "print(\"원소 뒤집기: \", a)\n",
    "\n",
    "# 특정 인덱스에 데이터 추가 - 시간 복잡도: O(N)\n",
    "a.insert(2, 3)\n",
    "print(\"인덱스 2에 3 추가: \", a)\n",
    "\n",
    "# 특정 값인 데이터 개수 세기 - 시간 복잡도: O(N)\n",
    "print(\"값이 3인 데이터 개수: \", a.count(3))\n",
    "\n",
    "# 특정 값 데이터 삭제 - 시간 복잡도: O(N)\n",
    "a.remove(1)\n",
    "print(\"값이 1인 데이터 삭제: \", a)\n"
   ]
  },
  {
   "cell_type": "code",
   "execution_count": 33,
   "id": "12e92865",
   "metadata": {},
   "outputs": [
    {
     "name": "stdout",
     "output_type": "stream",
     "text": [
      "[1, 2, 4]\n"
     ]
    }
   ],
   "source": [
    "# 리스트에서 특정 값을 가지는 원소를 모두 제거하기\n",
    "a = [1, 2, 3, 4, 5, 5, 5]\n",
    "remove_set = {3, 5} # 집합 자료형\n",
    "\n",
    "# remove_list에 포함되지 않은 값만을 저장\n",
    "result = [i for i in a if i not in remove_set]\n",
    "print(result)"
   ]
  },
  {
   "cell_type": "markdown",
   "id": "5993ddff",
   "metadata": {},
   "source": [
    "#### 문자열에 대해서도 인덱싱과 슬라이싱이 가능하다.<br> 다만, 문자열의 특정 idx값을 변경할 수는 없다(Immutable)."
   ]
  },
  {
   "cell_type": "code",
   "execution_count": 38,
   "id": "81e463a9",
   "metadata": {},
   "outputs": [
    {
     "name": "stdout",
     "output_type": "stream",
     "text": [
      "Hello World\n",
      "StringStringString\n",
      "CD\n"
     ]
    }
   ],
   "source": [
    "# 문자열 붙이기\n",
    "a = \"Hello\"\n",
    "b = \"World\"\n",
    "print(a + \" \" + b)\n",
    "\n",
    "# 문자열 곱셈연산\n",
    "a = \"String\"\n",
    "print(a * 3)\n",
    "\n",
    "# 문자열 슬라이싱\n",
    "a = \"ABCDEF\"\n",
    "print(a[2 : 4])"
   ]
  },
  {
   "cell_type": "markdown",
   "id": "5a749723",
   "metadata": {},
   "source": [
    "### 6. 튜플 자료형\n",
    "#### 튜플은 선언 후 값 변경이 불가하다.<br>리스트에 비해 상대적으로 공간 효율적이다."
   ]
  },
  {
   "cell_type": "code",
   "execution_count": 41,
   "id": "5084759d",
   "metadata": {},
   "outputs": [
    {
     "name": "stdout",
     "output_type": "stream",
     "text": [
      "(1, 2, 3, 4, 5, 6, 7, 8, 9)\n",
      "4\n",
      "(2, 3, 4)\n"
     ]
    }
   ],
   "source": [
    "a = (1, 2, 3, 4, 5, 6, 7, 8, 9)\n",
    "print(a)\n",
    "\n",
    "# 네 번째 원소만 출력\n",
    "print(a[3])\n",
    "\n",
    "# 두 번째 원소부터 네 번째 원소까지\n",
    "print(a[1 : 4])"
   ]
  },
  {
   "cell_type": "markdown",
   "id": "47eb663a",
   "metadata": {},
   "source": [
    "### 튜플을 사용하면 좋은 경우\n",
    "#### 서로 다른 성질의 데이터를 묶어서 관리할 때<br> - 최단 경로 알고리즘에서는 (비용, 노드 번호)의 형태로 튜플 자료형을 자주 사용한다.<br><br>데이터의 나열을 해싱(Hashing)의 키 값으로 사용해야 할 때<br> - 튜플은 변경 불가능하므로 리스트와 다르게 키 값으로 사용될 수 있다.<br><br>리스트보다 메모리를 효율적으로 사용해야 할 때"
   ]
  },
  {
   "cell_type": "markdown",
   "id": "734a63e1",
   "metadata": {},
   "source": [
    "### 7. 사전 자료형\n",
    "#### 키(Key)와 값(Value)의 쌍을 데이터로 가지는 자료형이다.<br><br>사전자료형은 키와 값의 쌍을 데이터로 가지며, 원하는 '변경 불가능한(Immutable)자료형'을 키로 사용할 수 있다.<br><br>파이썬의 사전 자료형은 <mark>해시 테이블(Hash Table)</mark>을 이용하므로 데이터의 조회 및 수정에 있어서 O(1)의 시간에 처리할 수 있다."
   ]
  },
  {
   "cell_type": "code",
   "execution_count": 46,
   "id": "a648476c",
   "metadata": {},
   "outputs": [
    {
     "name": "stdout",
     "output_type": "stream",
     "text": [
      "{'사과': 'Apple', '바나나': 'Banana'}\n",
      "{'사과': 'Apple', '바나나': 'Banana'}\n",
      "Apple\n",
      "'사과'를 키로 가지는 데이터가 존재합니다.\n",
      "dict_keys(['사과', '바나나'])\n",
      "['사과', '바나나']\n",
      "dict_values(['Apple', 'Banana'])\n",
      "Apple\n",
      "Banana\n"
     ]
    }
   ],
   "source": [
    "# dictionary 초기화\n",
    "data = dict()\n",
    "\n",
    "# key와 value 추가\n",
    "data['사과'] = 'Apple'\n",
    "data['바나나'] = 'Banana'\n",
    "print(data)\n",
    "\n",
    "# 또는\n",
    "a = {\n",
    "    '사과': 'Apple',\n",
    "    '바나나': 'Banana'\n",
    "}\n",
    "print(a)\n",
    "\n",
    "# 특정 키 값을 출력\n",
    "print(a['사과'])\n",
    "\n",
    "if '사과' in data:\n",
    "    print(\"'사과'를 키로 가지는 데이터가 존재합니다.\")\n",
    "    \n",
    "# 키 데이터만 담은 리스트\n",
    "key_list = data.keys()\n",
    "print(key_list)\n",
    "# cf) 완전한 리스트 형태로 뽑아내기\n",
    "key_list = list(data.keys())\n",
    "print(key_list)\n",
    "\n",
    "# 값 데이터만 담은 리스트\n",
    "value_list = data.values()\n",
    "print(value_list)\n",
    "\n",
    "# 각 키에 따른 값을 하나씩 출력\n",
    "for key in key_list:\n",
    "    print(data[key])"
   ]
  },
  {
   "cell_type": "markdown",
   "id": "30a93ae1",
   "metadata": {},
   "source": [
    "### 8. 집합 자료형\n",
    "#### 중복을 허용하지 않고 순서가 없다.<br><br>집합은 리스트 혹은 문자열을 이용해서 초기화 할 수 있다.<br> - 이때 set()함수를 이용한다.<br><br>혹은 중괄호({}) 안에 각 원소를 콤마(,)를 기준으로 구분하여 삽입함으로써 초기화 할 수 있다.<br><br>데이터의 조회 및 수정에 있어서 <mark>O(1)의 시간에 처리</mark>할 수 있다."
   ]
  },
  {
   "cell_type": "code",
   "execution_count": 47,
   "id": "bbdc06ee",
   "metadata": {},
   "outputs": [
    {
     "name": "stdout",
     "output_type": "stream",
     "text": [
      "{1, 2, 3, 4, 5}\n",
      "{1, 2, 3, 4, 5}\n"
     ]
    }
   ],
   "source": [
    "# 집합 자료형 초기화 방법 1\n",
    "data = set([1, 2, 3, 4, 4, 5])\n",
    "print(data)\n",
    "\n",
    "# 집합 자료형 초기화 방법 2\n",
    "data = {1, 1, 2, 3, 4, 4, 5}\n",
    "print(data)"
   ]
  },
  {
   "cell_type": "markdown",
   "id": "48852fd7",
   "metadata": {},
   "source": [
    "#### 기본적인 집합 연산으로 합집합, 교집합, 차집합 연산 등이 있다."
   ]
  },
  {
   "cell_type": "code",
   "execution_count": 50,
   "id": "86f6df0d",
   "metadata": {},
   "outputs": [
    {
     "name": "stdout",
     "output_type": "stream",
     "text": [
      "{1, 2, 3, 4, 5, 6, 7}\n",
      "{3, 4, 5}\n",
      "{1, 2}\n",
      "{1, 2, 3}\n",
      "{1, 2, 3, 4}\n",
      "{1, 2, 3, 4, 5, 6}\n",
      "{1, 2, 4, 5, 6}\n"
     ]
    }
   ],
   "source": [
    "a = set([1, 2, 3, 4, 5])\n",
    "b = set([3, 4, 5, 6, 7])\n",
    "\n",
    "# 합집합\n",
    "print(a | b)\n",
    "\n",
    "# 교집합\n",
    "print(a & b)\n",
    "\n",
    "# 차집합\n",
    "print(a - b)\n",
    "\n",
    "# #집합 자료형 관련 함수\n",
    "data = set([1, 2, 3])\n",
    "print(data)\n",
    "\n",
    "# 새로운 원소 추가\n",
    "data.add(4)\n",
    "print(data)\n",
    "\n",
    "# 새로운 원소 여러 개 추가\n",
    "data.update([5, 6])\n",
    "print(data)\n",
    "\n",
    "# 특정한 값을 갖는 원소 삭제\n",
    "data.remove(3)\n",
    "print(data)"
   ]
  },
  {
   "cell_type": "markdown",
   "id": "7599ba82",
   "metadata": {},
   "source": [
    "### ★사전 자료형과 집합 자료형의 특징\n",
    "#### 리스트나 튜플은 순서가 있기 때문에 인덱싱을 통해 자료형의 값을 얻을 수 있다.<br><br>사전 자료형과 집합 자료형은 순서가 없기 때문에 인덱싱으로 값을 얻을 수 없다.<br> - 사전의 키(Key) 혹은 집합의 원소(Element)를 이용해 O(1)의 시간 복잡도로 조회한다."
   ]
  },
  {
   "cell_type": "markdown",
   "id": "677bdf71",
   "metadata": {},
   "source": [
    "### 9. 자주 사용되는 표준 입력 방법\n",
    "#### input() 함수는 <u>한 줄의 문자열을 입력 받는 함수</u>이다.<br>map() 함수는 <u>리스트의 모든 원소에 각각 특정한 함수를 적용할 때 사용</u>한다.<br><br>ex) 공백을 기준으로 구분된 데이터를 입력 받을 때는 다음과 같이 사용한다.<br> - list(map(int, input().split()))<br><br>ex) 공백을 기준으로 구분된 데이터의 개수가 많지 않다면, 단순히 다음과 같이 사용한다.<br> - a, b, c = map(int, input().split())<br><br>&nbsp;&nbsp;&nbsp;ㄴ <mark>unpacking</mark> &nbsp;&nbsp;&nbsp;&nbsp;&nbsp;ㄴ <mark>packing</mark>"
   ]
  },
  {
   "cell_type": "code",
   "execution_count": 52,
   "id": "44bba0bf",
   "metadata": {},
   "outputs": [
    {
     "name": "stdout",
     "output_type": "stream",
     "text": [
      "5\n",
      "65 90 75 34 99\n",
      "[99, 90, 75, 65, 34]\n",
      "3 5 7\n",
      "3 5 7\n"
     ]
    }
   ],
   "source": [
    "# 데이터의 개수 입력\n",
    "n = int(input())\n",
    "\n",
    "# 각 데이터를 공백을 기준으로 구분하여 입력\n",
    "data = list(map(int, input().split()))\n",
    "\n",
    "data.sort(reverse=True)\n",
    "print(data)\n",
    "\n",
    "# n, m, k를 공백을 기준으로 구분하여 입력\n",
    "n, m, k = map(int, input().split())\n",
    "print(n, m, k)"
   ]
  },
  {
   "cell_type": "markdown",
   "id": "d00854e8",
   "metadata": {},
   "source": [
    "### 10. 빠르게 입력받기\n",
    "#### 사용자로부터 입력을 최대한 빠르게 받아야하는 경우가 있다.<br><br>파이썬의 경우 sys라이브러리에 정의되어 있는 sys.stdin.readline() 메서드를 이용한다.<br> - 단, 입력 후 엔터(Enter)가 줄 바꿈 기호로 입력되므로 rstrip() 메서드를 함께 사용한다."
   ]
  },
  {
   "cell_type": "code",
   "execution_count": 53,
   "id": "809bb756",
   "metadata": {},
   "outputs": [
    {
     "name": "stdout",
     "output_type": "stream",
     "text": [
      "\n"
     ]
    }
   ],
   "source": [
    "import sys\n",
    "\n",
    "# 문자열 입력받기\n",
    "data = sys.stdin.readline().rstrip()\n",
    "print(data)"
   ]
  },
  {
   "cell_type": "markdown",
   "id": "6f013a53",
   "metadata": {},
   "source": [
    "### 10-1. print()\n",
    "#### 파이썬에서 기본 출력은 print() 함수를 이용한다.<br> - 각 변수를 콤마(,)를 이용하여 띄어쓰기로 구분하여 출력할 수 있다.<br><br>print()는 기본적으로 출력 이후에 줄바꿈을 수행한다.<br> - 줄바꿈을 원치 않는 경우 'end' 속성을 이용할 수 있다."
   ]
  },
  {
   "cell_type": "code",
   "execution_count": 56,
   "id": "25ae1b9a",
   "metadata": {},
   "outputs": [
    {
     "name": "stdout",
     "output_type": "stream",
     "text": [
      "1 2\n",
      "7 8  정답은 7입니다.\n"
     ]
    }
   ],
   "source": [
    "# 출력할 변수들\n",
    "a = 1\n",
    "b = 2\n",
    "print(a, b)\n",
    "print(7, end=\" \")\n",
    "print(8, end=\" \")\n",
    "\n",
    "# 출력할 변수 - cf) 파이썬은 정수형과 문자열을 직접적으로 붙이기 연산할 수 없다.\n",
    "answer = 7\n",
    "print(\" 정답은 \" + str(answer) + \"입니다.\")"
   ]
  },
  {
   "cell_type": "markdown",
   "id": "fe83e799",
   "metadata": {},
   "source": [
    "### 10-2. f-string예제\n",
    "#### 파이썬 3.6부터 사용가능하며, 문자열 앞에 접두사 'f'를 붙여 사용한다.<br>중괄호 안에 변수명을 기입하여 간단히 문자열과 정수를 함께 넣을 수 있다."
   ]
  },
  {
   "cell_type": "code",
   "execution_count": 59,
   "id": "04aeba2f",
   "metadata": {},
   "outputs": [
    {
     "name": "stdout",
     "output_type": "stream",
     "text": [
      "정답은 7입니다.\n"
     ]
    }
   ],
   "source": [
    "answer = 7\n",
    "print(f'정답은 {answer}입니다.')"
   ]
  },
  {
   "cell_type": "markdown",
   "id": "6c469649",
   "metadata": {},
   "source": [
    "### 11. 논리연산자\n",
    "#### X and Y, X or Y, not X"
   ]
  },
  {
   "cell_type": "markdown",
   "id": "e7d9466b",
   "metadata": {},
   "source": [
    "### 11-1. 기타 연산자\n",
    "#### 다수의 데이터를 담는 자료형을 위해 in 연산자와 not in 연산자가 제공된다. <br><br> - <mark>리스트, 튜플, 문자열, 딕셔너리</mark> 모두에서 사용 가능하다.\n",
    "#### x in 리스트: 리스트 안에 x가 있을 때 True<br> x not in 문자열: 문자열 안에 x가 없을 때 True"
   ]
  },
  {
   "cell_type": "markdown",
   "id": "ef4a7d03",
   "metadata": {},
   "source": [
    "### 12. pass 키워드\n",
    "#### 아무것도 처리하고 싶지 않을 때 pass 키워드를 사용한다.<br>ex) 디버깅 과정에서 일단 <u>조건문의 형태만 만들어 놓고 조건문을 처리하는 부분은 비워놓고 싶은 경우</u>"
   ]
  },
  {
   "cell_type": "code",
   "execution_count": 62,
   "id": "e52cbe2d",
   "metadata": {},
   "outputs": [
    {
     "name": "stdout",
     "output_type": "stream",
     "text": [
      "프로그램을 종료합니다.\n"
     ]
    }
   ],
   "source": [
    "score = 85\n",
    "\n",
    "if score >= 80:\n",
    "    pass  # 나중에 작성할 소스코드\n",
    "else:\n",
    "    print('성적이 80점 미만입니다.')\n",
    "\n",
    "print('프로그램을 종료합니다.')"
   ]
  },
  {
   "cell_type": "markdown",
   "id": "70ed485c",
   "metadata": {},
   "source": [
    "### 13. 조건문의 간소화\n",
    "#### - ★조건부 표현식(Conditional Expression)"
   ]
  },
  {
   "cell_type": "code",
   "execution_count": 66,
   "id": "cf19bfbc",
   "metadata": {},
   "outputs": [
    {
     "name": "stdout",
     "output_type": "stream",
     "text": [
      "Success\n",
      "Success\n"
     ]
    }
   ],
   "source": [
    "# 조건문에서 실행될 소스코드가 1줄인 경우, 줄바꿈을 하지 않아도 된다.\n",
    "score = 85\n",
    "\n",
    "if score >= 80: result = 'Success'\n",
    "else: result = 'Fail'\n",
    "print(result)\n",
    "\n",
    "# 조건부 표현식(Conditional Expression)은 if ~ else문을 한 줄에 작성할 수 있도록 해준다.\n",
    "score = 85\n",
    "result = 'Success' if score >= 80 else 'Fail'\n",
    "print(result)"
   ]
  },
  {
   "cell_type": "markdown",
   "id": "8a523f10",
   "metadata": {},
   "source": [
    "### 14. 반복분"
   ]
  },
  {
   "cell_type": "code",
   "execution_count": 71,
   "id": "a6bceb45",
   "metadata": {},
   "outputs": [
    {
     "name": "stdout",
     "output_type": "stream",
     "text": [
      "1 번 학생은 합격입니다.\n",
      "5 번 학생은 합격입니다.\n"
     ]
    }
   ],
   "source": [
    "# 학생들의 합격 여부 판단 예제 2) 특정 번호의 학생은 제외하기\n",
    "scores = [90, 85, 77, 65, 97]\n",
    "cheating_student_list = {2, 4}\n",
    "\n",
    "for i in range(5):\n",
    "    if i + 1 in cheating_student_list:\n",
    "        continue\n",
    "    if scores[i] >= 80:\n",
    "        print(i + 1, '번 학생은 합격입니다.')"
   ]
  },
  {
   "cell_type": "markdown",
   "id": "76a5a794",
   "metadata": {},
   "source": [
    "### 15. 함수와 람다표현식\n",
    "#### 함수(Function)란 특정한 직업을 하나의 단위로 묶어 놓는 것을 의미한다.<br>함수를 사용하면 불필요한 소스코드의 반복을 줄일 수 있다.\n",
    "#### 내장함수: 파이썬이 기본적으로 제공하는 함수<br>사용자 정의 함수: 개발자가 직접 정의하여 사용할 수 있는 함수\n",
    "#### def 함수명(매개변수):<br>&nbsp;&nbsp;&nbsp;&nbsp;실행할 소스코드<br>&nbsp;&nbsp;&nbsp;&nbsp;return 반환값"
   ]
  },
  {
   "cell_type": "code",
   "execution_count": 72,
   "id": "763475f5",
   "metadata": {},
   "outputs": [
    {
     "name": "stdout",
     "output_type": "stream",
     "text": [
      "10\n",
      "함수의 결과:  10\n"
     ]
    }
   ],
   "source": [
    "# 더하기 함수 예시 1)\n",
    "def add(a, b):\n",
    "    return a + b\n",
    "print(add(3, 7))\n",
    "\n",
    "# 더하기 함수 예시 2)\n",
    "def add(a, b):\n",
    "    print('함수의 결과: ', a + b)\n",
    "add(3, 7)"
   ]
  },
  {
   "cell_type": "markdown",
   "id": "f8aae7ed",
   "metadata": {},
   "source": [
    "### 15-1. global 키워드\n",
    "#### <mark>global</mark> 키워드로 변수를 지정하면 해당 함수에서는 지역변수를 만들지 않고, 함수 바깥에 선언된 변수를 바로 참조하게 된다."
   ]
  },
  {
   "cell_type": "code",
   "execution_count": 74,
   "id": "bb62b9c7",
   "metadata": {},
   "outputs": [
    {
     "name": "stdout",
     "output_type": "stream",
     "text": [
      "10\n",
      "[3, 4, 5, 6]\n"
     ]
    }
   ],
   "source": [
    "a = 0\n",
    "def func():\n",
    "    global a\n",
    "    a += 1\n",
    "\n",
    "for i in range(10):\n",
    "    func()\n",
    "\n",
    "print(a)\n",
    "\n",
    "#\n",
    "array = [1, 2, 3, 4, 5]\n",
    "def func():\n",
    "    global array\n",
    "    array = [3, 4, 5]\n",
    "    array.append(6)\n",
    "\n",
    "func()\n",
    "print(array)"
   ]
  },
  {
   "cell_type": "markdown",
   "id": "3906bb1e",
   "metadata": {},
   "source": [
    "### 15-2. 여러 개의 반환값(packing)\n",
    "#### 파이썬에서 <mark><u>함수는 여러 개의 반환값을 가질 수 있다.</u></mark>"
   ]
  },
  {
   "cell_type": "code",
   "execution_count": 76,
   "id": "23fdd096",
   "metadata": {},
   "outputs": [
    {
     "name": "stdout",
     "output_type": "stream",
     "text": [
      "10 4 21 2.3333333333333335\n"
     ]
    }
   ],
   "source": [
    "def operator(a, b):\n",
    "    add_var = a + b\n",
    "    subtract_var = a - b\n",
    "    multiply_var = a * b\n",
    "    divide_var = a / b\n",
    "    return add_var, subtract_var, multiply_var, divide_var   # packing\n",
    "\n",
    "# unpacking: 반환 값을 특정 변수에 담는 것을 의미\n",
    "a, b, c, d = operator(7, 3)\n",
    "print(a, b, c, d)"
   ]
  },
  {
   "cell_type": "markdown",
   "id": "f5f27197",
   "metadata": {},
   "source": [
    "### 15-3. 람다 표현식(이름 없는 함수)\n",
    "#### 람다 표현식을 이용하면 함수를 간단하게 작성할 수 있다.<br> - 특정한 기능을 수행하는 함수를 한 줄에 작성할 수 있다는 점이 특징이다."
   ]
  },
  {
   "cell_type": "code",
   "execution_count": 84,
   "id": "2587bc8c",
   "metadata": {},
   "outputs": [
    {
     "name": "stdout",
     "output_type": "stream",
     "text": [
      "10\n",
      "10\n"
     ]
    }
   ],
   "source": [
    "# 일반적인 add() 메서드 사용\n",
    "def add(a, b):\n",
    "    return a + b\n",
    "\n",
    "print(add(3, 7))\n",
    "\n",
    "# 람다 표현식으로 구현한 add() 메서드\n",
    "print((lambda a, b: a + b)(3, 7))"
   ]
  },
  {
   "cell_type": "code",
   "execution_count": 81,
   "id": "49afab39",
   "metadata": {},
   "outputs": [
    {
     "name": "stdout",
     "output_type": "stream",
     "text": [
      "[('이순신', 32), ('홍길동', 50), ('아무개', 74)]\n",
      "[('이순신', 32), ('홍길동', 50), ('아무개', 74)]\n",
      "[('아무개', 74), ('홍길동', 50), ('이순신', 32)]\n"
     ]
    }
   ],
   "source": [
    "# 람다 표현식 예시: 내장 함수에서 자주 사용되는 람다 함수\n",
    "array = [('홍길동', 50), ('이순신', 32), ('아무개', 74)]\n",
    "\n",
    "def my_key(x):\n",
    "    return x[1]\n",
    "\n",
    "print(sorted(array, key=my_key))\n",
    "print(sorted(array, key=lambda x: x[1]))\n",
    "\n",
    "# 람다식 내림차순\n",
    "print(sorted(array, key=lambda x: -x[1]))"
   ]
  },
  {
   "cell_type": "code",
   "execution_count": 82,
   "id": "3a39dbff",
   "metadata": {},
   "outputs": [
    {
     "name": "stdout",
     "output_type": "stream",
     "text": [
      "[7, 9, 11, 13, 15]\n"
     ]
    }
   ],
   "source": [
    "# 람다 표현식 예시: 여러 개의 리스트에 적용\n",
    "list1 = [1, 2, 3, 4, 5]\n",
    "list2 = [6, 7, 8, 9, 10]\n",
    "\n",
    "result = map(lambda a, b: a + b, list1, list2)\n",
    "print(list(result))"
   ]
  },
  {
   "cell_type": "markdown",
   "id": "3293d5da",
   "metadata": {},
   "source": [
    "### 16. 실전에서 유용한 표준 라이브러리\n",
    "#### <mark>내장함수</mark>: 기본 입출력함수부터 정렬함수까지 기본적인 함수들을 제공한다.\n",
    "#### <mark>itertools</mark>: 파이썬에서 반복되는 형태의 데이터를 처리하기 위한 유용한 기능들을 제공한다.<br> - 특히 순열과 조합 라이브러리는 코딩 테스트에서 자주 사용된다.\n",
    "#### <mark>heapq</mark>: 힙(Heap) 자료구조를 제공한다.<br> - 일반적으로 우선순위 큐기능을 구현하기 위해 사용된다.\n",
    "#### <mark>bisect</mark>: 이진탐색(Binary Search) 기능을 제공한다.\n",
    "#### <mark>collections</mark>: 덱(deque), 카운터(Counter) 등의 유용한 자료구조를 포함한다.\n",
    "#### <mark>math</mark>: 필수적인 수학적 기능을 제공한다.<br> - 팩토리얼, 제곱근, 최대공약수(GCD), 삼각함수 관련 함수부터 파이(pi)와 같은 상수를 포함한다."
   ]
  },
  {
   "cell_type": "code",
   "execution_count": 89,
   "id": "2301f827",
   "metadata": {},
   "outputs": [
    {
     "name": "stdout",
     "output_type": "stream",
     "text": [
      "15\n",
      "2 7\n",
      "56\n",
      "[1, 4, 5, 8, 9]\n",
      "[9, 8, 5, 4, 1]\n",
      "[('이순신', 75), ('아무개', 50), ('홍길동', 35)]\n"
     ]
    }
   ],
   "source": [
    "# 자주 사용되는 내장함수\n",
    "#sum()\n",
    "result = sum([1, 2, 3, 4, 5])\n",
    "print(result)\n",
    "\n",
    "# min(), max()\n",
    "min_result = min(7, 3, 5, 2)\n",
    "max_result = max(7, 3, 5, 2)\n",
    "print(min_result, max_result)\n",
    "\n",
    "# eval() - String형식의 expression을 실행하여 반환한다.\n",
    "result = eval('(3 + 5) * 7')\n",
    "print(result)\n",
    "\n",
    "#sorted()\n",
    "result = sorted([9, 1, 8, 5, 4])\n",
    "reverse_result = sorted([9, 1, 8, 5, 4], reverse=True)\n",
    "print(result)\n",
    "print(reverse_result)\n",
    "\n",
    "#sorted() with key\n",
    "array = [('홍길동', 35), ('이순신', 75), ('아무개', 50)]\n",
    "result = sorted(array, key=lambda x: x[1], reverse=True)\n",
    "# 또는 result = sorted(array, key=lambda x: -x[1])\n",
    "print(result)"
   ]
  },
  {
   "cell_type": "markdown",
   "id": "94a2824d",
   "metadata": {},
   "source": [
    "### 16-1. 순열과 조합\n",
    "#### 순열(nPr): 서로 다른 n개에서 서로 다른 r개를 선택하여 일렬로 나열<br> - {'A', 'B', 'C'}에서 세 개를 선택하여 나열할 경우: 'ABC', 'ACB', 'BAC', 'BCA', 'CAB', 'CBA'\n",
    "#### 조합(nCr): 서로 다른 n개에서 순서에 상관없이 서로 다른 r개를 선택하는 것<br> - {'A', 'B', 'C'}에서 순서를 고려하지 않고 두 개를 뽑는 경우: 'AB', 'AC', 'BC'"
   ]
  },
  {
   "cell_type": "code",
   "execution_count": 95,
   "id": "56577197",
   "metadata": {},
   "outputs": [
    {
     "name": "stdout",
     "output_type": "stream",
     "text": [
      "[('A', 'B', 'C'), ('A', 'C', 'B'), ('B', 'A', 'C'), ('B', 'C', 'A'), ('C', 'A', 'B'), ('C', 'B', 'A')]\n",
      "[('A', 'B'), ('A', 'C'), ('B', 'C')]\n",
      "[('A', 'A'), ('A', 'B'), ('A', 'C'), ('B', 'A'), ('B', 'B'), ('B', 'C'), ('C', 'A'), ('C', 'B'), ('C', 'C')]\n",
      "[('A', 'A'), ('A', 'B'), ('A', 'C'), ('B', 'B'), ('B', 'C'), ('C', 'C')]\n"
     ]
    }
   ],
   "source": [
    "# 순열\n",
    "from itertools import permutations\n",
    "data = ['A', 'B', 'C']\n",
    "result = list(permutations(data, 3))\n",
    "print(result)\n",
    "\n",
    "# 조합\n",
    "from itertools import combinations\n",
    "data = ['A', 'B', 'C']\n",
    "result = list(combinations(data, 2))\n",
    "print(result)\n",
    "\n",
    "# 중복순열\n",
    "from itertools import product\n",
    "data = ['A', 'B', 'C']\n",
    "result = list(product(data, repeat=2))  # 2개를 뽑는 모든 순열 구하기(중복 허용)\n",
    "print(result)\n",
    "\n",
    "# 중복조합\n",
    "from itertools import combinations_with_replacement\n",
    "data = ['A', 'B', 'C']\n",
    "result = list(combinations_with_replacement(data, 2))\n",
    "print(result)"
   ]
  },
  {
   "cell_type": "markdown",
   "id": "ba0e95be",
   "metadata": {},
   "source": [
    "### 16-2. collections의 Counter\n",
    "#### 파이썬 collections 라이브러리의 Counter는 등장 횟수를 세는 기능을 제공한다.<br><br>리스트와 같은 반복가능한(iterable) 객체가 주어졌을 때 내부의 원소가 몇 번씩 등장했는 지를 알려준다."
   ]
  },
  {
   "cell_type": "code",
   "execution_count": 96,
   "id": "9249b59f",
   "metadata": {},
   "outputs": [
    {
     "name": "stdout",
     "output_type": "stream",
     "text": [
      "3\n",
      "1\n",
      "{'red': 2, 'blue': 3, 'green': 1}\n"
     ]
    }
   ],
   "source": [
    "from collections import Counter\n",
    "\n",
    "counter = Counter(['red', 'blue', 'red', 'green', 'blue', 'blue'])\n",
    "\n",
    "print(counter['blue'])  # 'blue'가 등장한 횟수 출력\n",
    "print(counter['green'])  # 'green'이 등장한 횟수 출력\n",
    "print(dict(counter))  #사전 자료형으로 반환"
   ]
  },
  {
   "cell_type": "markdown",
   "id": "6ace0dac",
   "metadata": {},
   "source": [
    "### 16-3. math의 최대 공약수와 최소 공배수"
   ]
  },
  {
   "cell_type": "code",
   "execution_count": 99,
   "id": "339a9bcb",
   "metadata": {},
   "outputs": [
    {
     "name": "stdout",
     "output_type": "stream",
     "text": [
      "7\n",
      "42\n"
     ]
    }
   ],
   "source": [
    "# 최대 공약수 - math라이브러리의 gcd()함수를 이용한다.\n",
    "import math\n",
    "\n",
    "# 최소 공배수(LCM)를 구하는 함수\n",
    "def lcm(a, b):\n",
    "    return a * b // math.gcd(a, b)\n",
    "\n",
    "a = 21\n",
    "b = 14\n",
    "\n",
    "print(math.gcd(21, 14))  # 최대 공약수(GCD) 계산\n",
    "print(lcm(21, 14))  # 최소 공배수(LCM) 계산"
   ]
  }
 ],
 "metadata": {
  "kernelspec": {
   "display_name": "Python 3",
   "language": "python",
   "name": "python3"
  },
  "language_info": {
   "codemirror_mode": {
    "name": "ipython",
    "version": 3
   },
   "file_extension": ".py",
   "mimetype": "text/x-python",
   "name": "python",
   "nbconvert_exporter": "python",
   "pygments_lexer": "ipython3",
   "version": "3.8.8"
  }
 },
 "nbformat": 4,
 "nbformat_minor": 5
}
