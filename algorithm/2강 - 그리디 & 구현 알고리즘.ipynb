{
 "cells": [
  {
   "cell_type": "markdown",
   "id": "abac66c6",
   "metadata": {},
   "source": [
    "### 1. 그리디 알고리즘(탐욕법)\n",
    "#### 그리디 알고리즘(탐욕법)은 현재 상황에서 지금 당장 좋은 것만 고르는 방법을 의미한다.<br><br>일반적인 그리디 알고리즘은 문제를 풀기 위한 최소한의 아이디어를 떠올릴 수 있는 능력을 요구한다.<br><br>그리디 해법은 그 정당성 분석이 중요하다.<br> - 단순히 가장 좋아 보이는 것을 반복적으로 선택해도 최적의 해를 구할 수 있는지 검토한다.<br><br>일반적인 상황에서 그리디 알고리즘은 최적의 해를 보장할 수 없을 때가 많다.<br><br>하지만 코딩테스트에서의 대부분 그리디 문제는 탐욕법으로 얻은 해가 최적의 해가 되는 상황에서, 이를 추론할 수 있어야 풀리도록 출제된다."
   ]
  },
  {
   "cell_type": "markdown",
   "id": "f43df7e6",
   "metadata": {},
   "source": [
    "### 1-1. 거스름 돈: 문제설명\n",
    "#### 당신은 음식점의 계산을 도와주는 점원이다.<br>카운터에는 거스름돈으로 사용할 500원, 100원, 50원, 10원짜리 동전이 무한히 존재한다고 가정한다.<br>손님에게 거슬러 주어야할 돈이 N원일 때 거슬러 주어야할 동전의 최소 개수를 구하라.<br>단, 거슬러 줘야할 돈 N은 항상 10의 배수이다."
   ]
  },
  {
   "cell_type": "markdown",
   "id": "9d4b2c02",
   "metadata": {},
   "source": [
    "### 1-1. 거스름 돈: 문제 해결 아이디어\n",
    "#### 최적의 해를 빠르게 구하기 위해서는 가장 큰 화폐 단위부터 돈을 거슬러 주면 된다.<br><br>N원을 거슬러 줘야할 때, 가장 먼저 500원으로 거슬러 줄 수 있을만큼 거슬러 준다.<br> - 이후에 100원, 50원, 10원짜리 동전을 차례대로 거슬러 줄 수 있을만큼 거슬러 준다.<br><br>N = 1,260일 때의 예시를 확인해보자.<br><br> <table><tr><td>화폐단위</td><td>500</td><td>100</td><td>50</td><td>10</td></tr><tr><td>손님이 받은 개수</td><td>2</td><td>2</td><td>1</td><td>1</td></tr>"
   ]
  },
  {
   "cell_type": "markdown",
   "id": "caf3c315",
   "metadata": {},
   "source": [
    "### 1-1. 거스름 돈: 정당성 분석\n",
    "#### 가장 큰 화폐 단위부터 돈을 거슬러 주는 것이 최적의 해를 보장하는 이유는 무엇일까?<br> - 가지고 있는 동전 중에서 <u>큰 단위가 항상 작은 단위의 배수이므로 작은 단위의 동전들을 종합해 다른 해가 나올 수 없기 때문</u>이다.<br><br>만약 800원을 거슬러 줘야하는데 화폐 단위가 500원, 400원, 100원이라면 어떻게 될까?<br>그리디 알고리즘 문제에서는 이처럼 문제 풀이를 위한 최소한의 아이디어를 떠올리고 이것이 정당한지 검토할 수 있어야한다."
   ]
  },
  {
   "cell_type": "code",
   "execution_count": 2,
   "id": "f32c0fbf",
   "metadata": {},
   "outputs": [
    {
     "name": "stdout",
     "output_type": "stream",
     "text": [
      "6\n"
     ]
    }
   ],
   "source": [
    "# 거스름 돈: 답안 예시(Python)\n",
    "n = 1260\n",
    "count = 0\n",
    "\n",
    "# 큰 단위 화폐부터 차례대로 확인하기\n",
    "array = [500, 100, 50, 10]\n",
    "\n",
    "for coin in array:\n",
    "    count += n // coin # 해당 화폐로 거슬러 줄 수 있는 동전의 개수 세기\n",
    "    n %= coin\n",
    "\n",
    "print(count)"
   ]
  },
  {
   "cell_type": "markdown",
   "id": "786692ea",
   "metadata": {},
   "source": [
    "### 1-1. 거스름 돈: 시간 복잡도 분석\n",
    "#### 화폐의 종류가 K라고 할 때, 소스코드의 시간 복잡도는 O(K)이다.<br><br>이 알고리즘의 시간 복잡도는 거슬러줘야 하는 금액과는 무관하며, 동전의 총 종류에만 영향을 받는다."
   ]
  },
  {
   "cell_type": "code",
   "execution_count": null,
   "id": "85fb0e31",
   "metadata": {},
   "outputs": [],
   "source": [
    "# 거스름 돈: 답안 예시(C++)\n",
    "\n",
    "#include <bits/stdc++.h>\n",
    "\n",
    "using namespace std;\n",
    "\n",
    "int n = 1260;\n",
    "int cnt;\n",
    "\n",
    "int coinTypes[4] = {500, 100, 50, 10};\n",
    "\n",
    "int main(void) {\n",
    "    for (int i = 0; i < 4; i++) {\n",
    "        cnt += n / coinTypes[i];\n",
    "        n %= coinTypes[i];\n",
    "    }\n",
    "    cout << cnt << '\\n';\n",
    "}"
   ]
  },
  {
   "cell_type": "code",
   "execution_count": null,
   "id": "1607f382",
   "metadata": {},
   "outputs": [],
   "source": [
    "# 거스름 돈: 답안 예시(Java)\n",
    "\n",
    "public class Main {\n",
    "    public static void main(String[] args) {\n",
    "        int n = 1260;\n",
    "        int cnt = 0;\n",
    "        int[] coinTypes = {500, 100, 50, 10};\n",
    "        \n",
    "        for (int i = 0; i < 4; i++) {\n",
    "            cnt += n / coinTypes[i];\n",
    "            n %= coinTypes[i];\n",
    "        }\n",
    "        \n",
    "        System.out.println(cnt);\n",
    "    }\n",
    "}"
   ]
  },
  {
   "cell_type": "markdown",
   "id": "9424a2ca",
   "metadata": {},
   "source": [
    "### 1-2. 1이 될 때까지: 문제설명\n",
    "#### 어떠한 수 <u>N이 1이 될 때까지</u> 다음의 두 과정 중 하나를 반복적으로 선택하여 수행하려고 한다.<br>단, 두 번째 연산은 N이 K로 나누어 떨어질 때만 선택할 수 있다.<br> - 1. N에서 1을 뺀다.<br> - 2. N을 K로 나눈다.<br><br>예를 들어 N이 17, K가 4라고 가정하자.<br>이때 1번의 과정을 한 번 수행하면 N은 16이 된다.<br>이후에 2번의 과정을 두 번 수행하면 N은 1이 된다.<br>결과적으로 이 경우 전체 과정을 실행한 횟수는 3이 된다.<br>이는 N을 1로 만드는 최소 횟수이다.<br><br>N과 K가 주어질 때 N이 1이 될 때까지 1번 혹은 2번의 과정을 수행해야 하는 최소 횟수를 구하는 프로그램을 작성하라.<br><hr><br>난이도 下 | 풀이시간 15분 | 시간제한 2초 | 메모리 제한 128MB<br><br>\\*입력조건:<br>첫째 줄에 N(1<= N <= 100,000)과 K(2 <= K <= 100,000)가 공백을 기준으로 하여 각각 자연수로 주어진다.<br><br>\\*출력조건:<br>첫째 줄에 N이 1이 될 때까지 1번 혹은 2번의 과정을 수행해야하는 횟수의 최솟값을 출력한다.<br><br>\\*입력예시:<br>25 5<br><br>\\*출력예시:<br>2"
   ]
  },
  {
   "cell_type": "code",
   "execution_count": 11,
   "id": "7d65ca1c",
   "metadata": {},
   "outputs": [
    {
     "name": "stdout",
     "output_type": "stream",
     "text": [
      "25 5\n",
      "2\n"
     ]
    }
   ],
   "source": [
    "# 풀이 전 혼자 풀어보기\n",
    "n, k = map(int, input().split())\n",
    "cnt = 0\n",
    "\n",
    "while n > 1:\n",
    "    if n % k == 0:\n",
    "        n //= k\n",
    "        cnt += 1\n",
    "    else:\n",
    "        n -= 1\n",
    "        cnt += 1\n",
    "\n",
    "print(cnt)"
   ]
  },
  {
   "cell_type": "markdown",
   "id": "9c6244aa",
   "metadata": {},
   "source": [
    "### 1-2. 1이 될 때까지: 문제 해결 아이디어\n",
    "#### 주어진 N에 대하여 최대한 많이 나누기를 수행하면 된다.<br><br>N의 값을 줄일 때 2이상의 수로 나누는 작업이 1을 빼는 작업보다 수를 훨씬 많이 줄일 수 있다.<br><br>예를 들어 N = 25, K = 3일 때는 다음과 같다.<br><br><table><tr><td>단계</td><td>연산 과정</td><td>N의 값</td></tr><tr><td>0단계(초기 단계)</td><td></td><td>N = 25</td></tr><tr><td>1단계</td><td>N에서 1빼기</td><td>N = 24</td></tr><tr><td>2단계</td><td>N을 K로 나누기</td><td>N = 8</td></tr><tr><td>3단계</td><td>N에서 1빼기</td><td>N = 7</td></tr><tr><td>4단계</td><td>N에서 1빼기</td><td>N = 6</td></tr><tr><td>5단계</td><td>N을 K로 나누기</td><td>N = 2</td></tr><tr><td>6단계</td><td>N에서 1빼기</td><td>N = 1</td></tr>"
   ]
  },
  {
   "cell_type": "markdown",
   "id": "5646e5df",
   "metadata": {},
   "source": [
    "### 1-2. 1이 될 때까지: 정당성 분석\n",
    "#### <u>가능하면 최대한 많이 나누는 작업</u>이 최적의 해를 항상 보장할 수 있을까?<br><br>N이 아무리 큰 수여도, K로 계속 나눈다면 기하급수적으로 빠르게 줄 수 있다.<br><br>다시 말해 K가 2이상이기만 하면, K로 나누는 것이 1을 빼는 것보다 항상 빠르게 N을 줄일 수 있다.<br> - 또한 N은 항상 1에 도달하게 된다.(최적의 해 성립)"
   ]
  },
  {
   "cell_type": "code",
   "execution_count": 24,
   "id": "563f0e60",
   "metadata": {},
   "outputs": [
    {
     "name": "stdout",
     "output_type": "stream",
     "text": [
      "15 4\n",
      "6\n"
     ]
    }
   ],
   "source": [
    "# 1이 될 때까지: 답안 예시(Python)\n",
    "\n",
    "# N, K를 공백 기준으로 구분하여 입력받기\n",
    "n, k = map(int, input().split())\n",
    "\n",
    "result = 0\n",
    "\n",
    "# 로그 시간복잡도 - ★내가 푼 풀이보다 코드가 빨리 실행된다.\n",
    "while True:\n",
    "    # N이 K로 나누어 떨어지는 수가 될 때까지 빼기\n",
    "    target = (n // k) * k\n",
    "    result += (n - target)\n",
    "    n = target\n",
    "    \n",
    "    # N이 K보다 작을 때(더 이상 나눌 수 없을 때) 반복문 탈출\n",
    "    if n < k:\n",
    "        break\n",
    "    # K로 나누기\n",
    "    result += 1\n",
    "    n //= k\n",
    "\n",
    "# n = 0인 상태이기 때문에 result 값에서 -1을 해서 n = 1일 때를 구한다.\n",
    "result += (n - 1)\n",
    "print(result)"
   ]
  },
  {
   "cell_type": "code",
   "execution_count": 13,
   "id": "f1391566",
   "metadata": {},
   "outputs": [
    {
     "name": "stdout",
     "output_type": "stream",
     "text": [
      "0\n"
     ]
    }
   ],
   "source": [
    "# 1이 될 때까지: 답안 예시(C++)\n",
    "\n",
    "#include <bits/stdc++.h>\n",
    "\n",
    "using namespace std;\n",
    "\n",
    "int n, k;\n",
    "int result;\n",
    "\n",
    "int main(void) {\n",
    "    cin >> n >> k;\n",
    "    while (true) {\n",
    "        #// N이 K로 나누어 떨어지는 수가 될 때까지 빼기\n",
    "        int target = (n / k) * k;\n",
    "        result += (n - target);\n",
    "        n = target;\n",
    "        #// N이 K보다 작을 때(더 이상 나눌 수 없을 때) 반복문 탈출\n",
    "        if (n < k) break;\n",
    "        #// K로 나누기\n",
    "        result++;\n",
    "        n /= k;\n",
    "    }\n",
    "    #// n = 0인 상태이기 때문에 result 값에서 -1을 해서 n = 1일 때를 구한다.\n",
    "    result += (n - 1);\n",
    "    cout << result << '\\n';\n",
    "}"
   ]
  },
  {
   "cell_type": "code",
   "execution_count": null,
   "id": "c0cd2b89",
   "metadata": {},
   "outputs": [],
   "source": [
    "# 1이 될 때까지: 답안 예시(Java)\n",
    "\n",
    "import java.util.*;\n",
    "public class Main {\n",
    "    public static void main(String[] args) {\n",
    "        Scanner sc = new Scanner(System.in);\n",
    "        \n",
    "        #// N, K를 공백을 기준으로 구분하여 입력받기\n",
    "        int n = sc.nextInt();\n",
    "        int k = sc.nextInt();\n",
    "        int result = 0;\n",
    "        \n",
    "        while (true) {\n",
    "            #// N이 K로 나누어 떨어지는 수가 될 때까지 빼기\n",
    "            int target = (n / k) * k;\n",
    "            result += (n - target);\n",
    "            n = target;\n",
    "            #// N이 K보다 작을 때(더 이상 나눌 수 없을 때) 반복문 탈출\n",
    "            if (n < k) break;\n",
    "            #// K로 나누기\n",
    "            result += 1;\n",
    "            n /= k;\n",
    "        }\n",
    "        #// n = 0인 상태이기 때문에 result 값에서 -1을 해서 n = 1일 때를 구한다.\n",
    "        result += (n - 1);\n",
    "        System.out.println(result);\n",
    "    }\n",
    "}"
   ]
  },
  {
   "cell_type": "markdown",
   "id": "c0d4ba00",
   "metadata": {},
   "source": [
    "### 1-3. 곱하기 혹은 더하기: 문제설명\n",
    "#### 각 자리가 숫자(0부터 9)로만 이루어진 문자열 S가 주어졌을 때, 왼쪽부터 오른쪽으로 하나씩 모든 숫자를 확인하며 숫자 사이에 'x' 혹인 '+'연산자를 넣어 결과적으로 <u>만들어질 수 있는 가장 큰 수를 구하는 프로그램</u>을 작성하라.<br><br>단, +보다 x를 먼저 계산하는 일반적인 방식과는 달리, <u>모든 연산은 왼쪽에서부터 순서대로</u> 이루어진다고 가정한다.<br><br>예를 들어 02984라는 문자열로 만들 수 있는 가장 큰 수는 ((((0 + 2) x 9) x 8) x 4) = 576이다.<br>또한 만들어질 수 있는 가장 큰 수는 항상 20억 이하의 정수가 되도록 입력이 주어진다.<br><hr><br>난이도 下 | 풀이시간 30분 | 시간제한 1초 | 메모리제한 128MB | 기출 Facebook 인터뷰<br>\\*입력조건: 첫째 줄에 여러 개의 숫자로 구성된 하나의 문자열S가 주어진다.(1 <= S의 길이 <= 20)<br>\\*출력조건: 첫째 줄에 만들어질 수 있는 가장 큰 수를 출력한다.<br><br>\\*입력 예시 1:<br>02984<br><br>\\*출력 예시1:<br>576<br><br>\\*입력 예시2:<br>567<br><br>\\*출력 예시2:<br>210"
   ]
  },
  {
   "cell_type": "code",
   "execution_count": 51,
   "id": "4868a638",
   "metadata": {},
   "outputs": [
    {
     "name": "stdout",
     "output_type": "stream",
     "text": [
      "020984\n",
      "0 + 2 + 0 + 9 x 8 x 4 = 352\n"
     ]
    }
   ],
   "source": [
    "# 풀이 전 혼자 풀어보기 - 오답(반례: 020984)\n",
    "s = input()\n",
    "result = int(s[0])\n",
    "print(f'{s[0]}', end=' ')\n",
    "\n",
    "for i, v in enumerate(s):\n",
    "    if i == 0:\n",
    "        continue\n",
    "    if int(v) == 0 or int(v) == 1 or s[i - 1] == str(0):\n",
    "        print(f'+ {v}', end=' ')\n",
    "        result += int(v)\n",
    "    else:\n",
    "        print(f'x {v}', end=' ')\n",
    "        result *= int(v)\n",
    "\n",
    "print(f'= {result}')"
   ]
  },
  {
   "cell_type": "markdown",
   "id": "fc34decf",
   "metadata": {},
   "source": [
    "### 1-3. 곱하기 혹은 더하기: 문제 해결 아이디어\n",
    "#### 대부분의 경우'+'보다는 'x'가 더 값을 크게 만든다.<br> - 예를 들어 5 + 6 = 11이고, 5 x 6 = 30이다.<br><br>다만 두 수 중에서 하나라도 '0'혹은 '1'인 경우, 곱하기보다는 더하기를 수행하는 것이 효율적이다.<br><br>따라서 <u>두 수에 대하여 연산을 수행할 때, 두 수 중에서 하나라도 1이하인 경우에는 더하며, 두 수가 모두 2이상인 경우에는 곱하면 정답</u>이다."
   ]
  },
  {
   "cell_type": "code",
   "execution_count": 50,
   "id": "eb7bb78e",
   "metadata": {},
   "outputs": [
    {
     "name": "stdout",
     "output_type": "stream",
     "text": [
      "020984\n",
      "576\n"
     ]
    }
   ],
   "source": [
    "# 곱하기 혹은 더하기: 답안 예시(Python)\n",
    "data = input()\n",
    "\n",
    "# 첫 번째 문자를 숫자로 변경하여 대입\n",
    "result = int(data[0])\n",
    "\n",
    "for i in range(1, len(data)):\n",
    "    # 두 수 중에서 하나라도 '0' 혹은 '1'인 경우, 곱하기보다는 더하기 수행\n",
    "    num = int(data[i])\n",
    "    if num <= 1 or result <= 1:\n",
    "        result += num\n",
    "    else:\n",
    "        result *= num\n",
    "\n",
    "print(result)"
   ]
  },
  {
   "cell_type": "code",
   "execution_count": 52,
   "id": "5d0ae3ee",
   "metadata": {},
   "outputs": [],
   "source": [
    "# 곱하기 혹은 더하기: 답안 예시(C++)\n",
    "\n",
    "#include <bits/stdc++.h>\n",
    "\n",
    "using namespace std;\n",
    "\n",
    "string str;\n",
    "\n",
    "int main(void) {\n",
    "    cin >> str;\n",
    "    \n",
    "    #// 첫 번째 문자를 숫자로 변경한 값을 대입\n",
    "    long long result = str[0] - '0';   #// '0'의 아스키코드값을 빼줌\n",
    "    \n",
    "    for (int i = 1; i < str.size(); i++) {\n",
    "        #// 두 수 중에서 하나라도 '0' 혹은 '1'인 경우, 곱하기보다는 더하기 수행\n",
    "        int num = str[i] - '0';\n",
    "        if (num <= 1 || result <= 1) result += num;\n",
    "        else result += num;\n",
    "    }\n",
    "    \n",
    "    cout << result << '\\n';\n",
    "}"
   ]
  },
  {
   "cell_type": "code",
   "execution_count": null,
   "id": "6dcab243",
   "metadata": {},
   "outputs": [],
   "source": [
    "# 곱하기 혹은 더하기: 답안 예시(Java)\n",
    "import java.util.*;\n",
    "\n",
    "public class Main{\n",
    "    public static void main(String[] args) {\n",
    "        Scanner sc = new Scanner(System.in);\n",
    "        String str = sc.next();\n",
    "        \n",
    "        #// 첫 번째 문자를 숫자로 변경한 값을 대입\n",
    "        long result = str.charAt(0) - '0';  #// '0'의 아스키코드값을 빼줌\n",
    "\n",
    "        for (int i = 1; i < str.length(); i++) {\n",
    "            #// 두 수 중에서 하나라도 '0' 혹은 '1'인 경우, 곱하기보다는 더하기 수행\n",
    "            int num = str.charAt(i) - '0';\n",
    "            if (num <= 1 || result <= 1) {\n",
    "                result += num;\n",
    "            }\n",
    "            else {\n",
    "                result += num;\n",
    "            }\n",
    "        }\n",
    "        System.out.println(result);\n",
    "    }\n",
    "}"
   ]
  },
  {
   "cell_type": "markdown",
   "id": "78579bec",
   "metadata": {},
   "source": [
    "### 1-4. 모험가 길드: 문제설명\n",
    "#### 한 마을에 모험가가 N명 있다. 모험가 길드에서는 N명의 모험가를 대상으로 '공포도'를 측정했는데, '공포도'가 높은 모험가는 쉽게 공포를 느껴 위험 상황에서 제대로 대처할 능력이 떨어진다.<br><br>모험가 길드장인 동빈이는 모험가 그룹을 안전하게 구성하고자 <u>공포도가 X인 모험가는 반드시 X명 이상으로 구성한 모험가 그룹에 참여</u>해야 여행을 떠날 수 있도록 규정했다.<br><br>동빈이는 최대 몇 개의 모험가 그룹을 만들 수 있는지 궁금하다. N명의 모험가에 대한 정보가 주어졌을 때, 여행을 떠날 수 있는 그룹 수의 최댓값을 구하는 프로그램을 작성하라.<br><br>예를 들어 N = 5이고, 각 모험가의 공포도가 다음과 같다고 가정하자.<br><br>2 3 1 2 2<br><br>이 경우 그룹 1에 공포도가 1, 2, 3인 모험가를 한 명 씩 넣고, 그룹 2에 공포도가 2인 남은 두 명을 넣게 되면 총 2개의 그룹을 만들 수 있다.<br><br>또한 몇 명의 모험가는 마을에 그대로 남아 있어도 되기 때문에, 모든 모험가를 특정한 그룹에 넣을 필요는 없다.<br><hr><br>난이도 下 | 풀이시간 30분 | 시간제한 1초 | 메모리 제한 128MB | 기출 <mark>핵심유형</mark><br><br>\\*입력조건:<br> - 첫째 줄에 모험가의 수 N이 주어진다.(1 <= N <= 100,000)<br> - 둘째 줄에 각 모험가의 공포도의 값을 N 이하의 자연수로 주어지며, 각 자연수는 공백으로 구분한다.<br><br>\\*출력조건:<br>여행을 떠날 수 있는 그룹 수의 최댓값을 출력한다.<br><br>\\*입력 예시:<br>5<br>2 3 1 2 2<br><br>\\*출력 예시<br>2"
   ]
  },
  {
   "cell_type": "code",
   "execution_count": 65,
   "id": "615efa13",
   "metadata": {},
   "outputs": [
    {
     "name": "stdout",
     "output_type": "stream",
     "text": [
      "7\n",
      "4 5 1 2 3 2 1\n",
      "4\n"
     ]
    }
   ],
   "source": [
    "# 풀이 전 혼자 풀어보기 - 오답(반례: n=7, people=4 5 1 2 3 2 1)\n",
    "n = int(input())\n",
    "people = list(map(int, input().split()))\n",
    "cnt = 0\n",
    "\n",
    "people.sort()\n",
    "\n",
    "for person in people:\n",
    "    if n > person:\n",
    "        n -= person\n",
    "        cnt += 1\n",
    "    else:\n",
    "        break\n",
    "\n",
    "print(cnt)"
   ]
  },
  {
   "cell_type": "markdown",
   "id": "75dabb7b",
   "metadata": {},
   "source": [
    "### 1-4. 모험가 길드: 문제 해결 아이디어\n",
    "#### 오름차순 정렬 이후에 공포도가 가장 낮은 모험가부터 하나씩 확인한다.<br><br>앞에서부터 공포도를 하나씩 확인하며 <u>'현재 그룹에 포함된 모험가의 수'가 '현재 확인하고 있는 공포도'보다 크거나 같다면 이를 그룹으로 설정</u>하면 된다.<br><br>이러한 방법을 이용하면 공포도가 오름차순으로 정렬되어 있다는 점에서, 항상 최소한의 모험가의 수만 포함하여 그룹을 결성하게 된다."
   ]
  },
  {
   "cell_type": "code",
   "execution_count": 64,
   "id": "c7058a64",
   "metadata": {},
   "outputs": [
    {
     "name": "stdout",
     "output_type": "stream",
     "text": [
      "7\n",
      "4 5 1 2 3 2 1\n",
      "3\n"
     ]
    }
   ],
   "source": [
    "# ★★모험가 길드: 답안 예시(Python)\n",
    "n = int(input())\n",
    "data = list(map(int, input().split()))\n",
    "data.sort()\n",
    "\n",
    "result = 0  # 총 그룹의 수\n",
    "count = 0  # 현재 그룹에 포함된 모험가의 수\n",
    "\n",
    "for i in data:  # 공포도를 낮은 것부터 하나씩 확인하며\n",
    "    count += 1  # 현재 그룹에 해당 모험가를 포함시키기\n",
    "    if count >= i:  # 현재 그룹에 포함된 모험가의 수가 현재의 공포도 이상이라면, 그룹 결성\n",
    "        result += 1  # 총 그룹의 수 증가시키기\n",
    "        count = 0  # 현재 그룹에 포함된 모험가의 수 초기화\n",
    "\n",
    "print(result)  # 총 그룹의 수 출력"
   ]
  },
  {
   "cell_type": "code",
   "execution_count": null,
   "id": "72799fb3",
   "metadata": {},
   "outputs": [],
   "source": [
    "# 모험가 길드: 답안 예시(C++)\n",
    "\n",
    "#include <bits/stdc++.h>\n",
    "\n",
    "using namespace std;\n",
    "\n",
    "int n;\n",
    "vector<int> arr;\n",
    "\n",
    "int main(void) {\n",
    "    cin >> n;\n",
    "    for (int i = 0; i < n; i++) {\n",
    "        int x;\n",
    "        cin >> x;\n",
    "        arr.push_back(x);\n",
    "    }\n",
    "    sort(arr.begin(), arr.end());\n",
    "    \n",
    "    int result = 0;  #// 총 그룹의 수\n",
    "    int cnt = 0;  #// 현재 그룹에 포함된 모험가의 수\n",
    "    for (int i = 0; i < n; i++) {  #// 공포도를 낮은 것부터 하나씩 확인하며\n",
    "        cnt += 1;  #// 현재 그룹에 해당 모험가를 포함시키기\n",
    "        if (cnt >= arr[i]) {  #// 현재 그룹에 포함된 모험가의 수가 현재의 공포도 이상이라면, 그룹 결성\n",
    "            result += 1;  #// 총 그룹의 수 증가시키기\n",
    "            cnt = 0;  #// 현재 그룹에 포함된 모험가의 수 초기화\n",
    "        }\n",
    "    }\n",
    "    cout << result << '\\n'; #// 총 그룹의 수 출력\n",
    "}"
   ]
  },
  {
   "cell_type": "code",
   "execution_count": null,
   "id": "af275f66",
   "metadata": {},
   "outputs": [],
   "source": [
    "# 모험가 길드: 답안 예시(Java)\n",
    "import java.util.*;\n",
    "\n",
    "public class Main {\n",
    "    public static int n;\n",
    "    public static ArrayList<Integer> arrayList = new ArrayList<>();\n",
    "    \n",
    "    public static void main(String[] args) {\n",
    "        Scanner sc = new Scanner(System.in);\n",
    "        n = sc.nextInt();\n",
    "        \n",
    "        for (int i = 0; i < n; i++) {\n",
    "            arrayList.add(sc.nextInt());\n",
    "        }\n",
    "        Collections.sort(arrayList);\n",
    "        \n",
    "        int result = 0;  #// 총 그룹의 수\n",
    "        int cnt = 0;  #// 현재 그룹에 포함된 모험가의 수\n",
    "        for (int i = 0; i < n; i++) {  #// 공포도를 낮은 것부터 하나씩 확인하며\n",
    "            cnt += 1;  #// 현재 그룹에 해당 모험가를 포함시키기\n",
    "            if (cnt >= arrayList.get(i)) {  #// 현재 그룹에 포함된 모험가의 수가 현재의 공포도 이상이라면, 그룹 결성\n",
    "                result += 1;  #// 총 그룹의 수 증가시키기\n",
    "                cnt = 0;  #// 현재 그룹에 포함된 모험가의 수 초기화\n",
    "            }\n",
    "        }\n",
    "        System.out.println(result);\n",
    "    }\n",
    "}"
   ]
  },
  {
   "cell_type": "markdown",
   "id": "80a56c0a",
   "metadata": {},
   "source": [
    "### 2. 구현: 시물레이션과 완전탐색에 초첨\n",
    "#### 구현(Implementation)이란, <u>머릿속에 알고 있는 알고리즘을 소스코드로 바꾸는 과정</u>이다.<br><br>흔히 알고리즘 대회에서 구현 유형의 문제란 무엇을 의미할까?<br> - <u>풀이를 떠올리는 것은 쉽지만 소스코드로 옮기기 어려운 문제</u>를 지칭한다.<br><br>구현 유형의 예시는 다음과 같다.<br> - 알고리즘은 간단한데 코드가 지나칠 만큼 길어지는 문제<br> - 실수 연산을 다루고, 특정 소수점 자리까지 출력해야 하는 문제<br> - 문자열을 특정한 기준에 따라서 끊어 처리해야하는 문제<br> - 적절한 라이브러리를 찾아서 사용해야 하는 문제"
   ]
  },
  {
   "cell_type": "markdown",
   "id": "ca7dde3a",
   "metadata": {},
   "source": [
    "#### 일반적으로 알고리즘 문제에서의 2차원 공간은 행렬(Matrix)의 의미로 사용된다."
   ]
  },
  {
   "cell_type": "code",
   "execution_count": 66,
   "id": "5f2dc5f2",
   "metadata": {},
   "outputs": [
    {
     "name": "stdout",
     "output_type": "stream",
     "text": [
      "( 0 , 0 ) ( 0 , 1 ) ( 0 , 2 ) ( 0 , 3 ) ( 0 , 4 ) \n",
      "( 1 , 0 ) ( 1 , 1 ) ( 1 , 2 ) ( 1 , 3 ) ( 1 , 4 ) \n",
      "( 2 , 0 ) ( 2 , 1 ) ( 2 , 2 ) ( 2 , 3 ) ( 2 , 4 ) \n",
      "( 3 , 0 ) ( 3 , 1 ) ( 3 , 2 ) ( 3 , 3 ) ( 3 , 4 ) \n",
      "( 4 , 0 ) ( 4 , 1 ) ( 4 , 2 ) ( 4 , 3 ) ( 4 , 4 ) \n"
     ]
    }
   ],
   "source": [
    "for i in range(5):\n",
    "    for j in range(5):\n",
    "        print('(', i, ',', j, ')', end=' ')\n",
    "    print()"
   ]
  },
  {
   "cell_type": "markdown",
   "id": "d8adaaa9",
   "metadata": {},
   "source": [
    "#### 시물레이션 및 완전 탐색 문제에서는 <u>2차원 공간에서의 <mark>방향 벡터</mark>가 자주 활용</u>된다.<br>![nn](./2강.png)"
   ]
  },
  {
   "cell_type": "code",
   "execution_count": 67,
   "id": "b0acaebb",
   "metadata": {},
   "outputs": [
    {
     "name": "stdout",
     "output_type": "stream",
     "text": [
      "2 3\n",
      "1 2\n",
      "2 1\n",
      "3 2\n"
     ]
    }
   ],
   "source": [
    "# 동, 북, 서, 남\n",
    "dx = [0, -1, 0, 1]\n",
    "dy = [1, 0, -1, 0]\n",
    "\n",
    "#현재 위치\n",
    "x, y = 2, 2\n",
    "\n",
    "for i in range(4):\n",
    "    # 다음 위치\n",
    "    nx = x + dx[i]\n",
    "    ny = y + dy[i]\n",
    "    print(nx, ny)"
   ]
  },
  {
   "cell_type": "markdown",
   "id": "1cd07c84",
   "metadata": {},
   "source": [
    "### 2-1. 상하좌우: 문제설명\n",
    "#### 여행가 A는 N x N크기의 정사각형 공간 위에 서 있다.<br>이 공간은 1 x 1크기의 정사각형으로 나누어져 있다.<br>가장 왼쪽 위 좌표는 (1, 1)이며, 가장 오른쪽 아래 좌표는 (N, N)에 해당한다.<br>여행가 A는 상, 하, 좌, 우 방향으로 이동할 수 있으며, 시작 좌표는 항상 (1, 1)이다.<br>우리 앞에는 여행가 A가 이동할 계획이 적힌 계획서가 놓여 있다.<br><br>계획서에는 하나의 줄에 띄어쓰기를 기준으로 하여 L, R, U, D 중 하나의 문자가 반복적으로 적혀있다. 각 문자의 의미는 다음과 같다.<br> - L: 왼쪽으로 한 칸 이동<br> - R: 오른쪽으로 한 칸 이동<br> - U: 위로 한 칸 이동<br> - D: 아래로 한 칸 이동<br><br>이때 여행가 A가 N x N크기의 정사각형 공간을 벗어나는 움직임은 무시된다. 예를 들어(1, 1)의 위치에서 L 혹은 U를 만나면 무시된다. 다음은 N = 5인 지도와 계획서이다.<br>![nn](./2강_상하좌우.png)<br><hr><br>난이도 下 | 풀이시간 15분 | 시간제한 2초 | 메모리제한 128MB<br><br>\\*입력조건:<br> - 첫째 줄에 공간의 크기를 나타내는 N이 주어진다.(1 <= N <= 100)<br> - 둘째 줄에 여행가 A가 이동할 계획서 내용이 주어진다.(1 <= 이동횟수 <= 100)<br><br>\\*출력조건:<br> - 첫째 줄에 여행가 A가 최종적으로 도착할 지점의 좌표 (X, Y)를 공백을 기준으로 구분하여 출력한다.<br><br>\\*입력예시:<br>5<br>R R R U D D<br><br>\\*출력예시:<br>3 4"
   ]
  },
  {
   "cell_type": "code",
   "execution_count": 74,
   "id": "a588e248",
   "metadata": {},
   "outputs": [
    {
     "name": "stdout",
     "output_type": "stream",
     "text": [
      "5\n",
      "R R R U D D\n",
      "3 4\n"
     ]
    }
   ],
   "source": [
    "# 풀이 전 혼자 풀어보기\n",
    "\n",
    "# 동 서 남 북\n",
    "dx = [0, 0, 1, -1]\n",
    "dy = [1, -1, 0, 0]\n",
    "\n",
    "# 현재 위치\n",
    "x, y = 1, 1\n",
    "\n",
    "n = int(input())\n",
    "a = input().split()\n",
    "\n",
    "for i in range(len(a)):\n",
    "    if y < n and a[i] == 'R':\n",
    "        x += dx[0]\n",
    "        y += dy[0]\n",
    "        continue\n",
    "    elif 1 < y and a[i] == 'L':\n",
    "        x += dx[1]\n",
    "        y += dy[1]\n",
    "        continue\n",
    "    elif x < n and a[i] == 'D':\n",
    "        x += dx[2]\n",
    "        y += dy[2]\n",
    "        continue\n",
    "    elif 1 < x and a[i] == 'U':\n",
    "        x += dx[3]\n",
    "        y += dy[3]\n",
    "        continue\n",
    "    else:\n",
    "        continue\n",
    "\n",
    "print(x, y)"
   ]
  },
  {
   "cell_type": "markdown",
   "id": "6f548e88",
   "metadata": {},
   "source": [
    "### 2-1. 상하좌우: 문제 해결 아이디어\n",
    "#### 이 문제는 요구사항대로 충실히 구현하면 되는 문제이다.<br><br>일련의 명령에 따라서 개체를 차례대로 이동시킨다는 점에서 <u>시뮬레이션(Simulation) 유형</u>으로도 분류되며 구현이 중요한 대표적인 문제 유형이다.<br><br> - 다만, 알고리즘 교재나 문제 풀이 사이트에 따라서 다르게 일컬을 수 있으므로,<br><br>코딩테스트에서의 <mark>시뮬레이션 유형, 구현 유형, 완전 탐색 유형은 서로 유사한 점이 많다</mark>는 정도로만 기억하자."
   ]
  },
  {
   "cell_type": "code",
   "execution_count": null,
   "id": "03c56532",
   "metadata": {},
   "outputs": [],
   "source": [
    "# 상하좌우: 답안 예시(Python)\n",
    "\n",
    "# N 입력 받기\n",
    "n = int(input())\n",
    "x, y = 1, 1\n",
    "plans = input().split()\n",
    "\n",
    "# L, R, U, D에 따른 이동 방향\n",
    "dx = [0, 0, -1, 1]\n",
    "dy = [-1, 1, 0, 0]\n",
    "move_types = ['L', 'R', 'U', 'D']\n",
    "\n",
    "# 이동 계획을 하나씩 확인하기\n",
    "for plan in plans:\n",
    "    # 이동 후 좌표 구하기\n",
    "    for i in range(len(move_types)):\n",
    "        if plan == move_types[i]:\n",
    "            nx = x + dx[i]\n",
    "            ny = y + dy[i]\n",
    "        # 공간을 벗어나는 경우 무시\n",
    "        if nx < 1 or ny < 1 or nx > n or ny > n:\n",
    "            continue\n",
    "        # 이동 수행\n",
    "        x, y = nx, ny\n",
    "print(x, y)"
   ]
  },
  {
   "cell_type": "code",
   "execution_count": null,
   "id": "fd29bf04",
   "metadata": {},
   "outputs": [],
   "source": [
    "# 상하좌우: 답안 예시(C++)\n",
    "\n",
    "#include <bits/stdc++.h>\n",
    "\n",
    "using namespace std;\n",
    "\n",
    "int n;\n",
    "string plans;\n",
    "int x = 1, y = 1;\n",
    "\n",
    "#// L, R ,U, D에 따른 이동 방향\n",
    "int dx[4] = {0, 0, -1, 1};\n",
    "int dy[4] = {-1, 1, 0, 0};\n",
    "char moveTypes[4] = {'L', 'R', 'U', 'D'};\n",
    "\n",
    "int main(void) {\n",
    "    cin >> n;\n",
    "    cin.ignore(); #// 버퍼 비우기\n",
    "    getline(cin, plans);\n",
    "    #// 이동 계획을 하나씩 확인하기\n",
    "    for (int i = 0; i < plans.size(); i++) {\n",
    "        char plan = plans[i];\n",
    "        #// 이동 후 좌표 구하기\n",
    "        int nx = -1, ny = -1;\n",
    "        for (int j = 0; j < 4; j++) {\n",
    "            if (plan == moveTypes[j]) {\n",
    "                nx = x + dx[j];\n",
    "                ny = y + dy[j];\n",
    "            }\n",
    "        }\n",
    "        #// 공간을 벗어나는 경우 무시\n",
    "        if (nx < 1 || ny < 1 || nx > n || ny > n) continue;\n",
    "        #// 이동 수행\n",
    "        x = nx;\n",
    "        y = ny;\n",
    "    }\n",
    "    cout << x << ' ' << y << '\\n';\n",
    "    return 0;\n",
    "}"
   ]
  },
  {
   "cell_type": "code",
   "execution_count": null,
   "id": "22a24fec",
   "metadata": {},
   "outputs": [],
   "source": [
    "# 상하좌우: 답안 예시(Java) - 깃허브 참고"
   ]
  },
  {
   "cell_type": "markdown",
   "id": "5afd7f48",
   "metadata": {},
   "source": [
    "### 2-2. 시각: 문제설명\n",
    "#### 정수 N이 입력되면 00시 00분 00초부터 N시 59분 59초까지의 <u>모든 시각 중에서 3이 하나라도 포함되는 모든 경우의 수를 구하는 프로그램을 작성</u>하라.<br><br>예를 들어 1을 입력했을 때 다음은 3이 하나라도 포함되어 있으므로 <u>세어야 하는 시각</u>이다.<br> - 00시 00분 03초<br> - 00시 13분 30초<br><br>반면에 다음은 3이 하나도 포함되어 있지 않으므로 <u>세면 안 되는 시각</u>이다.<br> - 00시 02분 55초<br> - 01시 27분 45초<br><hr><br>난이도 下 | 풀이시간 15분 | 시간제한 2초 | 메모리제한 128MB<br><br>\\*입력조건:<br> - 첫째 줄에 정수 N이 입력된다.(0 <= N <= 23)<br><br>\\*출력조건:<br> - 00시 00분 00초부터 N시 59분 59초까지의 모든 시각 중에서 3이 하나라도 포함되는 모든 경우의 수를 출력한다.<br><br>\\*입력예시:<br>5<br><br>\\*출력예시:<br>11475"
   ]
  },
  {
   "cell_type": "code",
   "execution_count": 105,
   "id": "70f5ea51",
   "metadata": {},
   "outputs": [
    {
     "name": "stdout",
     "output_type": "stream",
     "text": [
      "5\n",
      "11475\n"
     ]
    }
   ],
   "source": [
    "# 풀이 전 혼자 풀어보기 - 시간초과 & 오답(30초대와 30분대 빼먹었었음)\n",
    "\n",
    "n = int(input())\n",
    "result = 0\n",
    "for i in range(n+1):\n",
    "    if i > 0 and i % 3 == 0:\n",
    "        result += 60 * 60\n",
    "        continue\n",
    "    else:\n",
    "        # 00분 00초 ~ 59분 59초 중 분에 3이 안 들어고 초에 들어간 경우(30초 대 제외)\n",
    "        # 분에 3이 안 들어가고 30초대인 경우\n",
    "        # 분에 3이 들어간 경우(30분 대 제외)\n",
    "        # 30분대\n",
    "        result += ((60 - 15) * 5 + (60 - 15) * 10 + 5 * 60 + 10 * 60)\n",
    "    \n",
    "print(result)"
   ]
  },
  {
   "cell_type": "markdown",
   "id": "454ec8f3",
   "metadata": {},
   "source": [
    "### 2-2. 시각: 문제 해결 아이디어\n",
    "#### 이 문제는 가능한 모든 시각의 경우를 하나씩 모두 세서 풀 수 있는 문제이다.<br><br>하루는 86,400초이므로, 00시 00분 00초부터 23시 59분 59초까지의 모든 경우는 86,400가지이다.<br> - 24 * 60 * 60 = 86,400<br><br>따라서 단순히 시각을 1씩 증가시키면서 3이 하나라도 포함되어 있는지를 확인하면 된다.<br><br>이러한 유형은 완전탐색(Brute Forcing)문제 유형이라고 불린다.<br> - <u>가능한 경우의 수를 모두 검색해보는 탐색방법</u>을 의미한다."
   ]
  },
  {
   "cell_type": "code",
   "execution_count": 106,
   "id": "b80e719f",
   "metadata": {},
   "outputs": [
    {
     "name": "stdout",
     "output_type": "stream",
     "text": [
      "5\n",
      "11475\n"
     ]
    }
   ],
   "source": [
    "# 시각: 답안 예시(Python)\n",
    "\n",
    "# H 입력 받기\n",
    "h = int(input())\n",
    "\n",
    "count = 0\n",
    "for i in range(h + 1):\n",
    "    for j in range(60):\n",
    "        for k in range(60):\n",
    "            # 매 시각 안에 '3'이 포함되어 있다면 카운트 증가\n",
    "            if '3' in str(i) + str(j) + str(k):\n",
    "                count += 1\n",
    "                \n",
    "print(count)"
   ]
  },
  {
   "cell_type": "code",
   "execution_count": null,
   "id": "6e72fed5",
   "metadata": {},
   "outputs": [],
   "source": [
    "# 시각: 답안 예시(C++)\n",
    "\n",
    "#include <bits/stdc++.h>\n",
    "\n",
    "using namespace std;\n",
    "\n",
    "int h, cnt;\n",
    "\n",
    "#// 특정한 시각 안에 '3'이 포함되어 있는지의 여부\n",
    "bool check(int h, int m, int s) {\n",
    "    if (h % 10 == 3 || m / 10 = 3 || m % 10 == 3 || s / 10 == 3 || s % 10 == 3)\n",
    "        return true;\n",
    "    return false;\n",
    "}\n",
    "\n",
    "int main(void) {\n",
    "    #// H 입력 받기\n",
    "    cin >> h;\n",
    "    for (int i = 0; i <= h; i++) {\n",
    "        for (int j = 0; j < 60; j++) {\n",
    "            for (int k = 0; k < 60; k++) {\n",
    "                if (check(i, j, k)) cnt++;\n",
    "            }\n",
    "        }\n",
    "    }\n",
    "    cout << cnt << '\\n';\n",
    "    return 0;\n",
    "}"
   ]
  },
  {
   "cell_type": "code",
   "execution_count": null,
   "id": "a67eef1a",
   "metadata": {},
   "outputs": [],
   "source": [
    "# 시각: 답안 예시(Java)\n",
    "\n",
    "import java.util.*;\n",
    "\n",
    "public class Main {\n",
    "    #// 특정한 시각 안에 '3'이 포함되어 있는지의 여부\n",
    "    public static boolean check(int h, int m, int s) {\n",
    "        if (h % 10 == 3 || m / 10 = 3 || m % 10 == 3 || s / 10 == 3 || s % 10 == 3)\n",
    "            return true;\n",
    "        return false;\n",
    "    }\n",
    "    \n",
    "    public static void main(String[] args) {\n",
    "        Scanner sc = new Scanner(System.in);\n",
    "        \n",
    "        #// H를 입력받기\n",
    "        int h = sc.nextInt();\n",
    "        int cnt = 0;\n",
    "        for (int i = 0; i <= h; i++) {\n",
    "            for (int j = 0; j < 60; j++) {\n",
    "                for (int k = 0; k < 60; k++) {\n",
    "                    #// 매 시각 안에 '3'이 포함되어 있다면 카운트 증가\n",
    "                    if (check(i, j, k)) cnt++;\n",
    "                }\n",
    "            }\n",
    "        }\n",
    "        System.out.println(cnt);\n",
    "    }\n",
    "}"
   ]
  },
  {
   "attachments": {},
   "cell_type": "markdown",
   "id": "924cdc9c",
   "metadata": {},
   "source": [
    "### 2-3. 왕실의 나이트: 문제 설명\n",
    "#### 행복 왕국의 왕실 정원은 체스판과 같은 8 x 8좌표 평면이다.<br>왕실 정원의 특정한 한 칸에 나이트가 서 있다.<br>나이트는 매우 충성스러운 신하로서 매일 무술을 연마한다.<br><br>나이트는 말을 타고 있기 때문에 이동을 할 때는 L자 형태로만 이동할 수 있으며 정원 밖으로는 나갈 수 없다.<br><br>나이트는 특정 위치에서 다음과 같은 2가지 경우로 이동할 수 있다.<br> - 1. 수평으로 두 칸 이동한 뒤에 수직으로 한 칸 이동하기<br> - 2. 수직으로 두 칸 이동한 뒤에 수평으로 한 칸 이동하기<br><br>이처럼 8 x 8좌표 평면상에서 나이트의 위치가 주어졌을 때 나이트가 이동할 수 있는 경우의 수를 출력하는 프로그램을 작성하라.<br>왕실의 정원에서 행 위치를 표현할 때는 1부터 8로 표현하며, 열 위치를 표현할 때는 a부터 h로 표현한다.<br> - c2에 있을 때 이동할 수 있는 경우의 수는 6가지이다.<br>![nn](./2강_왕실의_나이트.png)<br> - a1에 있을 때 이동할 수 있는 경우의 수는 2가지이다.<br>![nn](./2강_왕실의_나이트_1.png)<br><hr><br>난이도 下 | 풀이시간 20분 | 시간제한 1초 | 메모리제한 128MB<br><br>\\*입력조건:<br>첫째 줄에 8 x 8좌표 평면상에서 현재 나이트가 위치한 곳의 좌표를 나타내는 두 문자로 구성한 문자열이 입력된다.<br>입력문자는 a1처럼 열과 행으로 이뤄진다.<br><br>\\*출력조건:<br>첫째 줄에 나이트가 이동할 수 있는 경우의 수를 출력하라.<br><br>\\*입력 예시:<br>a1<br><br>\\*출력 예시:<br>2"
   ]
  },
  {
   "cell_type": "code",
   "execution_count": null,
   "id": "cee4ce16",
   "metadata": {},
   "outputs": [],
   "source": [
    "# 풀이 전 혼자 풀어보기 - 오답(if로 다 처리하기엔 너무 비효율적인 것 같아 넘어감)\n",
    "\n",
    "s = input()\n",
    "r = ['1', '2', '3', '4', '5', '6', '7', '8']\n",
    "c = [a, b, c, d, e, f]\n",
    "\n",
    "c3~f3, c6~f6 = 8\n",
    "c2~f2 = 6\n",
    "b2, g2, b7, g7 = 4\n",
    "a1, h1, a8, h8 = 2\n",
    "b1, g1, b8, g8 = 3\n",
    "c1 ~ f1, c8 ~ f8 =4"
   ]
  },
  {
   "cell_type": "markdown",
   "id": "7923a77e",
   "metadata": {},
   "source": [
    "### 2-3. 왕실의 나이트: 문제 해결 아이디어\n",
    "#### 요구사항대로 충실히 구현하면 되는 문제이다.<br><br>나이트의 8가지 경로를 하나씩 확인하며 각 위치로 이동이 가능한지 확인한다.<br> - 리스트를 이용하여 8가지 방향에 대한 방향 백터를 정의한다."
   ]
  },
  {
   "cell_type": "code",
   "execution_count": 120,
   "id": "f45a11d3",
   "metadata": {},
   "outputs": [
    {
     "name": "stdout",
     "output_type": "stream",
     "text": [
      "c1\n",
      "4\n"
     ]
    }
   ],
   "source": [
    "# 왕실의 나이트: 답안 예시(Python)\n",
    "\n",
    "# 현재 나이트의 위치 입력받기\n",
    "input_data = input()\n",
    "row = int(input_data[1])\n",
    "column = ord(input_data[0]) - ord('a') + 1 # 아스키코드를 숫자로 치환\n",
    "\n",
    "# 나이트가 이동할 수 있는 8가지 방향 정의\n",
    "steps = [(-2 , -1), (-1, -2), (1, -2), (2, -1), (2, 1), (1, 2), (-1, 2), (-2, 1)]\n",
    "\n",
    "# 8가지 방향에 대하여 각 위치로 이동이 가능한지 확인\n",
    "result = 0\n",
    "for step in steps:\n",
    "    # 이동하고자 하는 위치 확인\n",
    "    next_row = row + step[0]\n",
    "    next_column = column + step[1]\n",
    "    # 해당 위치로 이동이 가능하다면 카운트 증가\n",
    "    if next_row >= 1 and next_row <= 8 and next_column >= 1 and next_column <= 8:\n",
    "        result += 1\n",
    "        \n",
    "print(result)"
   ]
  },
  {
   "cell_type": "code",
   "execution_count": null,
   "id": "e4781276",
   "metadata": {},
   "outputs": [],
   "source": [
    "# 왕실의 나이트: 답안 예시(C++)\n",
    "\n",
    "#include <bits/stdc++.h>\n",
    "\n",
    "using namespace std;\n",
    "\n",
    "string inputData;\n",
    "#// 나이트가 이동할 수 있는 8가지 방향 정의\n",
    "int dx[] = {-2, -1, 1, 2, 2, 1, -1, -2};\n",
    "int dy[] = {-1, -2, -2, -1, 1, 2, 2, 1};\n",
    "\n",
    "int main(void) {\n",
    "    #// 현재 나이트의 위치 입력받기\n",
    "    cin >> inputData;\n",
    "    int row = inputData[1] - '0';\n",
    "    int column = inputData[0] - 'a' + 1;\n",
    "    \n",
    "    #// 8가지 방향에 대하여 각 위치로 이동이 가능한지 확인\n",
    "    int result = 0;\n",
    "    for (int i = 0; i < 8; i++) {\n",
    "        #// 이동하고자 하는 위치 확인\n",
    "        int nextRow = row + dx[i];\n",
    "        int nextColumn = column + dy[i];\n",
    "        #// 해당 위치로 이동이 가능하다면 카운트 증가\n",
    "        if (nextRow >= 1 && nextRow <= 8 && nextColumn >= 1 && nextColumn <= 8) {\n",
    "            result += 1;\n",
    "        }\n",
    "    }\n",
    "    cout << result << '\\n';\n",
    "    return 0;\n",
    "}"
   ]
  },
  {
   "cell_type": "code",
   "execution_count": null,
   "id": "0442fe7b",
   "metadata": {},
   "outputs": [],
   "source": [
    "# 왕실의 나이트: 답안 예시(Java)\n",
    "import java.util.*;\n",
    "\n",
    "public class Main {\n",
    "    public static void main(String[] args) {\n",
    "        Scanner sc = new Scanner(System.in);\n",
    "        #// 현재 나이트의 위치 입력받기\n",
    "        String inputData = sc.nextLine();\n",
    "        int row = inputData.charAt(1) - '0';\n",
    "        int column = inputData.charAt(0) - 'a' + 1;\n",
    "        \n",
    "        #// 나이트가 이동할 수 있는 8가지 방향 정의\n",
    "        int[] dx = {-2, -1, 1, 2, 2, 1, -1, -2};\n",
    "        int[] dy = {-1, -2, -2, -1, 1, 2, 2, 1};\n",
    "        \n",
    "        #// 8가지 방향에 대하여 각 위치로 이동이 가능한지 확인\n",
    "        int result = 0;\n",
    "        for (int i = 0; i < 8; i++) {\n",
    "            #// 이동하고자 하는 위치 확인\n",
    "            int nextRow = row + dx[i];\n",
    "            int nextColumn = column + dy[i];\n",
    "            #// 해당 위치로 이동이 가능하다면 카운트 증가\n",
    "            if (nextRow >= 1 && nextRow <= 8 && nextColumn >= 1 && nextColumn <= 8) {\n",
    "                result += 1;\n",
    "            }\n",
    "        }\n",
    "        System.out.println(result);\n",
    "    }\n",
    "}"
   ]
  },
  {
   "cell_type": "markdown",
   "id": "969b30cd",
   "metadata": {},
   "source": [
    "### 2-4. 문자열 재정렬: 문제설명\n",
    "#### 알파벳 대문자와 숫자(0 ~ 9)로만 구성된 문자열이 입력으로 주어진다.<br>이때 모든 알파벳을 오름차순으로 정렬하여 이어서 출력한 뒤에, 그 뒤에 모든 숫자를 더한 값을 이어서 출력한다.<br><br>예를 들어 K1KA5CB7이라는 값이 들어오면 ABCKK13을 출력한다.<br><hr><br>난이도 下 | 풀이시간 20분 | 시간제한 1초 | 메모리제한 128MB | 기출 Facebook 인터뷰<br><br>\\*입력조건:<br>첫째 줄에 하나의 문자열 S가 주어진다.(1 <= S의 길이 <= 10,000)<br><br>\\*출력조건:<br>첫째 줄에 문제에서 요구하는 정답을 출력한다.<br><br>\\*입력 예시1:<br>K1KA5CB7<br><br>\\*출력 예시1:<br>ABCKK13<br><br>\\*입력 예시2:<br>AJKDLSI412K4JSJ9D<br><br>\\*출력 예시2:<br>ADDIJJJKKLSS20"
   ]
  },
  {
   "cell_type": "code",
   "execution_count": 127,
   "id": "d0b72f01",
   "metadata": {},
   "outputs": [
    {
     "name": "stdout",
     "output_type": "stream",
     "text": [
      "AJKDLSI412K4JSJ9D\n",
      "ADDIJJJKKLSS20\n"
     ]
    }
   ],
   "source": [
    "# 풀이 전 혼자 풀어보기\n",
    "\n",
    "s = input()\n",
    "s = sorted(s)\n",
    "n = 0\n",
    "result = ''\n",
    "\n",
    "for i, v in enumerate(s):\n",
    "        if not(65 <= ord(v) <=90):\n",
    "            n += int(s[i])\n",
    "        else:\n",
    "            result += s[i]\n",
    "print(result + str(n))"
   ]
  },
  {
   "cell_type": "markdown",
   "id": "7590734a",
   "metadata": {},
   "source": [
    "### 문자열 재정렬: 문제 해결 아이디어\n",
    "#### 요구사항대로 충실히 구현하면 되는 문제이다.<br><br>문자열이 입력되었을 때 문자를 하나씩 확인한다.<br> - 숫자인 경우 따로 합계를 계산한다.<br> - 알파벳의 경우 별도의 리스트에 저장한다.<br><br>결과적으로 <u>리스트에 저장된 알파벳을 정렬해 출력하고, 합계를 뒤에 붙여 출력하면 정답</u>이다."
   ]
  },
  {
   "cell_type": "code",
   "execution_count": 128,
   "id": "9a08d670",
   "metadata": {},
   "outputs": [
    {
     "name": "stdout",
     "output_type": "stream",
     "text": [
      "AJKDLSI412K4JSJ9D\n",
      "ADDIJJJKKLSS20\n"
     ]
    }
   ],
   "source": [
    "# 문자열 재정렬: 답안 예시(Python)\n",
    "data = input()\n",
    "result = []\n",
    "value = 0\n",
    "\n",
    "# 문자를 하나씩 확인하며\n",
    "for x in data:\n",
    "    # 알파벳인 경우 결과 리스트에 삽입\n",
    "    if x.isalpha():\n",
    "        result.append(x)\n",
    "    # 숫자는 따로 더하기\n",
    "    else:\n",
    "        value += int(x)\n",
    "        \n",
    "# 알파벳을 오름차순으로 정렬\n",
    "result.sort()\n",
    "\n",
    "# 숫자가 하나라도 존재하는 경우 가장 뒤에 삽입\n",
    "if value != 0:\n",
    "    result.append(str(value))\n",
    "    \n",
    "# 최종 결과 출력(리스트를 문자열로 변환하여 출력)\n",
    "print(''.join(result))"
   ]
  },
  {
   "cell_type": "code",
   "execution_count": null,
   "id": "a80914d4",
   "metadata": {},
   "outputs": [],
   "source": [
    "# 문자열 재정렬: 답안 예시(C++)\n",
    "\n",
    "#include <bits/stdc++.h>\n",
    "\n",
    "using namespace std;\n",
    "\n",
    "string str;\n",
    "vector<char> result;\n",
    "int value = 0;\n",
    "\n",
    "int main(void) {\n",
    "    cin >> str;\n",
    "    #// 문자를 하나씩 확인하며\n",
    "    for (int i = 0; i < str.size(); i++) {\n",
    "        #// 알파벳인 경우 결과 리스트에 삽입\n",
    "        if (isalpha(str[i])) {\n",
    "            result.push_back(str[i]);\n",
    "        }\n",
    "        #// 숫자는 따로 더하기\n",
    "        else {\n",
    "            value += str[i] - '0';\n",
    "        }\n",
    "    }\n",
    "    #// 알파벳을 오름차순으로 정렬\n",
    "    sort(result.begin(), result.end());\n",
    "    #// 알파벳을 차례대로 출력\n",
    "    for (int i = 0; i < result.size(); i++) {\n",
    "        cout << result[i];\n",
    "    }\n",
    "    #// 숫자가 하나라도 존재하는 경우 가장 뒤에 출력\n",
    "    if (value != 0) cout << value;\n",
    "    cout << '\\n';\n",
    "}"
   ]
  },
  {
   "cell_type": "code",
   "execution_count": null,
   "id": "086f311a",
   "metadata": {},
   "outputs": [],
   "source": [
    "# 문자열 재정렬: 답안 예시(Java) - 깃허브에서 확인"
   ]
  }
 ],
 "metadata": {
  "kernelspec": {
   "display_name": "Python 3",
   "language": "python",
   "name": "python3"
  },
  "language_info": {
   "codemirror_mode": {
    "name": "ipython",
    "version": 3
   },
   "file_extension": ".py",
   "mimetype": "text/x-python",
   "name": "python",
   "nbconvert_exporter": "python",
   "pygments_lexer": "ipython3",
   "version": "3.8.8"
  }
 },
 "nbformat": 4,
 "nbformat_minor": 5
}
