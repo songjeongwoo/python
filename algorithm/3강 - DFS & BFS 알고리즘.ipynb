{
 "cells": [
  {
   "cell_type": "markdown",
   "id": "156f0351",
   "metadata": {},
   "source": [
    "### 그래프 탐색 알고리즘의 대표적인 예:\n",
    "#### <mark>DFS(Depth-First Search, 깊이 우선 탐색)/BFS(Breadth-First Search, 너비 우선 탐색)</mark>\n",
    "#### 탐색(Search)이란 많은 양의 데이터 중에서 <u>원하는 데이터를 찾는 과정</u>을 말한다.<br><br>대표적인 그래프 탐색 알고리즘으로는 DFS와 BFS가 있다.<br><br><mark>DFS/BFS는 코딩테스트에서 매우 자주 등장하는 유형</mark>이므로 반드시 숙지해야한다."
   ]
  },
  {
   "cell_type": "markdown",
   "id": "ea7ba4e2",
   "metadata": {},
   "source": [
    "### 1. 스택 자료구조\n",
    "#### 먼저 들어 온 데이터가 나중에 나가는 형식(선입후출)의 자료구조이다.<br><br><u>입구와 출구가 동일한 형태</u>로 스택을 시각화 할 수 있다."
   ]
  },
  {
   "cell_type": "code",
   "execution_count": 3,
   "id": "94968c7a",
   "metadata": {},
   "outputs": [
    {
     "name": "stdout",
     "output_type": "stream",
     "text": [
      "[1, 3, 2, 5]\n",
      "[5, 2, 3, 1]\n"
     ]
    }
   ],
   "source": [
    "# 스택 구현 예제(Python)\n",
    "\n",
    "stack = []\n",
    "# 삽입(5) - 삽입(2) - 삽입(3) - 삽입(7) - 삭제() - 삽입(1) - 삽입(4) - 삭제()\n",
    "# cf) append()와 pop()의 시간복잡도는 O(1)이다.\n",
    "stack.append(5)\n",
    "stack.append(2)\n",
    "stack.append(3)\n",
    "stack.append(7)\n",
    "stack.pop()\n",
    "stack.append(1)\n",
    "stack.append(4)\n",
    "stack.pop()\n",
    "\n",
    "print(stack[::-1])  # 최상단 원소부터 출력\n",
    "print(stack)  # 최하단 원소부터 출력"
   ]
  },
  {
   "cell_type": "code",
   "execution_count": null,
   "id": "3cb5a924",
   "metadata": {},
   "outputs": [],
   "source": [
    "# 스택 구현 예제(C++)\n",
    "\n",
    "#include <bits/stdc++.h>\n",
    "\n",
    "using namespace std;\n",
    "\n",
    "stack<int> s;\n",
    "\n",
    "int main(void) {\n",
    "    #// 삽입(5) - 삽입(2) - 삽입(3) - 삽입(7) - 삭제() - 삽입(1) - 삽입(4) - 삭제()\n",
    "    s.push(5);\n",
    "    s.push(2);\n",
    "    s.push(3);\n",
    "    s.push(7);\n",
    "    s.pop;\n",
    "    s.push(1);\n",
    "    s.push(4);\n",
    "    s.pop;\n",
    "    #// 스택의 최상단 원소부터 출력\n",
    "    while (!s.empty()) {\n",
    "        cout << s.top() << ' ';  # 실행결과: 1 3 2 5\n",
    "        s.pop();\n",
    "    }\n",
    "}"
   ]
  },
  {
   "cell_type": "code",
   "execution_count": null,
   "id": "565fc91d",
   "metadata": {},
   "outputs": [],
   "source": [
    "# 스택 구현 예제(Java)\n",
    "import java.util.*;\n",
    "\n",
    "public class Main {\n",
    "    public static void main(String[] args) {\n",
    "        Stack<Integer> s = new Stack<>();\n",
    "        \n",
    "        #// 삽입(5) - 삽입(2) - 삽입(3) - 삽입(7) - 삭제() - 삽입(1) - 삽입(4) - 삭제()\n",
    "        s.push(5);\n",
    "        s.push(2);\n",
    "        s.push(3);\n",
    "        s.push(7);\n",
    "        s.pop;\n",
    "        s.push(1);\n",
    "        s.push(4);\n",
    "        s.pop;\n",
    "        #// 스택의 최상단 원소부터 출력\n",
    "        while (!s.empty()) {\n",
    "            System.out.print(s.peek() +  \" \");  # 실행결과: 1 3 2 5\n",
    "            s.pop();\n",
    "        }\n",
    "    }\n",
    "}"
   ]
  },
  {
   "cell_type": "markdown",
   "id": "b2274688",
   "metadata": {},
   "source": [
    "### 2. 큐 자료구조\n",
    "#### 먼저 들어온 데이터가 먼저 나가는 형식(선입선출)의 자료구조이다.<br><br>큐는 <u>입구와 출구가 모두 뚫려 있는 터널과 같은 형태</u>로 시각화 할 수 있다.<br><br>ex) 은행 창구에서 사람들이 번호표를 뽑고 대기하는 모습<br>![nn](image/3강/3강_큐.PNG)"
   ]
  },
  {
   "cell_type": "code",
   "execution_count": 4,
   "id": "621469d7",
   "metadata": {},
   "outputs": [
    {
     "name": "stdout",
     "output_type": "stream",
     "text": [
      "deque([3, 7, 1, 4])\n",
      "deque([4, 1, 7, 3])\n"
     ]
    }
   ],
   "source": [
    "# 큐 구현 예제(Python)\n",
    "from collections import deque\n",
    "\n",
    "# 큐(Queue) 구현을 위해 deque 라이브러리 사용\n",
    "queue = deque()\n",
    "\n",
    "# 삽입(5) - 삽입(2) - 삽입(3) - 삽입(7) - 삭제() - 삽입(1) - 삽입(4) - 삭제()\n",
    "# cf) append()와 popleft()의 시간복잡도는 O(1)이다.\n",
    "# 그림과 반대방향으로, 오른쪽에서 왼쪽으로 넣고 왼쪽부터 뺀다.\n",
    "queue.append(5)\n",
    "queue.append(2)\n",
    "queue.append(3)\n",
    "queue.append(7)\n",
    "queue.popleft()\n",
    "queue.append(1)\n",
    "queue.append(4)\n",
    "queue.popleft()\n",
    "\n",
    "print(queue)  # 먼저 들어온 순서대로 출력\n",
    "queue.reverse()  # 역순으로 바꾸기\n",
    "print(queue)  # 나중에 들어온 원소부터 출력"
   ]
  },
  {
   "cell_type": "code",
   "execution_count": null,
   "id": "bba1178e",
   "metadata": {},
   "outputs": [],
   "source": [
    "# 큐 구현 예제(C++)\n",
    "\n",
    "#include <bits/stdc++.h>\n",
    "\n",
    "using namespace std;\n",
    "\n",
    "queue<int> q;\n",
    "\n",
    "int main(void) {\n",
    "    #// 삽입(5) - 삽입(2) - 삽입(3) - 삽입(7) - 삭제() - 삽입(1) - 삽입(4) - 삭제()\n",
    "    q.push(5);\n",
    "    q.push(2);\n",
    "    q.push(3);\n",
    "    q.push(7);\n",
    "    q.pop();\n",
    "    q.push(1);\n",
    "    q.push(4);\n",
    "    q.pop();\n",
    "    #// 먼저 들어온 원소부터 추출\n",
    "    while (!q.empty()) {\n",
    "        cout << q.front() << ' ';  #실행 결과: 3 7 1 4\n",
    "        q.pop();\n",
    "    }\n",
    "}"
   ]
  },
  {
   "cell_type": "code",
   "execution_count": null,
   "id": "120dbe1f",
   "metadata": {},
   "outputs": [],
   "source": [
    "# 큐 구현 예제(Java)\n",
    "import java.util.*;\n",
    "\n",
    "public class Main {\n",
    "    public static void main(String[] args) {\n",
    "        Queue<Integer> q = new LinkedList<>();\n",
    "        \n",
    "        #// 삽입(5) - 삽입(2) - 삽입(3) - 삽입(7) - 삭제() - 삽입(1) - 삽입(4) - 삭제()\n",
    "        q.offer(5);\n",
    "        q.offer(2);\n",
    "        q.offer(3);\n",
    "        q.offer(7);\n",
    "        q.poll();\n",
    "        q.offer(1);\n",
    "        q.offer(4);\n",
    "        q.poll();\n",
    "        #// 먼저 들어온 원소부터 추출\n",
    "        while (!q.isEmpty()) {\n",
    "            System.out.print(q.poll() + \" \");  # 실행 결과: 3 7 1 4\n",
    "            # cf) poll()은 원소를 꺼내줄 뿐만 아니라 꺼내서 리턴해준다.\n",
    "        }\n",
    "    }\n",
    "}"
   ]
  },
  {
   "cell_type": "markdown",
   "id": "d60ff071",
   "metadata": {},
   "source": [
    "### 3. 재귀함수(Recursive Function)\n",
    "#### 재귀함수란 <mark>자기 자신을 다시 호출하는 함수</mark>를 의미한다.<br><br>단순한 형태의 재귀함수 예제<br> - '재귀함수를 호출한다'라는 문자열을 무한히 출력한다.<br> - 어느 정도 출력하다가 최대 재귀 깊이 초과 메시지가 출력된다.<br>&nbsp;&nbsp;ex) <font color='red'>RecursionError: maximum recursion depth exceeded while calling a Python object</font><br><br>하지만 코테에서는 일반적인 재귀함수를 사용해도 통과할 수 있도록 출제되는 경우가 많다."
   ]
  },
  {
   "cell_type": "code",
   "execution_count": null,
   "id": "97dbfcc4",
   "metadata": {},
   "outputs": [],
   "source": [
    "def recursive_function():\n",
    "    print('재귀 함수를 호출한다.')\n",
    "    recursive_function()\n",
    "    \n",
    "recursive_function()"
   ]
  },
  {
   "cell_type": "markdown",
   "id": "198d3fea",
   "metadata": {},
   "source": [
    "### 3-1. 재귀함수의 종료 조건\n",
    "#### 재귀함수를 문제 풀이에서 사용할 때는 재귀 함수의 종료 조건을 반드시 명시해야한다.<br><br>종료 조건을 제대로 명시하지 않으면 함수가 무한히 호출될 수 있다.<br> - <u>종료 조건</u>을 포함한 재귀함수 예제"
   ]
  },
  {
   "cell_type": "code",
   "execution_count": null,
   "id": "f34cee15",
   "metadata": {},
   "outputs": [],
   "source": [
    "def recursive_function(i):\n",
    "    # 100번째 호출을 했을 때 종료되도록 종료 조건 명시\n",
    "    if i == 100:\n",
    "        return\n",
    "    print(i, '번째 재귀함수에서', i + 1, '번째 재귀함수를 호출한다.')\n",
    "    recursive_function(i + 1)\n",
    "    print(i, '번째 재귀함수를 종료한다.')\n",
    "\n",
    "recursive_function(1)"
   ]
  },
  {
   "cell_type": "markdown",
   "id": "27a4c682",
   "metadata": {},
   "source": [
    "### 3-1. 재귀함수 예제: 팩토리얼 구현 예제\n",
    "#### n! = 1 x 2 x 3 x ... x (n-1) x n<br><br>수학적으로 0!과 1!의 값은 1이다."
   ]
  },
  {
   "cell_type": "code",
   "execution_count": 10,
   "id": "e5ccc524",
   "metadata": {},
   "outputs": [
    {
     "name": "stdout",
     "output_type": "stream",
     "text": [
      "반복적으로 구현:  120\n",
      "재귀적으로 구현:  120\n"
     ]
    }
   ],
   "source": [
    "# 반복적으로 구현한 n!\n",
    "def factorial_iterative(n):\n",
    "    result = 1\n",
    "    # 1부터 n까지의 수를 차례대로 곱하기\n",
    "    for i in range(1, n + 1):\n",
    "        result *= i\n",
    "    return result\n",
    "\n",
    "# 재귀적으로 구현한 n!\n",
    "def factorial_recursive(n):\n",
    "    if n <= 1:  # n이 1이하인 경우 1을 반환\n",
    "        return 1\n",
    "    # n! = n * (n - 1)!를 그대로 코드로 작성하기\n",
    "    return n * factorial_recursive(n - 1)\n",
    "\n",
    "# 각각의 방식으로 구현한 n! 출력(n = 5)\n",
    "print('반복적으로 구현: ', factorial_iterative(5))\n",
    "print('재귀적으로 구현: ', factorial_recursive(5))"
   ]
  },
  {
   "cell_type": "markdown",
   "id": "77369965",
   "metadata": {},
   "source": [
    "### 3-1. 재귀함수 예제: 최대공약수 계산(유클리드 호제법) 예제\n",
    "#### <u>두 개의 자연수에 대한 최대공약수</u>를 구하는 대표적인 알고리즘으로는 유클리드 호제법이 있다.<br><br><mark>유클리드 호제법</mark><br> - 두 자연수 A, B에 대하여 (A > B) A를 B로 나눈 나머지를 R이라고 하자.<br> - 이때 A와 B의 최대공약수는 B와 R의 최대공약수와 같다.<br><br>유클리드 호제법의 아이디어를 그대로 재귀함수로 작성할 수 있다.<br><img src=\"image/3강/3강_유클리드_호제법.PNG\" style=\"width: 400px;\"/>"
   ]
  },
  {
   "cell_type": "code",
   "execution_count": 13,
   "id": "9be56749",
   "metadata": {},
   "outputs": [
    {
     "name": "stdout",
     "output_type": "stream",
     "text": [
      "6\n"
     ]
    }
   ],
   "source": [
    "def gcd(a, b):\n",
    "    if a % b == 0:\n",
    "        return b\n",
    "    else:\n",
    "        return gcd(b, a % b)\n",
    "\n",
    "print(gcd(192, 162))"
   ]
  },
  {
   "cell_type": "markdown",
   "id": "52a68dc7",
   "metadata": {},
   "source": [
    "### 3-1. 재귀함수 사용의 유의사항\n",
    "#### 재귀함수를 잘 활용하면 복잡한 알고리즘을 간결하게 작성할 수 있다.<br> - 단, 오히려 다른 사람이 이해하기 어려운 형태의 코드가 될 수도 있으므로 신중하게 사용해야한다.<br><br>모든 <u>재귀함수는 반복문을 이용하여 동일한 기능을 구현</u>할 수 있다.<br><br>재귀함수가 반복문보다 유리한 경우도 있고 불리한 경우도 있다.<br><br>컴퓨터가 함수를 연속적으로 호출하면 컴퓨터 메모리 내부의 스택 프레임에 쌓인다.<br><br> - 그래서 스택을 사용해야할 때 구현상 <mark><u>스택 라이브러리 대신 재귀함수를 이용</u></mark>하는 경우가 많다."
   ]
  },
  {
   "cell_type": "markdown",
   "id": "3a57c86f",
   "metadata": {},
   "source": [
    "### 4. DFS(Depth-First Search, 깊이 우선 탐색)\n",
    "#### DFS는 <mark>깊이 우선 탐색</mark>이라고도 부르며 그래프에서 <u>깊은 부분을 우선적으로 탐색하는 알고리즘</u>이다.<br><br>DFS는 <u>스택 자료구조(혹은 재귀함수)를 이용</u>하며, 구체적인 동작과정은 다음과 같다.<br><br> - 1. 탐색 시작 노드를 스택에 삽입하고 방문처리를 한다.<br><br> - 2. 스택의 최상단 노드에 방문하지 않은 인접한 노드가 하나라도 있으면 그 노드를 스택에 넣고 방문처리한다. 방문하지 않은 인접 노드가 없으면 스택에서 최상단 노드를 꺼낸다.<br><br> - 3. 더 이상 2번의 과정을 수행할 수 없을 때까지 반복한다."
   ]
  },
  {
   "cell_type": "markdown",
   "id": "31090142",
   "metadata": {},
   "source": [
    "### 4-1. DFS 동작예시\n",
    "#### Step0. 그래프를 준비한다.(방문 기준: <u>번호가 낮은 인접 노드</u>부터)<br> - 시작노드: 1<br><img src=\"image/3강/3강_DFS.PNG\" style=\"width: 400px;\"/><br>Step1. 시작노드인 '1'을 스택에 삽입하고 방문처리를 한다.<br><img src=\"image/3강/3강_DFS_step1.PNG\" style=\"width: 400px;\"/><br>Step2. 스택의 최상단 노드인 '1'에 방문하지 않은 인접 노드 '2', '3', '8'이 있다.<br> - 이 중에서 가장 작은 노드인 '2'를 스택에 넣고 방문 처리를 한다.<br><img src=\"image/3강/3강_DFS_step2.PNG\" style=\"width: 400px;\"/><br>Step3. 스택의 최상단 노드인 '2'에 방문하지 않은 인접 노드 '7'이 있다.<br> - 따라서 '7'번 노드를 스택에 넣고 방문 처리를 한다.<br><img src=\"image/3강/3강_DFS_step3.PNG\" style=\"width: 400px;\"/><br>Step4. 스택의 최상단 노드인 '7'에 방문하지 않은 인접 노드 '6', '8'이 있다.<br> - 이 중에서 가장 작은 노드인 '6'을 스택에 넣고 방문 처리한다.<br><img src=\"image/3강/3강_DFS_step4.PNG\" style=\"width: 400px;\"/><br>Step5. 스택의 최상단 노드인 '6'에 방문하지 않은 인접 노드가 없다.<br> - 따라서 스택에서 '6'번 노드를 꺼낸다.<br><img src=\"image/3강/3강_DFS_step5.PNG\" style=\"width: 400px;\"/><br>Step6. 스택의 최상단 노드인 '7'에 방문하지 않은 인접노드 '8'이 있다.<br> - 따라서 '8'번 노드를 스택에 넣고 방문 처리한다.<br><img src=\"image/3강/3강_DFS_step6.PNG\" style=\"width: 400px;\"/><br>이러한 과정을 반복했을 때 <u>전체 노드의 탐색 순서</u>(스택에 들어간 순서)는 다음과 같다.<br><img src=\"image/3강/3강_DFS_final.PNG\" style=\"width: 400px;\"/>"
   ]
  },
  {
   "cell_type": "code",
   "execution_count": 17,
   "id": "3e631204",
   "metadata": {},
   "outputs": [
    {
     "name": "stdout",
     "output_type": "stream",
     "text": [
      "1 2 7 6 8 3 4 5 "
     ]
    }
   ],
   "source": [
    "# DFS 소스코드 예제(Python)\n",
    "\n",
    "# DFS 메서드 정의\n",
    "def dfs(graph, v, visited):\n",
    "    # 현재 노드를 방문 처리\n",
    "    visited[v] = True\n",
    "    print(v, end=' ')\n",
    "    # 현재 노드와 연결된 다른 노드를 재귀적으로 방문\n",
    "    for i in graph[v]:\n",
    "        if not visited[i]:  # ★★\n",
    "            dfs(graph, i, visited)\n",
    "            \n",
    "# 각 노드가 연결된 정보를 표현 (2차원 리스트)\n",
    "graph = [\n",
    "    [],  # 노드의 번호가 1부터 시작하는 경우가 많기 때문에 idx 0에 대해선 비워둔다.\n",
    "    [2, 3, 8],\n",
    "    [1, 7],\n",
    "    [1, 4, 5],\n",
    "    [3, 5],\n",
    "    [3, 4],\n",
    "    [7],\n",
    "    [2, 6, 8],\n",
    "    [1, 7]\n",
    "]\n",
    "\n",
    "# 각 노드가 방문된 정보를 표현 (1차원 리스트)\n",
    "visited = [False] * 9  # idx 0은 사용하지 않기때문에 (노드 개수 + 1)로 초기화한다.\n",
    "\n",
    "# 정의된 DFS 함수 호출\n",
    "dfs(graph, 1, visited)"
   ]
  },
  {
   "cell_type": "code",
   "execution_count": null,
   "id": "4cda52a7",
   "metadata": {},
   "outputs": [],
   "source": [
    "# DFS 소스코드 예제(C++) - 전체 코드는 깃허브에서 확인가능\n",
    "\n",
    "#include <bits/stdc++.h>\n",
    "\n",
    "using namespace std;\n",
    "\n",
    "bool visited[9];\n",
    "vector<int> graph[9];\n",
    "\n",
    "void dfs(int x) {\n",
    "    visited[x] = true;\n",
    "    cout << x << ' ';\n",
    "    for (int i = 0; i < graph[x].size(); i++) {\n",
    "        int y = graph[x][i];\n",
    "        if (!visited[y]) dfs(y);\n",
    "    }\n",
    "}\n",
    "\n",
    "int main(void) {\n",
    "    '''\n",
    "    /*\n",
    "        그래프 연결된 내용 생략\n",
    "    */\n",
    "    // dfs(1)\n",
    "    '''\n",
    "    return 0;\n",
    "}"
   ]
  },
  {
   "cell_type": "code",
   "execution_count": null,
   "id": "c5343770",
   "metadata": {},
   "outputs": [],
   "source": [
    "# DFS 소스코드 예제(Java) - 전체 코드는 깃허브에서 확인가능\n",
    "import java.util.*;\n",
    "\n",
    "public class Main {\n",
    "    public static boolean[] visited = new boolean[9];\n",
    "    public static ArrayList<ArrayList<Integer>> graph = new ArrayList<ArrayList<Integer>>();\n",
    "    \n",
    "    #// DFS 함수 정의\n",
    "    public static void dfs(int x) {\n",
    "        #// 현재 노드를 방문 처리\n",
    "        visited[x] = true;\n",
    "        System.out.print(x + \" \");\n",
    "        #// 현재 노드와 연결된 다른 노드를 재귀적으로 방문\n",
    "        for (int i = 0; i < graph.get(x).size(); i++) {\n",
    "            int y = graph.get(x).get(i);\n",
    "            if (!visited[y]) dfs(y);\n",
    "        }\n",
    "    }\n",
    "    \n",
    "    public static void main(String[] args) {\n",
    "        '''\n",
    "        /*\n",
    "            그래프 연결된 내용 생략\n",
    "        */\n",
    "        // dfs(1)\n",
    "        '''\n",
    "    }\n",
    "}"
   ]
  },
  {
   "cell_type": "markdown",
   "id": "5bc5e6f8",
   "metadata": {},
   "source": [
    "### 5. BFS(Breadth-First Search)\n",
    "#### BFS는 <mark>너비 우선 탐색</mark>이라고도 부르며, 그래프에서 <u>가까운 노드부터 우선적으로 탐색하는 알고리즘</u>이다.<br><br>BFS는 <u>큐 자료구조</u>를 이용하며, 구체적인 동작 과정은 다음과 같다.<br><br> - 1. 탐색 시작 노드를 큐에 삽입하고 방문 처리를 한다.<br><br> - 2. 큐에서 노드를 꺼낸 뒤에 해당 노드의 인접 노드 중에서 방문하지 않은 노드를 모두 큐에 삽입하고 방문처리한다.<br><br> - 3. 더 이상 2번의 과정을 수행할 수 없을 때까지 반복한다.<br><br> cf) <mark>BFS는 특정 조건에서 최단경로를 해결하기 위한 목적으로 효과적으로 사용될 수 있다.</mark>"
   ]
  },
  {
   "cell_type": "markdown",
   "id": "7d66a21e",
   "metadata": {},
   "source": [
    "### 5-1. BFS 동작예시\n",
    "#### Step0. 그래프를 준비한다.(방문 기준: <u>번호가 낮은 인접 노드</u>부터)<br> - 시작 노드: 1<br><img src=\"image/3강/3강_BFS.PNG\" style=\"width: 400px;\"/><br>Step1. 시작 노드인 '1'을 큐에 삽입하고 방문 처리를 한다.<br><img src=\"image/3강/3강_BFS_step1.PNG\" style=\"width: 400px;\"/><br>Step2. 큐에서 노드 '1'을 꺼내 방문하지 않은 인접 노드 '2', '3', '8'을 큐에 삽입하고 방문 처리한다.<br><img src=\"image/3강/3강_BFS_step2.PNG\" style=\"width: 400px;\"/><br>Step3. 큐에서 노드 '2'를 꺼내 방문하지 않은 인접 노드 '7'을 큐에 삽입하고 방문 처리한다.<br><img src=\"image/3강/3강_BFS_step3.PNG\" style=\"width: 400px;\"/><br>Step4. 큐에서 노드 '3'을 꺼내 방문하지 않은 인전 노드 '4', '5'를 큐에 삽입하고 방문 처리한다.<br><img src=\"image/3강/3강_BFS_step4.PNG\" style=\"width: 400px;\"/><br>Step5. 큐에서 노드 '8'을 꺼내고 방문하지 않은 인접 노드가 없으므로 무시한다.<br><img src=\"image/3강/3강_BFS_step5.PNG\" style=\"width: 400px;\"/><br>이러한 과정을 반복하여 <u>전체 노드의 탐색 순서</u>(큐에 들어간 순서)는 다음과 같다. <br><img src=\"image/3강/3강_BFS_final.PNG\" style=\"width: 400px;\"/><br>"
   ]
  },
  {
   "cell_type": "code",
   "execution_count": 19,
   "id": "91c67bbe",
   "metadata": {},
   "outputs": [
    {
     "name": "stdout",
     "output_type": "stream",
     "text": [
      "1 2 3 8 7 4 5 6 "
     ]
    }
   ],
   "source": [
    "# BFS 소스코드 예제(Python)\n",
    "from collections import deque\n",
    "\n",
    "# BFS 메서드 정의\n",
    "def bfs(graph, start, visited):\n",
    "    # 큐(Queue) 구현을 위해 deque라이브러리 사용\n",
    "    queue = deque([start])\n",
    "    # 현재 노드를 방문 처리\n",
    "    visited[start] = True\n",
    "    # 큐가 빌 때까지 반복\n",
    "    while queue:\n",
    "        # 큐에서 하나의 원소를 뽑아 출력하기\n",
    "        v = queue.popleft()\n",
    "        print(v, end=' ')\n",
    "        # 아직 방문하지 않은 인접한 원소들을 큐에 삽입\n",
    "        for i in graph[v]:\n",
    "            if not visited[i]:\n",
    "                queue.append(i)\n",
    "                visited[i] = True\n",
    "\n",
    "# 각 노드가 연결된 정보를 표현 (2차원 리스트)\n",
    "graph = [\n",
    "    [],  # 노드의 번호가 1부터 시작하는 경우가 많기 때문에 idx 0에 대해선 비워둔다.\n",
    "    [2, 3, 8],\n",
    "    [1, 7],\n",
    "    [1, 4, 5],\n",
    "    [3, 5],\n",
    "    [3, 4],\n",
    "    [7],\n",
    "    [2, 6, 8],\n",
    "    [1, 7]\n",
    "]\n",
    "\n",
    "# 각 노드가 방문된 정보를 표현 (1차원 리스트)\n",
    "visited = [False] * 9  # idx 0은 사용하지 않기때문에 (노드 개수 + 1)로 초기화한다.\n",
    "\n",
    "# 정의된 BFS 함수 호출\n",
    "bfs(graph, 1, visited)"
   ]
  },
  {
   "cell_type": "code",
   "execution_count": null,
   "id": "497e8b43",
   "metadata": {},
   "outputs": [],
   "source": [
    "# BFS 소스코드 예제(C++) - 전체 코드는 깃허브에서 확인가능\n",
    "\n",
    "#include <bits/stdc++.h>\n",
    "\n",
    "using namespace std;\n",
    "\n",
    "bool visited[9];\n",
    "vector<int> graph[9];\n",
    "\n",
    "void bfs(int start) {\n",
    "    queue<int> q;\n",
    "    q.push(start);\n",
    "    visited[start] = true;\n",
    "    while(!q.empty()) {\n",
    "        int x = q.front();\n",
    "        q.pop();\n",
    "        cout << x << ' ';\n",
    "        for(int i = 0; i < graph[x].size(); i++) {\n",
    "            int y = graph[x][i];\n",
    "            if(!visited[y]) {\n",
    "                q.push(y);\n",
    "                visited[y] = true;\n",
    "            }\n",
    "        }\n",
    "    }\n",
    "}\n",
    "\n",
    "int main(void) {\n",
    "     '''\n",
    "    /*\n",
    "        그래프 연결된 내용 생략\n",
    "    */\n",
    "    // bfs(1)\n",
    "    '''\n",
    "}"
   ]
  },
  {
   "cell_type": "code",
   "execution_count": null,
   "id": "28551d8b",
   "metadata": {},
   "outputs": [],
   "source": [
    "# BFS 소스코드 예제(Java) - 전체 코드는 깃허브에서 확인가능\n",
    "import java.util.*;\n",
    "\n",
    "public class Main {\n",
    "    public static boolean[] visited = new boolean[9];\n",
    "    public static ArrayList<ArrayList<Integer>> graph = new ArrayList<ArrayList<Integer>>();\n",
    "    \n",
    "    #// BFS 함수 정의\n",
    "    public static void bfs(int start) {\n",
    "        Queue<Integer> q = new LinkedList<>();\n",
    "        q.offer(start);\n",
    "        #// 현재 노드를 방문 처리\n",
    "        visited[start] = true;\n",
    "        #// 큐가 빌 때까지 반복\n",
    "        while(!q.isEmpty()) {\n",
    "            #// 큐에서 하나의 원소를 뽑아 출력\n",
    "            int x = q.poll();\n",
    "            System.out.print(x + \" \");\n",
    "            #// 해당 원소와 연결된, 아직 방문하지 않은 원소들을 큐에 삽입\n",
    "            for(int i = 0; i < graph.get(x).size(); i++) {\n",
    "                if(!visited[y]) {\n",
    "                    q.offer(y);\n",
    "                    visited[y] = true;\n",
    "                }\n",
    "            }\n",
    "        }\n",
    "    }\n",
    "    #// 메인함수 생략\n",
    "}"
   ]
  },
  {
   "cell_type": "markdown",
   "id": "28d5e930",
   "metadata": {},
   "source": [
    "### 6-1. DFS 또는 BFS - 음료수 얼려먹기: 문제 설명\n",
    "#### N x M크기의 얼음 틀이 있다.<br>구멍이 뚫려 있는 부분은 0, 칸막이가 존재하는 부분은 1로 표시된다.<br>구멍이 뚫려 있는 부분끼리 상, 하, 좌, 우로 붙어 있는 경우 서로 연결되어 있는 것으로 간주한다.<br>이때 <u>얼음 틀의 모양이 주어졌을 때 생성되는 총 아이스크림의 개수를 구하는 프로그램을 작성</u>하라.<br>다음의 4 x 5얼음 틀 예시에서는 아이스크림이 총 3개 생성된다.<br><img src=\"image/3강/3강_음료수_얼려_먹기.PNG\" style=\"width: 400px;\"/><br><hr><br>난이도 中 | 풀이시간 30분 | 시간제한 1초 | 메모리제한 128MB<br><br>\\*입력조건:<br> - 첫 번째 줄에 얼음 틀의 세로 길이 N과 가로길이 M이 주어진다.(1 <= N, M <= 1,000)<br> - 두 번째 줄부터 N + 1번째 줄까지 얼음 틀의 형태가 주어진다.<br> - 이때 구멍이 뚫려있는 부분은 0, 그렇지 않은 부분은 1이다.<br><br>\\*출력조건:<br> - 한 번에 만들 수 있는 아이스크림의 개수를 출력한다.<br><br>\\*입력예시:<br>4 5<br>00110<br>00011<br>11111<br>00000<br><br>\\*출력예시:<br>3"
   ]
  },
  {
   "cell_type": "markdown",
   "id": "1696e4f8",
   "metadata": {},
   "source": [
    "### 6-1. DFS 또는 BFS - 음료수 얼려먹기: 문제 해결 아이디어\n",
    "#### 이 문제는 DFS 혹은 BFS로 해결할 수 있다. 일단 앞에서 배운 대로 얼음을 얼릴 수 있는 공간이 상, 하, 좌, 우로 연결되어 있다고 표현할 수 있으므로 그래프 형태로 모델링 할 수 있다.<br>다음과 같이 3 x 3크기의 얼음 틀이 있다고 가정하고 생각해보자.<br><img src=\"image/3강/3강_음료수_얼려_먹기_문제해결아이디어.PNG\" style=\"width: 400px;\"/><br>"
   ]
  },
  {
   "cell_type": "markdown",
   "id": "f48f356d",
   "metadata": {},
   "source": [
    "### 6-1. DFS를 활용하는 알고리즘\n",
    "#### 1. 특정한 지점의 주변 상, 하, 좌, 우를 살펴본 뒤에 주변 지점 중에서 값이 '0'이면서 아직 방문하지 않은 지점이 있다면 해당 지점을 방문한다.<br><br>2. 방문한 지점에서 다시 상, 하, 좌, 우를 살펴보면서 방문을 진행하는 과정을 반복하여, <u>연결된 모든 지점을 방문</u>할 수 있다.<br><br>3. 모든 노드에 대하여 1~2번 과정을 반복하며, 방문하지 않은 지점의 수를 카운트한다."
   ]
  },
  {
   "cell_type": "code",
   "execution_count": 20,
   "id": "d2c6a22a",
   "metadata": {},
   "outputs": [
    {
     "name": "stdout",
     "output_type": "stream",
     "text": [
      "4 5\n",
      "00110\n",
      "00011\n",
      "11111\n",
      "00000\n",
      "3\n"
     ]
    }
   ],
   "source": [
    "# DFS - 음료수 얼려 먹기: 답안 예시(Python)\n",
    "\n",
    "# DFS로 특정 노드를 방문하고 연결된 모든 노드들도 방문\n",
    "def dfs(x, y):\n",
    "    # 주어진 범위를 벗어나는 경우에는 즉시 종료\n",
    "    if x <= -1 or x >= n or y <= -1 or y >= m:  # idx = 0~n-1 또는 0~m-1까지\n",
    "        return False\n",
    "    # 현재 노드를 아직 방문하지 않았다면\n",
    "    if graph[x][y] == 0:\n",
    "        # 해당 노드 방문 처리\n",
    "        graph[x][y] = 1\n",
    "        # 상, 하, 좌, 우의 위치들도 모두 재귀적으로 호출\n",
    "        dfs(x - 1, y)\n",
    "        dfs(x, y - 1)\n",
    "        dfs(x + 1, y)\n",
    "        dfs(x, y + 1)\n",
    "        return True\n",
    "    return False\n",
    "\n",
    "# N, M을 공백을 기준으로 구분하여 입력 받기\n",
    "n, m = map(int, input().split())\n",
    "\n",
    "# 2차원 리스트의 맵 정보 입력 받기\n",
    "graph = []\n",
    "for i in range(n):\n",
    "    graph.append(list(map(int, input())))\n",
    "    \n",
    "# 모든 노드(위치)에 대하여 음료수 채우기\n",
    "result = 0\n",
    "for i in range(n):\n",
    "    for j in range(m):\n",
    "        # 현재 위치에서 DFS 수행\n",
    "        if dfs(i, j) == True:\n",
    "            result += 1\n",
    "            \n",
    "print(result)  # 정답 출력"
   ]
  },
  {
   "cell_type": "code",
   "execution_count": null,
   "id": "f25d43d2",
   "metadata": {},
   "outputs": [],
   "source": [
    "# DFS - 음료수 얼려 먹기: 답안 예시(C++)\n",
    "\n",
    "#include <bits/stdc++.h>\n",
    "\n",
    "using namespace std;\n",
    "\n",
    "int n, m;\n",
    "int graph[1001][1001];\n",
    "\n",
    "#// DFS로 특정 노드를 방문하고 연결된 모든 노드들도 방문\n",
    "bool dfs(int x, int y) {\n",
    "    #// 주어진 범위를 벗어나는 경우에는 즉시 종료\n",
    "    if(x <= -1 || x >= n || y <= -1 || y >= m) {\n",
    "        return false;\n",
    "    }\n",
    "    #// 현재 노드를 아직 방문하지 않았다면\n",
    "    if (graph[x][y] == 0) {\n",
    "        #// 해당 노드 방문 처리\n",
    "        graph[x][y] = 1;\n",
    "        #// 상, 하, 좌, 우의 위치들도 모두 재귀적으로 호출\n",
    "        dfs(x - 1, y);\n",
    "        dfs(x, y - 1);\n",
    "        dfs(x + 1, y);\n",
    "        dfs(x, y + 1);\n",
    "        return true;\n",
    "    }\n",
    "    return false;\n",
    "}\n",
    "\n",
    "int main() {\n",
    "    #// N, M을 공백을 기준으로 구분하여 입력 받기\n",
    "    cin >> n >> m;\n",
    "    #// 2차원 리스트의 맵 정보 입력 받기\n",
    "    for (int i = 0; i < n; i++) {\n",
    "        for (int j = 0; j < m; j++) {\n",
    "            scanf(\"%1d\", &graph[i][j]);\n",
    "        }\n",
    "    }\n",
    "    #// 모든 노드(위치)에 대하여 음료수 채우기\n",
    "    inf result = 0;\n",
    "    for (int i = 0; i < n; i++) {\n",
    "        for (int j = 0; j < m; j++) {\n",
    "            #// 현재 위치에서 DFS 수행\n",
    "            if (dfs(i, j)) {\n",
    "                result += 1;\n",
    "            }\n",
    "        }\n",
    "    }\n",
    "    cout << result << '\\n';\n",
    "}"
   ]
  },
  {
   "cell_type": "code",
   "execution_count": null,
   "id": "c977217b",
   "metadata": {},
   "outputs": [],
   "source": [
    "# DFS - 음료수 얼려 먹기: 답안 예시(Java)\n",
    "import java.util.*;\n",
    "\n",
    "public class Main {\n",
    "    #// DFS로 특정 노드를 방문하고 연결된 모든 노드들도 방문\n",
    "    public static boolean dfs(int x, int y) {\n",
    "        #// 주어진 범위를 벗어나는 경우에는 즉시 종료\n",
    "        if ( x <= -1 || x >= n || y <= -1 || y >= m) {  # idx = 0~n-1 또는 0~m-1까지\n",
    "            return false;\n",
    "        }\n",
    "        #// 현재 노드를 아직 방문하지 않았다면\n",
    "        if (graph[x][y] == 0) {\n",
    "            #// 해당 노드 방문 처리\n",
    "            graph[x][y] = 1;\n",
    "            #// 상, 하, 좌, 우의 위치들도 모두 재귀적으로 호출\n",
    "            dfs(x - 1, y);\n",
    "            dfs(x, y - 1);\n",
    "            dfs(x + 1, y);\n",
    "            dfs(x, y + 1);\n",
    "            return true;\n",
    "        }\n",
    "        return false;\n",
    "    }\n",
    "    \n",
    "    public static void main(String[] args) {\n",
    "        Scanner sc = new Scanner(System.in);\n",
    "        \n",
    "        #// N, M을 공백을 기준으로 구분하여 입력 받기\n",
    "        n = sc.nextInt();\n",
    "        m = sc.nextInt();\n",
    "        sc.nextLine();  #// 버퍼 지우기\n",
    "        \n",
    "        #// 2차원 리스트의 맵 정보 입력 받기\n",
    "        for (int i = 0; i < n; i++) {\n",
    "            String str = sc.nextLine();\n",
    "            for (int j = 0; j < m; j++) {\n",
    "                graph[i][j] = str.charAt(j) - '0';  # 아스키코드를 이용해 숫자 0 또는 1을 담는다.\n",
    "            }\n",
    "        }\n",
    "        \n",
    "        #// 모든 노드(위치)에 대하여 음료수 채우기\n",
    "        int result = 0;\n",
    "        for (int i = 0; i < n; i++) {\n",
    "            for (int j = 0; j < m; j++) {\n",
    "                #// 현재 위치에서 DFS 수행\n",
    "                if (dfs(i, j)) {\n",
    "                    result += 1;\n",
    "                }\n",
    "            }\n",
    "        }\n",
    "        System.out.println(result);  #//정답 출력\n",
    "    }\n",
    "}"
   ]
  },
  {
   "cell_type": "markdown",
   "id": "5b4211f7",
   "metadata": {},
   "source": [
    "### 6-2. BFS - 미로 탈출: 문제 설명\n",
    "#### 동빈이는 N x M크기의 직사각형 형태의 미로에 갇혔다.<br>미로에는 여러 마리의 괴물이 있어 이를 피해 탈출해야한다.<br><br>동빈이의 위치는 (1, 1)이며 미로의 출구는 (N, M)의 위치에 존재하며 한 번에 한 칸씩 이동할 수 있다.<br>이때 괴물이 있는 부분은 0으로, 괴물이 없는 부분은 1로 표시되어 있다.<br>미로는 반드시 탈출할 수 있는 형태로 제시된다.<br><br>이때 동빈이가 탈출하기 위해 움직여야 하는 최소 칸의 개수를 구하라.<br>칸을 셀 때는 시작 칸과 마지막 칸을 모두 포함해서 계산한다.<br><hr><br>난이도 中 | 풀이시간 30분 | 시간제한 1초 | 메모리제한 128MB<br><br>\\*입력조건:<br>첫째 줄에 두 정수 N, M(4 <= N, M <=200)이 주어진다.<br>다음 N개의 줄에는 각각 M개의 정수(0 혹은 1)로 미로의 정보가 주어진다.<br>각각의 수들은 공백 없이 붙어서 입력으로 제시된다.<br>또한 시작 칸과 마지막 칸은 항상 1이다.<br><br>\\*출력조건:<br>첫째 줄에 최소 이동칸의 개수를 출력한다.<br><br>\\*입력예시:<br>5 6<br>101010<br>111111<br>000001<br>111111<br>111111<br><br>\\*출력예시:<br>10"
   ]
  },
  {
   "cell_type": "markdown",
   "id": "3ea1797b",
   "metadata": {},
   "source": [
    "### 6-2. BFS - 미로 탈출: 문제 해결 아이디어\n",
    "#### *<mark>BFS는 간선의 비용이 모두 같을 때, 최단 거리를 탐색할 때 사용할 수 있는 알고리즘</mark>이다.\n",
    "#### BFS는 시작 지점에서 가까운 노드부터 차례대로 그래프의 모든 노드를 탐색한다.<br><br>상, 하, 좌, 우로 연결된 모든 노드로의 거리가 1로 동일하다.<br> - 따라서 (1, 1)지점부터 BFS를 수행하여 모든 노드의 최단 거리 값을 기록하면 해결할 수 있다.<br><br>예시로 다음과 같이 3 X 3크기의 미로가 있다고 가정해보자.<br><img src=\"image/3강/3강_미로탈출_문제해결아이디어.PNG\" style=\"width: 400px;\"/><br>Step1. 처음에 (1,1)의 위치에서 시작한다.<br><img src=\"image/3강/3강_미로탈출_step1.PNG\" style=\"width: 400px;\"/><br>Step2. (1, 1)좌표에서 상, 하, 좌, 우로 탐색을 진행하면 바로 옆 노드인 (1, 2)위치의 노드를 방문하게 되고 새롭게 방문하는 (1, 2)노드의 값을 2로 바꾸게 된다.<br><img src=\"image/3강/3강_미로탈출_step2.PNG\" style=\"width: 400px;\"/><br>Step3. 마찬가지로 BFS를 계속 수행하면 결과적으로 다음과 같이 최단 경로의 값들이 1씩 증가하는 형태로 변경된다.<br><img src=\"image/3강/3강_미로탈출_step3.PNG\" style=\"width: 400px;\"/><br>"
   ]
  },
  {
   "cell_type": "code",
   "execution_count": 24,
   "id": "c7bbc9cf",
   "metadata": {},
   "outputs": [
    {
     "name": "stdout",
     "output_type": "stream",
     "text": [
      "5 6\n",
      "101010\n",
      "111111\n",
      "000001\n",
      "111111\n",
      "111111\n",
      "10\n"
     ]
    }
   ],
   "source": [
    "# 미로탈출: 답안 예시(Python)\n",
    "\n",
    "# BFS 소스코드 구현\n",
    "def bfs(x, y):\n",
    "    # 큐(Queue) 구현을 위해 deque 라이브러리 사용\n",
    "    queue = deque()\n",
    "    queue.append((x, y))\n",
    "    # 큐가 빌 때까지 반복하기\n",
    "    while queue:\n",
    "        x, y = queue.popleft()\n",
    "        # 현재 위치에서 4가지 방향으로의 위치 확인\n",
    "        for i in range(4):\n",
    "            nx = x + dx[i]\n",
    "            ny = y + dy[i]\n",
    "            # 미로 찾기 공간을 벗어난 경우 무시\n",
    "            if nx < 0 or nx >= n or ny < 0 or ny >= m:  # idx = 0~n-1 또는 0~m-1까지\n",
    "                continue\n",
    "            # 벽(괴물)인 경우 무시\n",
    "            if graph[nx][ny] == 0:\n",
    "                continue\n",
    "            # 해당 노드를 처음 방문하는 경우에만 최단 거리 기록\n",
    "            if graph[nx][ny] == 1:\n",
    "                graph[nx][ny] = graph[x][y] + 1\n",
    "                queue.append((nx, ny))\n",
    "    # 가장 오른쪽 아래까지의 최단 거리 반환\n",
    "    return graph[n - 1][m - 1]\n",
    "\n",
    "from collections import deque\n",
    "\n",
    "# N, M을 공백을 기준으로 구분하여 입력 받기\n",
    "n, m = map(int, input().split())\n",
    "# 2차원 리스트의 맵 정보 입력 받기\n",
    "graph = []\n",
    "for i in range(n):\n",
    "    graph.append(list(map(int, input())))\n",
    "    \n",
    "# 이동할 네 가지 방향 정의(상, 하, 좌, 우)\n",
    "dx = [-1, 1, 0, 0]\n",
    "dy = [0, 0, -1, 1]\n",
    "\n",
    "# BFS를 수행한 결과 출력\n",
    "print(bfs(0, 0))"
   ]
  },
  {
   "cell_type": "code",
   "execution_count": null,
   "id": "50732a1a",
   "metadata": {},
   "outputs": [],
   "source": [
    "# 미로탈출: 답안 예시(C++) - 전체코드는 깃허브에서 확인\n",
    "\n",
    "int bfs(int x, int y) {\n",
    "    #// 큐(Queue) 구현을 위해 queue 라이브러리 사용\n",
    "    queue<pair<int, int>> q;\n",
    "    q.push({x, y});\n",
    "    #// 큐가 빌 때까지 반복하기\n",
    "    while(!q.empty()) {\n",
    "        int x = q.front().first;\n",
    "        int y = q.front().second;\n",
    "        q.pop();\n",
    "        #// 현재 위치에서 4가지 방향으로의 위치 확인\n",
    "        for (int i = 0; i < 4; i++) {\n",
    "            int nx = x + dx[i];\n",
    "            int ny = y + dy[i];\n",
    "            #// 미로 찾기 공간을 벗어난 경우 무시\n",
    "            if (nx < 0 || nx >= n || ny < 0 || ny >= m) continue;\n",
    "            #// 벽인 경우 무시\n",
    "            if (graph[nx][ny] == 0) continue;\n",
    "            #// 해당 노드를 처음 방문하는 경우에만 최단 거리 기록\n",
    "            if (graph[nx][ny] == 1) {\n",
    "                graph[nx][ny] = graph[x][y] + 1;\n",
    "                q.push({nx, ny});\n",
    "            }\n",
    "        }\n",
    "    }\n",
    "    #// 가장 오른쪽 아래까지의 최단 거리 반환\n",
    "    return graph[n - 1][m - 1];\n",
    "}\n",
    "\n",
    "#include <bits/stdc++.h>\n",
    "\n",
    "using namespace std;\n",
    "\n",
    "int n, m;\n",
    "int graph[201][201];\n",
    "\n",
    "#// 이동할 네 가지 방향 정의 (상, 하, 좌, 우)\n",
    "int dx[] = {-1, 1, 0, 0};\n",
    "int dy[] = {0, 0, -1, 1};\n",
    "\n",
    "int main(void) {\n",
    "    cin >> n >> m;\n",
    "    for (int i = 0; i < n; i++) {\n",
    "        for (int j = 0; j < m; j++) {\n",
    "            scanf(\"%1d\", &graph[i][j]);\n",
    "        }\n",
    "    }\n",
    "    cout << bfs(0, 0) << '\\n';\n",
    "    return 0;\n",
    "}"
   ]
  },
  {
   "cell_type": "code",
   "execution_count": null,
   "id": "fd641fd1",
   "metadata": {},
   "outputs": [],
   "source": [
    "# 미로탈출: 답안 예시(Python) - 깃허브에서 확인(C++과 동일한 로직사용)"
   ]
  }
 ],
 "metadata": {
  "kernelspec": {
   "display_name": "Python 3",
   "language": "python",
   "name": "python3"
  },
  "language_info": {
   "codemirror_mode": {
    "name": "ipython",
    "version": 3
   },
   "file_extension": ".py",
   "mimetype": "text/x-python",
   "name": "python",
   "nbconvert_exporter": "python",
   "pygments_lexer": "ipython3",
   "version": "3.8.8"
  },
  "toc": {
   "base_numbering": 1,
   "nav_menu": {},
   "number_sections": true,
   "sideBar": true,
   "skip_h1_title": false,
   "title_cell": "Table of Contents",
   "title_sidebar": "Contents",
   "toc_cell": false,
   "toc_position": {},
   "toc_section_display": true,
   "toc_window_display": false
  }
 },
 "nbformat": 4,
 "nbformat_minor": 5
}
