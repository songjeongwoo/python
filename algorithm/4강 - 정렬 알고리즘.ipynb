{
 "cells": [
  {
   "cell_type": "markdown",
   "id": "336c2118",
   "metadata": {},
   "source": [
    "### 4강. 정렬 알고리즘\n",
    "#### 정렬(Sorting)이란 <u>데이터를 특정한 기준에 따라 순서대로 나열</u>하는 것을 말한다.<br><br>일반적으로 문제 상황에 따라서 적절한 정렬 알고리즘이 공식처럼 사용된다."
   ]
  },
  {
   "cell_type": "markdown",
   "id": "e7cf5c02",
   "metadata": {},
   "source": [
    "### 1-1. 선택 정렬\n",
    "#### 처리되지 않은 데이터 중에서 <u>가장 작은 데이터를 <font color='red'>선택</font>해 맨 앞에 있는 데이터와 바꾸는 것을 반복<u>한다."
   ]
  },
  {
   "cell_type": "markdown",
   "id": "9db8f302",
   "metadata": {},
   "source": [
    "### 1-1. 선택 정렬 동작 예시\n",
    "#### 정렬할 데이터를 준비한다.<br>![nn](image/4강/4강_선택정렬.PNG)<br>Step0. 처리되지 않은 데이터 중 가장 작은 '0'을 선택해 가장 앞의 '7'과 바꾼다.<br>![nn](image/4강/4강_선택정렬_step0.PNG)<br>Step1. 처리되지 않은 데이터 중 가장 작은 '1'을 선택해 가장 앞의 '5'와 바꾼다.<br>![nn](image/4강/4강_선택정렬_step1.PNG)<br>Step2. 처리되지 않은 데이터 중 가장 작은 '2'를 선택해 가장 앞의 '9'와 바꾼다.<br>![nn](image/4강/4강_선택정렬_step2.PNG)<br>Step3. 처리되지 않은 데이터 중 가장 작은 '3'을 선택해 가장 앞의 '7'과 바꾼다.<br>![nn](image/4강/4강_선택정렬_step3.PNG)<br>이러한 과정을 반복하면 다음과 같이 정렬이 완료된다.<br>![nn](image/4강/4강_선택정렬_final.PNG)<br>\n"
   ]
  },
  {
   "cell_type": "code",
   "execution_count": 2,
   "id": "3096b13e",
   "metadata": {},
   "outputs": [
    {
     "name": "stdout",
     "output_type": "stream",
     "text": [
      "[0, 1, 2, 3, 4, 5, 6, 7, 8, 9]\n"
     ]
    }
   ],
   "source": [
    "# 선택 정렬 소스코드(Python)\n",
    "array = [7, 5, 9, 0, 3, 1, 6, 2, 4, 8]\n",
    "# array = [0, 1, 9, 7, 3, 5, 6, 2, 4, 8]  # 결과 동일\n",
    "\n",
    "for i in range(len(array)):\n",
    "    min_index = i  # 가장 작은 원소의 인덱스\n",
    "    for j in range(i + 1, len(array)):\n",
    "        if array[min_index] > array[j]:\n",
    "            min_index = j\n",
    "    array[i], array[min_index] = array[min_index], array[i]  # 스와프\n",
    "    \n",
    "print(array)"
   ]
  },
  {
   "cell_type": "code",
   "execution_count": null,
   "id": "2fc3c461",
   "metadata": {},
   "outputs": [],
   "source": [
    "# 선택 정렬 소스코드(C++)\n",
    "\n",
    "#include <bits/stdc++.h>\n",
    "\n",
    "using namespace std;\n",
    "\n",
    "int n = 10;\n",
    "int target[10] = {7, 5, 9, 0, 3, 1, 6, 2, 4, 8};\n",
    "\n",
    "int main(void) {\n",
    "    for (int i = 0; i < n; i++) {\n",
    "        int min_index = i;\n",
    "        for (int j = i + 1; j < n; j++) {\n",
    "            if (target[min_index] > target[j]) {\n",
    "                min_index = j;\n",
    "            }\n",
    "        }\n",
    "        swap(target[i], targe[min_index]);\n",
    "    }\n",
    "    for(int i = 0; i < n; i++) {\n",
    "        cout << target[i] << ' ';  #// 실행결과: 0 1 2 3 4 5 6 7 8 9\n",
    "    }\n",
    "    return 0;\n",
    "}"
   ]
  },
  {
   "cell_type": "code",
   "execution_count": null,
   "id": "469f6efa",
   "metadata": {},
   "outputs": [],
   "source": [
    "# 선택 정렬 소스코드(Java)\n",
    "import java.util.*;\n",
    "\n",
    "public class Main {\n",
    "    public static void main(String[] args) {\n",
    "        int n = 10;\n",
    "        int[] arr = {7, 5, 9, 0, 3, 1, 6, 2, 4, 8};\n",
    "        \n",
    "        for (int i = 0; i < n; i++) {\n",
    "            int min_index = i;  #// 가장 작은 원소의 인덱스\n",
    "            for (int j = i + 1; j < n; j++) {\n",
    "                if (arr[min_index] > arr[j]) {\n",
    "                    min_index = j;\n",
    "                }\n",
    "            }\n",
    "            #// 스와프\n",
    "            int temp = arr[i];\n",
    "            arr[i] = arr[min_index];\n",
    "            arr[min_index] = temp;\n",
    "        }\n",
    "        for(int i = 0; i < n; i++) {\n",
    "            System.out.print(arr[i] + \" \");  #// 실행결과: 0 1 2 3 4 5 6 7 8 9 \n",
    "        }\n",
    "    }\n",
    "}"
   ]
  },
  {
   "cell_type": "markdown",
   "id": "4c7a9e7f",
   "metadata": {},
   "source": [
    "### 1-1. 선택 정렬의 시간 복잡도\n",
    "#### 선택 정렬은 N번 만큼 가장 작은 수를 찾아서 맨 앞으로 보내야한다.<br><br>구현 방식에 따라서 사소한 오차는 있을 수 있지만, 전체 연산 횟구는 다음과 같다.<br>&nbsp;&nbsp;&nbsp;&nbsp;&nbsp;&nbsp;N + (N - 1) + (N - 2) + ... + 2<br><br>이는 (N² + N - 2) / 2로 표현할 수 있는데, <mark>빅오 표기법에 따라서 O(N²)</mark>이라고 작성한다.<hr>"
   ]
  },
  {
   "cell_type": "markdown",
   "id": "443d2e59",
   "metadata": {},
   "source": [
    "### 1-2. 삽입 정렬\n",
    "#### 처리되지 않은 데이터를 하나씩 골라 <u>적절한 위치에 <font color='red'>삽입</font>한다.<br><br>선택 정렬에 비해 구현 난이도가 높은 편이지만, 일반적으로 더 효율적으로 동작한다."
   ]
  },
  {
   "cell_type": "markdown",
   "id": "5ae216e1",
   "metadata": {},
   "source": [
    "### 1-2. 삽입 정렬 동작 예시\n",
    "#### Step0. 첫 번째 데이터 '7'은 그 자체로 정렬이 되어 있다고 판단하고, 두 번째 데이터인 '5'가 어떤 위치로 들어갈지 판단한다.<br>'7'의 왼쪽으로 들어가거나 오른쪽으로 들어가거나 두 경우만 존재한다.<br>![nn](image/4강/4강_삽입정렬_step0.PNG)<br>Step1. 이어서 '9'가 어떤 위치로 들어갈지 판단한다.<br>![nn](image/4강/4강_삽입정렬_step1.PNG)<br>Step2. 이어서 '0'이 어떤 위치로 들어갈지 판단한다.<br>![nn](image/4강/4강_삽입정렬_step2.PNG)<br>Step3. 이어서 '3'이 어떤 위치로 들어갈지 판단한다.<br>![nn](image/4강/4강_삽입정렬_step3.PNG)<br>이러한 과정을 반복하면 다음과 같이 정렬이 완료된다.<br>![nn](image/4강/4강_삽입정렬_final.PNG)<br>"
   ]
  },
  {
   "cell_type": "code",
   "execution_count": 3,
   "id": "acf78037",
   "metadata": {},
   "outputs": [
    {
     "name": "stdout",
     "output_type": "stream",
     "text": [
      "[0, 1, 2, 3, 4, 5, 6, 7, 8, 9]\n"
     ]
    }
   ],
   "source": [
    "# 삽입 정렬 소스코드(Python)\n",
    "array = [7, 5, 9, 0, 3, 1, 6, 2, 4, 8]\n",
    "\n",
    "for i in range(1, len(array)):\n",
    "    for j in range(i, 0, -1):  # 인덱스 i부터 1까지 1씩 감소하며 반복하는 문법\n",
    "        if array[j] < array[j - 1]:  # 한 칸씩 왼쪽으로 이동\n",
    "            array[j], array[j - 1] = array[j - 1], array[j]\n",
    "        else:  # 자기보다 작은 데이터를 만나면 그 위치에서 멈춤\n",
    "            break\n",
    "            \n",
    "print(array)"
   ]
  },
  {
   "cell_type": "code",
   "execution_count": null,
   "id": "3aa876b3",
   "metadata": {},
   "outputs": [],
   "source": [
    "# 삽입 정렬 소스코드(C++)\n",
    "\n",
    "#include <bits/stdc++.h>\n",
    "\n",
    "using namespace std;\n",
    "\n",
    "int n = 10;\n",
    "int target[10] = {7, 5, 9, 0, 3, 1, 6, 2, 4, 8};\n",
    "\n",
    "int main(void) {\n",
    "    for (int i = 1; i < n; i++) {\n",
    "        for (int j = i; j > 0; j--) {\n",
    "            if (target[j] < target[j - 1]) {\n",
    "                swap(target[j], target[j - 1]);\n",
    "            }\n",
    "            else break;\n",
    "        }\n",
    "    }\n",
    "    for(int i = 0; i < n; i++) {\n",
    "        cout << target[i] << ' ';  #// 실행결과: [0, 1, 2, 3, 4, 5, 6, 7, 8, 9]\n",
    "    }\n",
    "    return 0;\n",
    "}"
   ]
  },
  {
   "cell_type": "code",
   "execution_count": null,
   "id": "3c98f827",
   "metadata": {},
   "outputs": [],
   "source": [
    "# 삽입 정렬 소스코드(Java)\n",
    "import java.util.*;\n",
    "\n",
    "public class Main {\n",
    "    public static void main(String[] args) {\n",
    "        int n = 10;\n",
    "        int[] arr = {7, 5, 9, 0, 3, 1, 6, 2, 4, 8};\n",
    "        for (int i = 1; i < n; i++) {\n",
    "            #// 인덱스 i부터 1까지 감소하며 반복하는 문법\n",
    "            for (int j = i; j > 0; j--) {\n",
    "                #// 한 칸씩 왼쪽으로 이동\n",
    "                if (arr[j] < arr[j - 1]) {\n",
    "                    #// 스와프(Swap)\n",
    "                    int temp = arr[j];\n",
    "                    arr[j] = arr[j - 1];\n",
    "                    arr[j - 1] = temp;\n",
    "                }\n",
    "                #// 자기보다 작은 데이터를 만나면 그 위치에서 멈춤\n",
    "                else break;\n",
    "            }\n",
    "        }\n",
    "        for(int i = 0; i < n; i++) {\n",
    "            System.out.print(arr[i] + \" \");  #// 실행결과: [0, 1, 2, 3, 4, 5, 6, 7, 8, 9]\n",
    "        }\n",
    "    }\n",
    "}"
   ]
  },
  {
   "cell_type": "markdown",
   "id": "7038d285",
   "metadata": {},
   "source": [
    "### 1-2. 삽입 정렬의 시간 복잡도\n",
    "#### 삽입 정렬의 시간 복잡도는 O(N²)이며, 선택 정렬과 마찬가지로 반복문이 두 번 중첩되어 사용된다.<br><br>삽입 정렬은 <u>현재 리스트의 데이터가 거의 정렬되어 있는 상태라면 매우 빠르게 동작</u>한다.<br> - 최선의 경우 O(N)의 시간 복잡도를 가진다.<br> - 이미 정렬되어 있는 상태에서 다시 삽입 정렬을 수행하면 어떻게 될까?<br>![nn](image/4강/4강_삽입정렬_final.PNG)<br><hr>"
   ]
  },
  {
   "cell_type": "markdown",
   "id": "407f5e0a",
   "metadata": {},
   "source": [
    "### 1-3. 퀵 정렬\n",
    "#### <u>기준 데이터를 설정</u>하고 그 <mark>기준보다 큰 데이터와 작은 데이터의 위치를 바꾸는 방법</mark>이다.<br><br>일반적인 상황에서 가장 많이 사용되는 정렬 알고리즘 중 하나이다.<br><br>병합 정렬과 더불어 대부분의 프로그래밍 언어의 정렬 라이브러리의 근간이 되는 알고리즘이다.<br><br>가장 기본적인 퀵 정렬은 <mark>첫 번째 데이터를 기준 데이터(Pivot)로 설정</mark>한다."
   ]
  },
  {
   "cell_type": "markdown",
   "id": "8900ae70",
   "metadata": {},
   "source": [
    "### 1-3. 퀵 정렬 동작 예시\n",
    "#### Step0. 현재 피벗의 값은 '5'이다. 왼쪽에서부터 '5'보다 큰 데이터를 선택하므로 '7'이 선택되고, 오른쪽에서부터 '5'보다 작은 데이터를 선택하므로 '4'가 선택된다.<br>이제 이 두 데이터의 위치를 서로 변경한다.<br>![nn](image/4강/4강_퀵정렬_step0.PNG)<br><br>Step1. 현재 피벗의 값은 '5'이다.<br>왼쪽에서부터 '5'보다 큰 데이터를 선택하므로 '9'가 선택되고, 오른쪽에서부터 '5'보다 작은 데이터를 선택하므로 '2'가 선택된다.<br>이제 이 두 데이터의 위치를 서로 변경한다.<br>![nn](image/4강/4강_퀵정렬_step1.PNG)<br><br>Step2. 현재 피벗의 값은 '5'이다.<br>왼쪽에서부터 '5'보다 큰 데이터를 선택하므로 '6'이 선택되고, 오른쪽에서부터 '5'보다 작은 데이터를 선택하므로 '1'이 선택된다.<br>단, 이처럼 <font color='red'>위치가 엇갈리는 경우 '피벗'과 '작은 데이터'의 위치를 서로 변경</font>한다.<br>![nn](image/4강/4강_퀵정렬_step2.PNG)<br><br>[분할 완료] 이제 '5'의 왼쪽에 있는 데이터는 모두 5보다 작고, 오른쪽에 있는 데이터는 모두 '5'보다 크다는 특징이 있다. 이렇게 <u>피벗을 기준으로 데이터 묶음을 나누는 작업</u>을 <u>분할(Divide)</u>라고 한다.<br>![nn](image/4강/4강_퀵정렬_분할완료.PNG)<br><br>[왼쪽 데이터 묶음 정렬] 왼쪽에 있는 데이터에 대해서 마찬가지로 정렬을 수행한다.<br>![nn](image/4강/4강_퀵정렬_왼쪽데이터묶음정렬.PNG)<br><br>[오른쪽 데이터 묶음 정렬] 오른쪽에 있는 데이터에 대해서 마찬가지로 정렬을 수행한다.<br> - 이러한 과정을 반복하면 전체 데이터에 대해서 정렬이 수행된다.<br>![nn](image/4강/4강_퀵정렬_오른쪽데이터묶음정렬.PNG)<br>"
   ]
  },
  {
   "cell_type": "markdown",
   "id": "6e1ca2bd",
   "metadata": {},
   "source": [
    "### 1-3. 퀵 정렬이 빠른 이유: 직관적인 이해\n",
    "#### 이상적인 경우 분할이 절반씩 일어난다면 전체 연산 횟수로 O(NlogN)를 기대할 수 있다.<br><img src=\"image/4강/4강_퀵정렬_직관적인이해.PNG\" style=\"width: 400px;\"/><br>"
   ]
  },
  {
   "cell_type": "markdown",
   "id": "c07402c8",
   "metadata": {},
   "source": [
    "### 1-3. 퀵 정렬의 시간 복잡도\n",
    "#### 퀵정렬은 평균의 경우 O(NlogN)의 시간 복잡도를 가진다.<br>하지만 최악의 경우 O(N²)의 시간 복잡도를 가진다.<br> - 첫 번째 원소를 피벗으로 삼을 때, 이미 정렬된 배열에 대해서 퀵 정렬을 수행하면 어떻게 될까?<br>![nn](image/4강/4강_삽입정렬_final.PNG)<br><hr>"
   ]
  },
  {
   "cell_type": "code",
   "execution_count": 4,
   "id": "5ec28166",
   "metadata": {},
   "outputs": [
    {
     "name": "stdout",
     "output_type": "stream",
     "text": [
      "[0, 1, 2, 3, 4, 5, 6, 7, 8, 9]\n"
     ]
    }
   ],
   "source": [
    "# 퀵 정렬 소스코드: 일반적인 방식(Python)\n",
    "\n",
    "array = [5, 7, 9, 0, 3, 1, 6, 2, 4, 8]\n",
    "\n",
    "def quick_sort(array, start, end):\n",
    "    if start >= end:  # 원소가 1개인 경우 종료\n",
    "        return\n",
    "    pivot = start  # 피벗은 첫 번째 원소\n",
    "    left = start + 1\n",
    "    right = end\n",
    "    while(left <= right):\n",
    "        # 피벗보다 큰 데이터를 찾을 때까지 반복\n",
    "        while(left <= end and array[left] <= array[pivot]):\n",
    "            left += 1\n",
    "        # 피벗보다 작은 데이터를 찾을 때까지 반복\n",
    "        while(right > start and array[right] >= array[pivot]):\n",
    "            right -= 1\n",
    "        if(left > right):  # 엇갈렸다면 작은 데이터와 피벗을 교체\n",
    "            array[right], array[pivot] = array[pivot], array[right]\n",
    "        else:  # 엇갈리지 않았다면 작은 데이터와 큰 데이터를 교체\n",
    "            array[left], array[right] = array[right], array[left]\n",
    "    # 분할 이후 왼쪽 부분과 오른쪽 부분에서 각각 정렬 수행\n",
    "    quick_sort(array, start, right - 1)\n",
    "    quick_sort(array, right + 1, end)\n",
    "    \n",
    "quick_sort(array, 0, len(array) - 1)\n",
    "print(array)"
   ]
  },
  {
   "cell_type": "code",
   "execution_count": null,
   "id": "bc53e017",
   "metadata": {},
   "outputs": [],
   "source": [
    "# 퀵 정렬 소스코드: 일반적인 방식(C++)\n",
    "\n",
    "#include <bits/stdc++.h>\n",
    "\n",
    "using namespace std;\n",
    "\n",
    "int n = 10;\n",
    "int target[10] = {7, 5, 9, 0, 3, 1, 6, 2, 4, 8};\n",
    "\n",
    "void quickSort(int* target, int start, int end) {\n",
    "    if (start >= end) return;\n",
    "    int pivot = start;\n",
    "    int left = start + 1;\n",
    "    int right = end;\n",
    "    while (left <= right) {\n",
    "        while (left <= end && target[left] <= target[pivot]) left++;\n",
    "        while (right > start && target[right] >= target[pivot]) right--;\n",
    "        if (left > right) swap(target[pivot], target[right]);\n",
    "        else swap(target[left], target[right]);\n",
    "    }\n",
    "    quickSort(target, start, right - 1);\n",
    "    quickSort(target, right + 1, end);\n",
    "}\n",
    "\n",
    "int main(void) {\n",
    "    quickSort(target, 0, n - 1);\n",
    "    for (int i = 0; i < n; i++) cout << target[i] << ' ';  #// 실행결과: 0 1 2 3 4 5 6 7 8 9\n",
    "    return 0;\n",
    "}"
   ]
  },
  {
   "cell_type": "code",
   "execution_count": null,
   "id": "5de7db24",
   "metadata": {},
   "outputs": [],
   "source": [
    "# 퀵 정렬 소스코드: 일반적인 방식(Java)\n",
    "import java.util.*;\n",
    "\n",
    "public class Main {\n",
    "\n",
    "    public static void quickSort(int[] arr, int start, int end) {\n",
    "        if (start >= end) return;  #// 원소가 1개인 경우 종료\n",
    "        int pivot = start;  #// 피벗은 첫 번째 원소\n",
    "        int left = start + 1;\n",
    "        int right = end;\n",
    "        while (left <= right) {\n",
    "            #// 피벗보다 큰 데이터를 찾을 때까지 반복\n",
    "            while (left <= end && arr[left] <= arr[pivot]) left++;\n",
    "            #// 피벗보다 작은 데이터를 찾을 때까지 반복\n",
    "            while (right > start && arr[right] >= arr[pivot]) right--;\n",
    "            #// 엇갈렸다면 작은 데이터와 피벗을 교체\n",
    "            if (left > right) {\n",
    "                int temp = arr[pivot];\n",
    "                arr[pivot] = arr[right];\n",
    "                arr[right] = temp;\n",
    "            }\n",
    "            #// 엇갈리지 않았다면 작은 데이터와 큰 데이터를 교체\n",
    "            else {\n",
    "                int temp = arr[left];\n",
    "                arr[left] = arr[right];\n",
    "                arr[right] = temp;\n",
    "            }\n",
    "        }\n",
    "        #// 분할 이후 왼쪽 부분과 오른쪽 부분에서 각각 정렬 수행\n",
    "        quickSort(arr, start, right - 1);\n",
    "        quickSort(arr, right + 1, end);\n",
    "    }\n",
    "\n",
    "    public static void main(String[] args) {\n",
    "        int n = 10;\n",
    "        int[] arr = {7, 5, 9, 0, 3, 1, 6, 2, 4, 8};\n",
    "\n",
    "        quickSort(arr, 0, n - 1);\n",
    "\n",
    "        for(int i = 0; i < n; i++) {\n",
    "            System.out.print(arr[i] + \" \");  #// 실행결과: 0 1 2 3 4 5 6 7 8 9\n",
    "        }\n",
    "    }\n",
    "}"
   ]
  },
  {
   "cell_type": "code",
   "execution_count": 8,
   "id": "15687fd5",
   "metadata": {},
   "outputs": [
    {
     "name": "stdout",
     "output_type": "stream",
     "text": [
      "[0, 1, 2, 3, 4, 5, 6, 7, 8, 9]\n"
     ]
    }
   ],
   "source": [
    "# 퀵 정렬 소스코드: 파이썬의 장점을 살린 방식(Python)\n",
    "array = [5, 7, 9, 0, 3, 1, 6, 2, 4, 8]\n",
    "\n",
    "def quick_sort(array):\n",
    "    # 리스트가 하나 이하의 원소만을 담고 있다면 종료\n",
    "    if len(array) <= 1:\n",
    "        return array\n",
    "    pivot = array[0]  # 피벗은 첫 번째 원소\n",
    "    tail = array[1:]  # 피벗을 제외한 리스트\n",
    "    \n",
    "    left_side = [x for x in tail if x <= pivot]  # 분할된 왼쪽 부분\n",
    "    right_side = [x for x in tail if x > pivot]  # 분할된 오른쪽 부분\n",
    "\n",
    "    # 분할 이후 왼쪽 부분과 오른쪽 부분에서 각각 정렬 수행하고, 전체 리스트 반환\n",
    "    return quick_sort(left_side) + [pivot] + quick_sort(right_side)\n",
    "                # cf) [1] + [pivot] + [2] = [1, pivot, 2]처럼 리스트 붙이기가 된다.\n",
    "\n",
    "print(quick_sort(array))"
   ]
  },
  {
   "cell_type": "markdown",
   "id": "c10574bc",
   "metadata": {},
   "source": [
    "### 1-4. 계수 정렬\n",
    "#### 특정한 조건이 부합할 때만 사용할 수 있지만 <font color='red'>매우 빠르게 동작하는</font>정렬 알고리즘이다.<br> - 계수 정렬은 <u>데이터의 크기 범위가 제한되어 정수 형태로 표현할 수 있을 때</u>사용 가능하다.<br><br>데이터의 개수가 N, 데이터(양수) 중 최댓값이 K일 때 최악의 경우에도 수행 시간 O(N + K)를 보장한다."
   ]
  },
  {
   "cell_type": "markdown",
   "id": "435a4b6a",
   "metadata": {},
   "source": [
    "### 1-4. 계수 정렬 동작 예시\n",
    "#### Step0. 가장 작은 데이터부터 가장 큰 데이터까지의 범위가 모두 담길 수 있도록 리스트를 생성한다.<br><br>정렬할 데이터: 7 5 9 0 3 1 6 2 9 1 4 8 0 5 2<br>![nn](image/4강/4강_계수정렬.PNG)<br>Step1. 데이터를 하나씩 확인하며 데이터의 값과 동일한 인덱스의 데이터를 1씩 증가시킨다.<br>![nn](image/4강/4강_계수정렬_step1.PNG)<br>Step2. 데이터를 하나씩 확인하며 데이터의 값과 동일한 인덱스의 데이터를 1씩 증가시킨다.<br>![nn](image/4강/4강_계수정렬_step2.PNG)<br>Step3. 데이터를 하나씩 확인하며 데이터의 값과 동일한 인덱스의 데이터를 1씩 증가시킨다.<br>![nn](image/4강/4강_계수정렬_step3.PNG)<br><br>.<br>.<br>.<br><br>Step15. 결과적으로 최종 리스트에는 각 데이터가 몇 번씩 등장했는지 그 횟수가 기록된다.<br>![nn](image/4강/4강_계수정렬_final.PNG)<br><br><u>결과를 확인할 때</u>는 리스트의 첫 번째 데이터부터 하나씩 그 값만큼 반복하여 인덱스를 출력한다.<br><br><mark>출력결과: 0 0 1 1 2 2 3 4 5 5 6 7 8 9 9</mark>"
   ]
  },
  {
   "cell_type": "code",
   "execution_count": 9,
   "id": "1ac67e16",
   "metadata": {},
   "outputs": [
    {
     "name": "stdout",
     "output_type": "stream",
     "text": [
      "0 0 1 1 2 2 3 4 5 5 6 7 8 9 9 "
     ]
    }
   ],
   "source": [
    "# 계수 정렬 소스코드(Python)\n",
    "\n",
    "# 모든 원소의 값이 0보다 크거나 같다고 가정\n",
    "array = [7, 5, 9, 0, 3, 1, 6, 2, 9, 1, 4, 8, 0, 5, 2]\n",
    "\n",
    "# 모든 범위를 포함하는 리스트 선언(모든 값은 0으로 초기화)\n",
    "count = [0] * (max(array) + 1)\n",
    "\n",
    "for i in range(len(array)):\n",
    "    count[array[i]] += 1  # 각 데이터에 해당하는 인덱스의 값 증가\n",
    "    \n",
    "for i in range(len(count)):  # 리스트에 기록된 정렬 정보 확인\n",
    "    for j in range(count[i]):\n",
    "        print(i, end=' ')  # 띄어쓰기를 구분으로 등장한 횟수만큼 인덱스 출력"
   ]
  },
  {
   "cell_type": "code",
   "execution_count": null,
   "id": "b3f00d67",
   "metadata": {},
   "outputs": [],
   "source": [
    "# 계수 정렬 소스코드(C++)\n",
    "\n",
    "#include <bits/stdc++.h>\n",
    "#define MAX_VALUE 9    #// 가장 큰 값이 9라고 가정\n",
    "\n",
    "using namespace std;\n",
    "\n",
    "int n = 15;\n",
    "#// 모든 원소의 값이 0보다 크거나 같다고 가정\n",
    "int arr[15] = {7, 5, 9, 0, 3, 1, 6, 2, 9, 1, 4, 8, 0, 5, 2};\n",
    "#// 모든 범위를 포함하는 배열 선언(모든 값은 0으로 초기화)\n",
    "int cnt[MAX_VALUE + 1];\n",
    "\n",
    "int main(void) {\n",
    "    for (int i = 0; i < n; i++) {\n",
    "        cnt[arr[i]] += 1;  #// 각 데이터에 해당하는 인덱스의 값 증가\n",
    "    }\n",
    "    for (int i = 0; i <= MAX_VALUE; i++) {  #// 배열에 기록된 정렬 정보 확인\n",
    "        for (int j = 0; j < cnt[i]; j++) {\n",
    "            cout << i << ' ';  #// 띄어쓰기를 기준으로 등장한 횟수만큼 인덱스 출력\n",
    "        }\n",
    "    }\n",
    "}"
   ]
  },
  {
   "cell_type": "code",
   "execution_count": null,
   "id": "25839760",
   "metadata": {},
   "outputs": [],
   "source": [
    "# 계수 정렬 소스코드(Java)\n",
    "import java.util.*;\n",
    "\n",
    "public class Main {\n",
    "\n",
    "    public static final int MAX_VALUE = 9;  #// 가장 큰 값이 9라고 가정\n",
    "\n",
    "    public static void main(String[] args) {\n",
    "    \n",
    "        int n = 15;\n",
    "        #// 모든 원소의 값이 0보다 크거나 같다고 가정\n",
    "        int[] arr = {7, 5, 9, 0, 3, 1, 6, 2, 9, 1, 4, 8, 0, 5, 2};\n",
    "        #// 모든 범위를 포함하는 배열 선언(모든 값은 0으로 초기화)\n",
    "        int[] cnt = new int[MAX_VALUE + 1];\n",
    "\n",
    "        for (int i = 0; i < n; i++) {\n",
    "            cnt[arr[i]] += 1;  #// 각 데이터에 해당하는 인덱스의 값 증가\n",
    "        }\n",
    "        for (int i = 0; i <= MAX_VALUE; i++) {  #// 배열에 기록된 정렬 정보 확인\n",
    "            for (int j = 0; j < cnt[i]; j++) {\n",
    "                System.out.print(i + \" \");  #// 띄어쓰기를 기준으로 등장한 횟수만큼 인덱스 출력\n",
    "            }\n",
    "        }\n",
    "    }\n",
    "\n",
    "}\n"
   ]
  },
  {
   "cell_type": "markdown",
   "id": "f0851551",
   "metadata": {},
   "source": [
    "### 1-4. 계수 정렬의 복잡도 분석\n",
    "#### 계수 정렬의 시간 복잡도와 공간 복잡도는 모두 O(N + K)이다.<br> - cf) 데이터의 개수만큼(N) count값을 체크, 원소 중 가장 큰 값을 의미하는 K만큼 각 idx를 확인하여 출력<br><br>계수 정렬은 때에 따라서 심각한 비효율성을 초래할 수 있다.<br> - 데이터가 0과 999,999로 단 2개만 존재하는 경우를 생각해보자.<br><br>계수 정렬은 <u>동일한 값을 가지는 데이터가 여러 개 등장할 때</u>효과적으로 사용할 수 있다.<br><br> - <mark>성적의 경우 100점을 맞은 학생이 여러 명일 수 있기 때문에 계수 정렬이 효과적이다.</mark>"
   ]
  },
  {
   "cell_type": "markdown",
   "id": "0cf9d3ff",
   "metadata": {},
   "source": [
    "### 1-5. 정렬 알고리즘 비교하기\n",
    "#### 앞서 다룬 네 가지 정렬 알고리즘을 비교하면 다음과 같다.<br><br>추가적으로 대부분의 프로그래밍 언어에서 지원하는 <u>표준 정렬 라이브러리는 최악의 경우에도 O(NlogN)을 보장</u>하도록 설계되어 있다.<br><img src=\"image/4강/4강_정렬알고리즘비교.PNG\" style=\"width: 600px;\"/><br><hr>"
   ]
  },
  {
   "cell_type": "markdown",
   "id": "b3da1883",
   "metadata": {},
   "source": [
    "### 1-6. 선택 정렬과 기본 정렬 라이브러리 수행시간 비교"
   ]
  },
  {
   "cell_type": "code",
   "execution_count": 15,
   "id": "ddbb9187",
   "metadata": {},
   "outputs": [
    {
     "name": "stdout",
     "output_type": "stream",
     "text": [
      "선택 정렬 성능 측정:  18.382142305374146\n",
      "기본 정렬 라이브러리 성능 측정:  0.0010800361633300781\n"
     ]
    }
   ],
   "source": [
    "from random import randint\n",
    "import time\n",
    "\n",
    "# 배열에 10,000개의 정수를 삽입\n",
    "array = []\n",
    "for _ in range(10000):\n",
    "    # 1부터 100 사이의 랜덤한 정수\n",
    "    array.append(randint(1, 100))\n",
    "    \n",
    "# 선택 정렬 프로그램 성능 측정\n",
    "start_time = time.time()\n",
    "\n",
    "# 선택 정렬 프로그램 소스코드\n",
    "for i in range(len(array)):\n",
    "    min_index = i  # 가장 작은 원소의 인덱스\n",
    "    for j in range(i + 1, len(array)):\n",
    "        if array[min_index] > array[j]:\n",
    "            min_index = j\n",
    "        array[i], array[min_index] = array[min_index], array[i]\n",
    "        \n",
    "# 측정 종료\n",
    "end_time = time.time()\n",
    "# 수행 시간 출력\n",
    "print(\"선택 정렬 성능 측정: \", end_time - start_time)\n",
    "\n",
    "##\n",
    "# 배열을 다시 무작위 데이터로 초기화\n",
    "array = []\n",
    "for _ in range(10000):\n",
    "    # 1부터 100 사이의 랜덤한 정수\n",
    "    array.append(randint(1, 100))\n",
    "    \n",
    "# 기본 정렬 라이브러리 성능 측정\n",
    "start_time = time.time()\n",
    "\n",
    "# 기본 정렬 라이브러리 사용\n",
    "array.sort()\n",
    "\n",
    "# 측정 종료\n",
    "end_time = time.time()\n",
    "# 수행 시간 출력\n",
    "print(\"기본 정렬 라이브러리 성능 측정: \", end_time - start_time)"
   ]
  },
  {
   "cell_type": "markdown",
   "id": "b1d4c960",
   "metadata": {},
   "source": [
    "### 1-7. 정렬 파트 기초 문제 - 두 배열의 원소 교체: 문제 설명\n",
    "#### 동빈이는 두 개의 배열 A와 B를 가지고 있다.<br>두 배열은 N개의 원소로 구성되어 있으며, 배열의 원소는 모두 자연수이다.<br><br>동빈이는 <u>최대 K 번의 바꿔치기</u> 연산을 수행할 수 있는데, 바꿔치기 연산이란 배열 A에 있는 원소 하나와 배열 B에 있는 원소 하나를 골라서 두 원소를 서로 바꾸는 것을 말한다.<br><br>동빈이의 최종 목표는 배열 A의 모든 원소의 합이 최대가 되도록 하는 것이며, 여러분은 동빈이를 도와야한다.<br><br>N, K, 그리고 배열 A와 B의 정보가 주여졌을 때, 최대 K 번의 바꿔치기 연산을 수행하여 만들 수 있는 <u>배열 A의 모든 원소의 합의 최댓값을 출력</u>하는 프로그램을 작성하라.<br><br>예를 들어 N = 5, K = 3이고, 배열 A와 B가 다음과 같다고 하자.<br> - 배열 A = [1, 2, 5, 4, 3]<br> - 배열 B = [5, 5, 6, 6, 5]<br><br>이 경우, 다음과 같이 세 번의 연산을 수행할 수 있다.<br> - 연산 1) 배열 A의 원소 '1'과 배열 B의 원소 '6'을 바꾸기<br> - 연산 2) 배열 A의 원소 '2'와 배열 B의 원소'6'을 바꾸기<br> - 연산 3) 배열 A의 원소 '3'과 배열 B의 원소 '5'를 바꾸기<br><br>세 번의 연산 이후 배열 A와 배열 B의 상태는 다음과 같이 구성될 것이다.<br> - 배열 A = [6, 6, 5, 4, 5]<br> - 배열 B = [3, 5, 1, 2, 5]<br><br>이때 배열 A의 모든 원소의 합은 26이 되며, 이보다 더 합을 크게 만들 수는 없다.<br><hr><br>난이도 下 | 풀이시간 15분 | 시간제한 2초 | 메모리제한 128MB<br><br>\\*입력조건:<br> - 첫 번째 줄에 N, K가 공백을 기준으로 구분되어 입력된다.(1 <= N <= 100,000, 0 <= K <= N)<br><br>- 두 번째 줄에 배열 A의 원소들이 공백을 기준으로 구분되어 입력된다.<br>모든 원소는 10,000,000보다 작은 자연수이다.<br><br> - 세 번째 줄에 배열 B의 원소들이 공백을 기준으로 구분되어 입력된다.<br>모든 원소는 10,000,000보다 작은 자연수이다.<br><br>\\*출력조건:<br>최대 K번의 바꿔치기 연산을 수행하여 만들 수 있는 배열 A의 모든 원소의 합의 최댓값을 출력한다.<br><br>\\*입력예시:<br>5 3<br>1 2 5 4 3<br>5 5 6 6 5<br><br>\\*출력예시:<br>26"
   ]
  },
  {
   "cell_type": "code",
   "execution_count": 20,
   "id": "32c8d23b",
   "metadata": {},
   "outputs": [
    {
     "name": "stdout",
     "output_type": "stream",
     "text": [
      "5 3\n",
      "1 2 5 4 3\n",
      "5 5 6 6 5\n",
      "26\n"
     ]
    }
   ],
   "source": [
    "# 풀이 전 혼자 풀어보기\n",
    "n, k = map(int, input().split())\n",
    "a = list(map(int, input().split()))\n",
    "b = list(map(int, input().split()))\n",
    "\n",
    "a.sort()\n",
    "b.sort(reverse=True)\n",
    "\n",
    "for i in range(k):\n",
    "    if a[i] < b[i]:\n",
    "        a[i], b[i] = b[i], a[i]\n",
    "    else:\n",
    "        break\n",
    "        \n",
    "print(sum(a))"
   ]
  },
  {
   "cell_type": "markdown",
   "id": "5f2d2561",
   "metadata": {},
   "source": [
    "### 1-7. 두 배열의 원소 교체: 문제 해결 아이디어\n",
    "#### 핵심 아이디어: <u>매번 배열 A에서 가장 작은 원소를 골라서, 배열 B에서 가장 큰 원소와 교체</u>한다.<br><br>가장 먼저 배열 A와 B가 주어지면 A에 대하여 오름차순 정렬하고, B에 대하여 내림차순 정렬한다.<br><br>이후에 두 배열의 원소를 첫 번째 인덱스부터 차례로 확인하면서 A의 원소가 B의 원소보다 작을 때에만 교체를 수행한다.<br><br>이 문제에서는 두 배열의 원소가 최대 100,000개까지 입력될 수 있으므로, 최악의 경우 O(NlogN)을 보장하는 정렬 알고리즘을 이용해야한다."
   ]
  },
  {
   "cell_type": "code",
   "execution_count": null,
   "id": "c73c0e58",
   "metadata": {},
   "outputs": [],
   "source": [
    "# 두 배열의 원소 교체: 답안 예시(Python)\n",
    "n, k = map(int, input().split())  # N과 K를 입력 받기\n",
    "a = list(map(int, input().split()))  # 배열 A의 모든 원소를 입력 받기\n",
    "b = list(map(int, input().split()))  # 배열 B의 모든 원소를 입력 받기\n",
    "\n",
    "a.sort()  # 배열 A는 오름차순 정렬 수행\n",
    "b.sort(reverse=True)  # 배열 B는 내림차순 정렬 수행\n",
    "\n",
    "# 첫 번째 인덱스부터 확인하며, 두 배열의 원소를 최대 K번 비교\n",
    "for i in range(k):\n",
    "    # A의 원소가 B의 원소보다 작은 경우\n",
    "    if a[i] < b[i]:\n",
    "        # 두 원소를 교체\n",
    "        a[i], b[i] = b[i], a[i]\n",
    "    else:  # A의 원소가 B의 원소보다 크거나 같을 때, 반복문을 탈출\n",
    "        break\n",
    "        \n",
    "print(sum(a))  # 배열 A의 모든 원소의 합을 출력"
   ]
  },
  {
   "cell_type": "code",
   "execution_count": null,
   "id": "5cc250d4",
   "metadata": {},
   "outputs": [],
   "source": [
    "# 두 배열의 원소 교체: 답안 예시(C++)\n",
    "\n",
    "#include <bits/stdc++.h>\n",
    "\n",
    "using namespace std;\n",
    "\n",
    "int n, k;\n",
    "vector<int> a, b;\n",
    "\n",
    "# 내림차순 정렬을 위해 compare 함수를 정의\n",
    "bool compare(int x, int y) {\n",
    "    return x > y;\n",
    "}\n",
    "\n",
    "int main(void) {\n",
    "    cin >> n >> k;\n",
    "    for (int i = 0; i < n; i++) {\n",
    "        int x;\n",
    "        cin >> x;\n",
    "        a.push_back(x);\n",
    "    }\n",
    "    for (int i = 0; i < n; i++) {\n",
    "        int x;\n",
    "        cin >> x;\n",
    "        b.push_back(x);\n",
    "    }\n",
    "    sort(a.begin(), a.end());\n",
    "    sort(b.begin(), b.end(), compare);\n",
    "    int result = 0;\n",
    "    for (int i = 0; i < k; i++) {\n",
    "        if (a[i] < b[i]) swap(a[i], b[i]);\n",
    "        else break;\n",
    "    }\n",
    "    for (int i = 0; i < n; i++) {\n",
    "        result += a[i];\n",
    "    }\n",
    "    cout << result << '\\n';\n",
    "    return 0;\n",
    "}"
   ]
  },
  {
   "cell_type": "code",
   "execution_count": null,
   "id": "d2fbfcd2",
   "metadata": {},
   "outputs": [],
   "source": [
    "# 두 배열의 원소 교체: 답안 예시(Java)\n",
    "import java.util.*;\n",
    "\n",
    "public class Main {\n",
    "\n",
    "    public static void main(String[] args) {\n",
    "        Scanner sc = new Scanner(System.in);\n",
    "\n",
    "       # // N과 K를 입력받기\n",
    "        int n = sc.nextInt();\n",
    "        int k = sc.nextInt();\n",
    "\n",
    "        #// 배열 A의 모든 원소를 입력받기\n",
    "        Integer[] a = new Integer[n];\n",
    "        for (int i = 0; i < n; i++) {\n",
    "            a[i] = sc.nextInt();\n",
    "        }\n",
    "        #// 배열 B의 모든 원소를 입력받기\n",
    "        Integer[] b = new Integer[n];\n",
    "        for (int i = 0; i < n; i++) {\n",
    "            b[i] = sc.nextInt();\n",
    "        }\n",
    "\n",
    "        #// 배열 A는 오름차순 정렬 수행\n",
    "        Arrays.sort(a);\n",
    "        #// 배열 B는 내림차순 정렬 수행\n",
    "        Arrays.sort(b, Collections.reverseOrder());\n",
    "\n",
    "        #// 첫 번째 인덱스부터 확인하며, 두 배열의 원소를 최대 K번 비교 \n",
    "        for (int i = 0; i < k; i++) {\n",
    "            #// A의 원소가 B의 원소보다 작은 경우\n",
    "            if (a[i] < b[i]) {\n",
    "                #// 두 원소를 교체\n",
    "                int temp = a[i];\n",
    "                a[i] = b[i];\n",
    "                b[i] = temp;\n",
    "            }\n",
    "            #// A의 원소가 B의 원소보다 크거나 같을 때, 반복문을 탈출\n",
    "            else break;\n",
    "        }\n",
    "\n",
    "        #// 배열 A의 모든 원소의 합을 출력\n",
    "        long result = 0;\n",
    "        for (int i = 0; i < n; i++) {\n",
    "            result += a[i];\n",
    "        }\n",
    "        System.out.println(result);\n",
    "    }\n",
    "\n",
    "}"
   ]
  }
 ],
 "metadata": {
  "kernelspec": {
   "display_name": "Python 3",
   "language": "python",
   "name": "python3"
  },
  "language_info": {
   "codemirror_mode": {
    "name": "ipython",
    "version": 3
   },
   "file_extension": ".py",
   "mimetype": "text/x-python",
   "name": "python",
   "nbconvert_exporter": "python",
   "pygments_lexer": "ipython3",
   "version": "3.8.8"
  },
  "toc": {
   "base_numbering": 1,
   "nav_menu": {},
   "number_sections": true,
   "sideBar": true,
   "skip_h1_title": false,
   "title_cell": "Table of Contents",
   "title_sidebar": "Contents",
   "toc_cell": false,
   "toc_position": {},
   "toc_section_display": true,
   "toc_window_display": false
  }
 },
 "nbformat": 4,
 "nbformat_minor": 5
}
