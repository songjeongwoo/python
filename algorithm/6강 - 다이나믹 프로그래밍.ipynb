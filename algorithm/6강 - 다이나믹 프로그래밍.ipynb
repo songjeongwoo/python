{
 "cells": [
  {
   "cell_type": "markdown",
   "id": "f5751714",
   "metadata": {},
   "source": [
    "# 다이나믹 프로그래밍"
   ]
  },
  {
   "cell_type": "markdown",
   "id": "1d9baea5",
   "metadata": {},
   "source": [
    "- 다이나믹 프로그래밍은 **메모리를 적절히 사용하여 수행 시간 효율성을 비약적으로 향상시키는 방법**이다.\n",
    "- <u>이미 계산된 결과(작은 문제)는 별도의 메모리 영역에 저장</u>하여 다시 계산하지 않도록 한다.\n",
    "- 다이나믹 프로그래밍의 구현은 일반적으로 두 가지 방식(탑다운과 바텀업)으로 구성된다."
   ]
  },
  {
   "cell_type": "markdown",
   "id": "dfcc761a",
   "metadata": {},
   "source": [
    "- 다이나믹 프로그래밍은 **동적 계획법**이라고도 부른다.\n",
    "- 일반적인 프로그래밍 분야에서의 동적(Dynamic)이란 어떤 의미일까?\n",
    "    - 자료구조에서 동적 할당(Dynamic Allocation)은 '**프로그램이 실행되는 도중에 실행에 필요한 메모리를 할당하는 기법**'을 의미한다.\n",
    "    - 반면에 <font color='red'>다이나믹 프로그래밍</font>에서 '다이나믹'은 **별다른 의미 없이 사용된 단어**이다."
   ]
  },
  {
   "cell_type": "markdown",
   "id": "8604877c",
   "metadata": {},
   "source": [
    "- 다이나믹 프로그래밍은 문제가 다음의 조건을 만족할 때 사용할 수 있다.\n",
    "    1. **최적 부분 구조** (Optimal Substructure)\n",
    "        - 큰 문제를 작은 문제로 나눌 수 있으며 작은 문제의 답을 모아서 큰 문제를 해결할 수 있다.\n",
    "    2. **중복되는 부분 문제** (Overlapping Subproblem)\n",
    "        - 동일한 작은 문제를 반복적으로 해결해야 한다."
   ]
  },
  {
   "cell_type": "markdown",
   "id": "81eec21f",
   "metadata": {},
   "source": [
    "## 피보나치 수열"
   ]
  },
  {
   "cell_type": "markdown",
   "id": "81343fb8",
   "metadata": {},
   "source": [
    "- 피보나치 수열은 다음과 같은 형태의 수열이며, 다이나믹 프로그래밍으로 효과적으로 계산할 수 있다.<br><br>\n",
    "$$\\large 1, 1, 2, 3, 5, 8, 13, 21, 34, 55, 89, ... $$<br>\n",
    "- **점화식**이란 <u>인접한 항들 사이의 관계식</u>을 의미한다.\n",
    "- 피보나치 수열을 점화식으로 표현하면 다음과 같다.<br><br>\n",
    "$\\large \\quad a_{n} = a_{n-1} + a_{n-2}, \\quad a_{1} = 1, \\quad a_{2} = 1 $"
   ]
  },
  {
   "cell_type": "markdown",
   "id": "2ed57a7d",
   "metadata": {},
   "source": [
    "- 피보나치 수열이 계산되는 과정은 다음과 같이 표현할 수 있다.\n",
    "    - 프로그래밍에서는 이러한 수열을 배열이나 리스트를 이용해 표현한다.\n",
    "<br><img src=\"image/6강/피보나치수열.PNG\" style=\"width: 700px;\"/><br>"
   ]
  },
  {
   "cell_type": "markdown",
   "id": "72592ee8",
   "metadata": {},
   "source": [
    "- 피보나치 수열이 계산되는 과정은 다음과 같이 표현할 수 있다.\n",
    "    - n번째 피보나치 수를 $f(n)$이라고 할 때 4번 째 피보나치 수 $f(4)$를 구하는 과정은 다음과 같다.\n",
    "<br><img src=\"image/6강/피보나치수열2.PNG\" style=\"width: 200px;\"/><br> "
   ]
  },
  {
   "cell_type": "markdown",
   "id": "8be980c3",
   "metadata": {},
   "source": [
    "### 피보나치 수열: 단순 재귀 소스코드(Python)"
   ]
  },
  {
   "cell_type": "code",
   "execution_count": 1,
   "id": "bc0f344a",
   "metadata": {},
   "outputs": [
    {
     "name": "stdout",
     "output_type": "stream",
     "text": [
      "3\n"
     ]
    }
   ],
   "source": [
    "# 피보나치 함수(Fibonacci Function)을 재귀함수로 구현\n",
    "def fibo(x):\n",
    "    if x == 1 or x == 2:\n",
    "        return 1\n",
    "    return fibo(x - 1) + fibo(x - 2)\n",
    "\n",
    "print(fibo(4))  # 3"
   ]
  },
  {
   "cell_type": "code",
   "execution_count": null,
   "id": "56094330",
   "metadata": {},
   "outputs": [],
   "source": [
    "#include <bits/stdc++.h>\n",
    "\n",
    "using namespace std;\n",
    "\n",
    "// 피보나치 함수(Fibonacci Function)을 재귀함수로 구현\n",
    "int fibo(int x) {\n",
    "    if (x == 1 || x == 2) {\n",
    "        return 1;\n",
    "    }\n",
    "    return fibo(x - 1) + fibo(x - 2);\n",
    "}\n",
    "\n",
    "int main(void) {\n",
    "    cout << fibo(4) << '\\n';\n",
    "}"
   ]
  },
  {
   "cell_type": "code",
   "execution_count": null,
   "id": "54909201",
   "metadata": {},
   "outputs": [],
   "source": [
    "import java.util.*;\n",
    "\n",
    "public class Main {\n",
    "\n",
    "    // 피보나치 함수(Fibonacci Function)을 재귀함수로 구현\n",
    "    public static int fibo(int x) {\n",
    "        if (x == 1 || x == 2) {\n",
    "            return 1;\n",
    "        }\n",
    "        return fibo(x - 1) + fibo(x - 2);\n",
    "    }\n",
    "\n",
    "    public static void main(String[] args) {\n",
    "        System.out.println(fibo(4));\n",
    "    }\n",
    "\n",
    "}"
   ]
  },
  {
   "cell_type": "markdown",
   "id": "a2511f1c",
   "metadata": {},
   "source": [
    "### 피보나치 수열의 시간 복잡도 분석"
   ]
  },
  {
   "cell_type": "markdown",
   "id": "169cbe19",
   "metadata": {},
   "source": [
    "- 단순 재귀 함수로 피보나치 수열을 해결하면 지수 시간 복잡도를 가지게 된다.\n",
    "- 다음과 같이 $f(2)$가 <u>여러 번 호출</u>되는 것을 확인할 수 있다.(<font color=red>중복되는 부분 문제</font>)\n",
    "<br><img src=\"image/6강/피보나치수열3.PNG\" style=\"width: 700px;\"/><br>"
   ]
  },
  {
   "cell_type": "markdown",
   "id": "d2f4a9b8",
   "metadata": {},
   "source": [
    "- 피보나치 수열의 **시간 복잡도**는 다음과 같다.\n",
    "    - **세타 표기법**: $\\theta \\; (1.618...^{N})$\n",
    "    - **빅오 표기법**: $O \\; (2^{N})$\n",
    "- 빅오 표기법을 기준으로 $f(30)$을 계산하기 위해 약 10억가량의 연산을 수행해야 한다.\n",
    "- 그렇다면 $f(100)$을 계산하기 위해 얼마나 많은 연산을 수행해야 할까?"
   ]
  },
  {
   "cell_type": "markdown",
   "id": "32dd4fc5",
   "metadata": {},
   "source": [
    "### 피보나치 수열의 효율적인 해법: 다이나믹 프로그래밍"
   ]
  },
  {
   "cell_type": "markdown",
   "id": "3c737844",
   "metadata": {},
   "source": [
    "- 다이나믹 프로그래밍의 사용 <font color='red'>**조건**</font>을 만족하는지 확인한다.\n",
    "    1. **최적 부분 구조**: 큰 문제를 작은 문제로 나눌 수 있다.\n",
    "    2. **중복되는 부분 문제**: 동일한 작은 문제를 반복적으로 해결한다.\n",
    "- 피보나치 수열은 다이나믹 프로그래밍의 사용조건을 만족한다.\n",
    "<br><img src=\"image/6강/피보나치수열4.PNG\" style=\"width: 200px;\"/><br>"
   ]
  },
  {
   "cell_type": "markdown",
   "id": "55b2ff0c",
   "metadata": {},
   "source": [
    "#### 메모이제이션(Memoization) - 하향식 방식"
   ]
  },
  {
   "cell_type": "markdown",
   "id": "3d466876",
   "metadata": {},
   "source": [
    "- 메모이제이션은 다이나믹 프로그래밍을 구현하는 방법 중 하나이다.\n",
    "- <u>한 번 계산한 결과를 메모리 공간에 메모</u>하는 기법이다.\n",
    "    - 같은 문제를 다시 호출하면 메모했던 결과를 그대로 가져온다.\n",
    "    - 값을 기록해 놓는다는 점에서 **캐싱(Caching)** 이라고도 한다."
   ]
  },
  {
   "cell_type": "markdown",
   "id": "69fec10e",
   "metadata": {},
   "source": [
    "#### 탑다운 vs 바텀업"
   ]
  },
  {
   "cell_type": "markdown",
   "id": "f21dec9c",
   "metadata": {},
   "source": [
    "- 탑다운(메모이제이션) 방식은 **하향식**이라고도 하며 바텀업 방식은 **상향식**이라고도 한다.\n",
    "- 다이나믹 프로그래밍의 전형적인 형태는 바텀업 방식이다.\n",
    "    - 결과 저장용 리스트는 **DP 테이블**이라고 부른다.\n",
    "- 엄밀히 말하면 메모이제이션은 <u>이전에 계산된 결과를 일시적으로 기록해 놓는 넓은 개념을 의미</u>한다.\n",
    "    - 따라서 메모이제이션은 다이나믹 프로그래밍에 국한된 개념은 아니다.\n",
    "    - 한 번 계산된 결과를 담아 놓기만 하고 다이나믹 프로그래밍을 위해 활용하지 않을 수도 있다."
   ]
  },
  {
   "cell_type": "markdown",
   "id": "57f9a634",
   "metadata": {},
   "source": [
    "### 피보나치 수열: 탑다운 다이나믹 프로그래밍 소스코드 (Python)"
   ]
  },
  {
   "cell_type": "code",
   "execution_count": 2,
   "id": "2777d58c",
   "metadata": {},
   "outputs": [
    {
     "name": "stdout",
     "output_type": "stream",
     "text": [
      "218922995834555169026\n"
     ]
    }
   ],
   "source": [
    "# 한 번 계산된 결과를 메모이제이션(Memoization)하기 위한 리스트 초기화\n",
    "d = [0] * 100\n",
    "\n",
    "# 피보나치 함수(Fibonacci Function)를 재귀함수로 구현(탑다운 다이나믹 프로그래밍)\n",
    "def fibo(x):\n",
    "    # 종료 조건(1 혹은 2일 때 1을 반환)\n",
    "    if x == 1 or x == 2:\n",
    "        return 1\n",
    "    # 이미 계산한 적 있는 문제라면 그대로 반환\n",
    "    if d[x] != 0:\n",
    "        return d[x]\n",
    "    # 아직 계산하지 않은 문제라면 점화식에 따라서 피보니치 결과 반환\n",
    "    d[x] = fibo(x - 1) + fibo(x - 2)\n",
    "    return d[x]\n",
    "\n",
    "print(fibo(99))  # 218922995834555169026"
   ]
  },
  {
   "cell_type": "code",
   "execution_count": null,
   "id": "ba6eb4a3",
   "metadata": {},
   "outputs": [],
   "source": [
    "#include <bits/stdc++.h>\n",
    "\n",
    "using namespace std;\n",
    "\n",
    "// 한 번 계산된 결과를 메모이제이션(Memoization)하기 위한 배열 초기화\n",
    "long long d[100];\n",
    "\n",
    "// 피보나치 함수(Fibonacci Function)를 재귀함수로 구현 (탑다운 다이나믹 프로그래밍)\n",
    "long long fibo(int x) {\n",
    "    // 종료 조건(1 혹은 2일 때 1을 반환)\n",
    "    if (x == 1 || x == 2) {\n",
    "        return 1;\n",
    "    }\n",
    "    // 이미 계산한 적 있는 문제라면 그대로 반환\n",
    "    if (d[x] != 0) {\n",
    "        return d[x];\n",
    "    }\n",
    "    // 아직 계산하지 않은 문제라면 점화식에 따라서 피보나치 결과 반환\n",
    "    d[x] = fibo(x - 1) + fibo(x - 2);\n",
    "    return d[x];\n",
    "}\n",
    "\n",
    "int main(void) {\n",
    "    cout << fibo(50)"
   ]
  },
  {
   "cell_type": "code",
   "execution_count": null,
   "id": "0493e053",
   "metadata": {},
   "outputs": [],
   "source": [
    "import java.util.*;\n",
    "\n",
    "public class Main {\n",
    "\n",
    "    // 한 번 계산된 결과를 메모이제이션(Memoization)하기 위한 배열 초기화\n",
    "    public static long[] d = new long[100];\n",
    "\n",
    "    // 피보나치 함수(Fibonacci Function)를 재귀함수로 구현 (탑다운 다이나믹 프로그래밍)\n",
    "    public static long fibo(int x) {\n",
    "        // 종료 조건(1 혹은 2일 때 1을 반환)\n",
    "        if (x == 1 || x == 2) {\n",
    "            return 1;\n",
    "        }\n",
    "        // 이미 계산한 적 있는 문제라면 그대로 반환\n",
    "        if (d[x] != 0) {\n",
    "            return d[x];\n",
    "        }\n",
    "        // 아직 계산하지 않은 문제라면 점화식에 따라서 피보나치 결과 반환\n",
    "        d[x] = fibo(x - 1) + fibo(x - 2);\n",
    "        return d[x];\n",
    "    }\n",
    "\n",
    "    public static void main(String[] args) {\n",
    "        System.out.println(fibo(50));\n",
    "    }\n",
    "}"
   ]
  },
  {
   "cell_type": "markdown",
   "id": "aa03dcf7",
   "metadata": {},
   "source": [
    "### <font color='red'>★</font>피보나치 수열: 바텀업 다이나믹 프로그래밍 소스코드 (Python)"
   ]
  },
  {
   "cell_type": "code",
   "execution_count": 5,
   "id": "0df6e22f",
   "metadata": {
    "scrolled": true
   },
   "outputs": [
    {
     "name": "stdout",
     "output_type": "stream",
     "text": [
      "218922995834555169026\n"
     ]
    }
   ],
   "source": [
    "# 바텀업 방식\n",
    "# 앞 서 계산된 결과를 저장하기 위한 DP 테이블 초기화\n",
    "d = [0] * 100\n",
    "\n",
    "# 첫 번째 피보나치 수와 두 번째 피보나치 수는 1\n",
    "d[1] = 1\n",
    "d[2] = 1\n",
    "n = 99\n",
    "\n",
    "# 피보나치 함수(Fibonacci Function) 반복문으로 구현(바텀업 다이나믹 프로그래밍)\n",
    "for i in range(3, n + 1):\n",
    "    d[i] = d[i - 1] + d[i - 2]\n",
    "    \n",
    "print(d[n])  # 218922995834555169026"
   ]
  },
  {
   "cell_type": "code",
   "execution_count": null,
   "id": "6b639aad",
   "metadata": {},
   "outputs": [],
   "source": [
    "#include <bits/stdc++.h>\n",
    "\n",
    "using namespace std;\n",
    "\n",
    "// 앞서 계산된 결과를 저장하기 위한 DP 테이블 초기화\n",
    "long long d[100];\n",
    "\n",
    "int main(void) {\n",
    "    // 첫 번째 피보나치 수와 두 번째 피보나치 수는 1\n",
    "    d[1] = 1;\n",
    "    d[2] = 1;\n",
    "    int n = 50; // 50번째 피보나치 수를 계산\n",
    "\n",
    "    // 피보나치 함수(Fibonacci Function) 반복문으로 구현(보텀업 다이나믹 프로그래밍)\n",
    "    for (int i = 3; i <= n; i++) {\n",
    "        d[i] = d[i - 1] + d[i - 2];\n",
    "    }\n",
    "    cout << d[n] << '\\n';  // 12586269025  // long long자료형은 표현 가능 범위가 제한되어 있음, 따라서 n=50으로 진행\n",
    "}"
   ]
  },
  {
   "cell_type": "code",
   "execution_count": null,
   "id": "7852aea0",
   "metadata": {},
   "outputs": [],
   "source": [
    "import java.util.*;\n",
    "\n",
    "public class Main {\n",
    "\n",
    "    public static long[] d = new long[100];\n",
    "\n",
    "    public static void main(String[] args) {\n",
    "        // 첫 번째 피보나치 수와 두 번째 피보나치 수는 1\n",
    "        d[1] = 1;\n",
    "        d[2] = 1;\n",
    "        int n = 50; // 50번째 피보나치 수를 계산\n",
    "\n",
    "        // 피보나치 함수(Fibonacci Function) 반복문으로 구현(보텀업 다이나믹 프로그래밍)\n",
    "        for (int i = 3; i <= n; i++) {\n",
    "            d[i] = d[i - 1] + d[i - 2];\n",
    "        }\n",
    "        System.out.println(d[n]);  // 12586269025\n",
    "    }\n",
    "}"
   ]
  },
  {
   "cell_type": "markdown",
   "id": "7211fa5b",
   "metadata": {},
   "source": [
    "### 피보나치 수열: 메모이제이션 동작 분석"
   ]
  },
  {
   "cell_type": "markdown",
   "id": "16e6c04e",
   "metadata": {},
   "source": [
    "- 이미 계산된 결과를 메모리에 저장하면 다음과 같이 색칠된 노드만 처리할 것을 기대할 수 있다.\n",
    "<br><img src=\"image/6강/피보나치수열5.PNG\" style=\"width: 400px;\"/><br>"
   ]
  },
  {
   "cell_type": "markdown",
   "id": "2bb67ba3",
   "metadata": {},
   "source": [
    "- 실제로 호출되는 함수에 대해서만 확인해 보면 다음과 같이 방문한다.\n",
    "<br><img src=\"image/6강/피보나치수열6.PNG\" style=\"width: 400px;\"/><br>"
   ]
  },
  {
   "cell_type": "markdown",
   "id": "6e09b692",
   "metadata": {},
   "source": [
    "- 메모이제이션을 이용하는 경우 피보나치 수열 함수의 시간 복잡도는 $O(N)$이다."
   ]
  },
  {
   "cell_type": "code",
   "execution_count": 6,
   "id": "3b1e660c",
   "metadata": {},
   "outputs": [
    {
     "name": "stdout",
     "output_type": "stream",
     "text": [
      "f(6) f(5) f(4) f(3) f(2) f(1) f(2) f(3) f(4) "
     ]
    },
    {
     "data": {
      "text/plain": [
       "8"
      ]
     },
     "execution_count": 6,
     "metadata": {},
     "output_type": "execute_result"
    }
   ],
   "source": [
    "d = [0] * 100\n",
    "\n",
    "def fibo(x):\n",
    "    print('f(' + str(x) + ')', end=' ')  # f(6) f(5) f(4) f(3) f(2) f(1) f(2) f(3) f(4) \n",
    "    if x == 1 or x == 2:\n",
    "        return 1\n",
    "    if d[x] != 0:\n",
    "        return d[x]\n",
    "    d[x] = fibo(x - 1) + fibo(x - 2)\n",
    "    return d[x]\n",
    "\n",
    "fibo(6)  # 8"
   ]
  },
  {
   "cell_type": "markdown",
   "id": "a3943e53",
   "metadata": {},
   "source": [
    "## 다이나믹 프로그래밍 VS 분할 정복\n",
    "- 다이나믹 프로그래밍과 분할 정복은 모두 **최적 부분 구조**를 가질 때 사용할 수 있다.\n",
    "    - 큰 문제를 작은 문제로 나눌 수 있으며 작은 문제의 답을 모아서 큰 문제를 해결할 수 있는 상황\n",
    "- 다이나믹 프로그래밍과 분할 정복의 차이점은 <font color='red'>**부분 문제의 중복**</font>이다.\n",
    "    - 다이나믹 프로그래밍에서는 각 부분 문제들이 서로 영향을 미치며 부분 문제가 중복된다.\n",
    "    - 분할 정복 문제에서는 동일한 부분 문제가 반복적으로 계산되지 않는다."
   ]
  },
  {
   "cell_type": "markdown",
   "id": "2553b3c1",
   "metadata": {},
   "source": [
    "- **분할 정복**의 대표적인 예시인 퀵 정렬을 살펴보자.\n",
    "    - 한 번 기준 원소(Pivot)가 자리를 변경해서 자리를 잡으면 그 기준 원소의 위치는 바뀌지 않는다.\n",
    "    - 분할 이후에 해당 피벗을 다시 처리하는 부분 문제는 호출하지 않는다.\n",
    "    <br><img src=\"image/6강/퀵정렬.PNG\" style=\"width: 600px;\"/><br>"
   ]
  },
  {
   "cell_type": "markdown",
   "id": "14d2c7c8",
   "metadata": {},
   "source": [
    "## 다이나믹 프로그래밍 문제에 접근하는 방법"
   ]
  },
  {
   "cell_type": "markdown",
   "id": "44868037",
   "metadata": {},
   "source": [
    "- 주어진 문제가 **다이나믹 프로그래밍 유형임을 파악**하는 것이 중요하다.\n",
    "- 가장 먼저 그리디, 구현, 완전 탐색 등의 아이디어로 문제를 해결할 수 있는지 검토할 수 있다.\n",
    "    - 다른 알고리즘으로 풀이 방법이 떠오르지 않으면 다이나믹 프로그래밍을 고려해보자.\n",
    "- 일단 재귀 함수로 비효율적인 완전 탐색 프로그램을 작성한 뒤에 (탑다운) 작은 문제에서 구한 답이 큰 문제에서 그대로 사용될 수 있으면, 코드를 개선하는 방법을 사용할 수 있다.\n",
    "- <u>일반적인 코딩 테스트 수준에서는 기본 유형의 다이나믹 프로그래밍 문제가 출제</u>되는 경우가 많다."
   ]
  },
  {
   "cell_type": "markdown",
   "id": "a18cc24a",
   "metadata": {},
   "source": [
    "# <문제> 개미 전사: 문제 설명"
   ]
  },
  {
   "cell_type": "markdown",
   "id": "0a2cf4d3",
   "metadata": {},
   "source": [
    "- 개미 전사는 부족한 식량을 충당하고자 메뚜기 마을의 식량창고를 몰래 공격하려고 한다. 메뚜기 마을에는 여러 개의 식량창고가 있는데 식략창고는 일직선으로 이어져 있다.\n",
    "- 각 식량창고에는 정해진 수의 식량을 저장하고 있으며 개미 전사는 식량창고를 선택적으로 약탈하여 식량을 빼앗을 예정이다. 이때 메뚜기 정찰병들은 일직선상에 존재하는 식량창고 중에서 서로 인접한 식량창고가 공격받으면 바로 알아챌 수 있다.\n",
    "- 따라서 개미 전사가 정찰병에게 들키지 않고 식량창고를 약탈하기 위해서는 <u>최소한 한 칸 이상 떨어진 식량창고를 약탈</u>해야한다.\n",
    "- 예를 들어 식량창고 4개가 다음과 같이 존재한다고 가정하자.\n",
    "<br><img src=\"image/6강/개미전사.PNG\" style=\"width: 600px;\"/><br>\n",
    "- 이때 개미 전사는 두 번째 식량창고와 네 번째 식량창고를 선택했을 때 최댓값인 총 8개의 식량을 빼앗을 수 있다. 개미 전사는 식량창고가 이렇게 일직선상일 때 최대한 많은 식량을 얻기를 원한다.\n",
    "- 개미 전사를 위해 식량창고 N개에 대한 정보가 주어졌을 때 **얻을 수 있는 식량의 최댓값**을 구하는 프로그램을 작성하라.\n",
    "\n",
    "<br><hr>\n",
    "\n",
    "<b>난이도 中上 | 풀이시간 30분 | 시간제한 1초 | 메모리제한 128MB</b><br><br>\n",
    "<b>* 입력조건</b><br>\n",
    "- 첫째 줄에 식량창고의 개수 N이 주어진다. (3 <= N <= 100)\n",
    "- 둘째 줄에 공백을 기준으로 각 식량창고에 저장된 식량의 개수 K가 주어진다. (0 <= K <= 1,000)<br><br>\n",
    "<b>* 출력조건</b><br>\n",
    "- 첫째 줄에 개미 전사가 얻을 수 있는 식량의 최댓값을 출력하라.<br><br>\n",
    "<b>* 입력예시</b><br>\n",
    "4<br>\n",
    "1 3 1 5<br><br>\n",
    "<b>* 출력예시</b><br>\n",
    "8<br>"
   ]
  },
  {
   "cell_type": "code",
   "execution_count": 16,
   "id": "736638e1",
   "metadata": {},
   "outputs": [
    {
     "name": "stdout",
     "output_type": "stream",
     "text": [
      "4\n",
      "1 3 1 5\n",
      "8\n"
     ]
    }
   ],
   "source": [
    "# 혼자 풀어보기\n",
    "n = int(input())\n",
    "k = list(map(int, input().split()))\n",
    "\n",
    "even = [k[i] for i in range(len(k)) if i % 2 == 0]\n",
    "odd = [k[i] for i in range(len(k)) if i % 2 != 0]\n",
    "\n",
    "if sum(even) >= sum(odd):\n",
    "    print(sum(even))\n",
    "else:\n",
    "    print(sum(odd))"
   ]
  },
  {
   "cell_type": "markdown",
   "id": "eeca4060",
   "metadata": {},
   "source": [
    "## <문제> 개미 전사: 문제 해결 아이디어"
   ]
  },
  {
   "cell_type": "markdown",
   "id": "8322e68c",
   "metadata": {},
   "source": [
    "- 예시를 확인해 보자. N = 4일때, 다음과 같은 경우들이 존재할 수 있다.\n",
    "    - 식량을 선택할 수 있는 경우의 수는 다음과 같이 8가지다.\n",
    "    - 7번째 경우에서 8만큼의 식량을 얻을 수 있으므로 **최적의 해는 8**이다.\n",
    "<br><img src=\"image/6강/개미전사2.PNG\" style=\"width: 600px;\"/><br>    "
   ]
  },
  {
   "cell_type": "markdown",
   "id": "63a2e5e2",
   "metadata": {},
   "source": [
    "- $a_{i} = i$번째 식량창고까지의 최적의 해(얻을 수 있는 식량의 최댓값)\n",
    "    - 이렇게 정의한다면 다이나믹 프로그래밍을 적용할 수 있다.\n",
    "<br><img src=\"image/6강/개미전사3.PNG\" style=\"width: 500px;\"/><br>        "
   ]
  },
  {
   "cell_type": "markdown",
   "id": "733146ce",
   "metadata": {},
   "source": [
    "- 왼쪽부터 차례대로 식량창고를 턴다고 했을 때, 특정한 $i$번째 식량창고에 대해서 털지 안 털지의 여부를 결정하면, 아래 **2가지**경우 중에서 더 많은 식량을 털 수 있는 경우를 선택하면 된다.\n",
    "<br><img src=\"image/6강/개미전사4.PNG\" style=\"width: 600px;\"/><br> "
   ]
  },
  {
   "cell_type": "markdown",
   "id": "076deed9",
   "metadata": {},
   "source": [
    "- $a_{i} = i$번째 식량창고까지의 최적의 해(얻을 수 있는 식량의 최댓값)\n",
    "- $k_{i} = i$번째 식량창고에 있는 식량의 양\n",
    "- 점화식은 다음과 같다.\n",
    "<br>$$ \\large a_{i} \\; = \\; max(a_{i-1}, \\; a_{i-2} \\, + k_{i}) $$<br>\n",
    "- 한 칸 이상 떨어진 식량창고는 항상 털 수 있으므로 (i-3)번째 이하는 고려할 필요가 없다."
   ]
  },
  {
   "cell_type": "markdown",
   "id": "da99fe57",
   "metadata": {},
   "source": [
    "## <문제> 개미 전사: 답안 예시(Python)"
   ]
  },
  {
   "cell_type": "code",
   "execution_count": 17,
   "id": "33fe1033",
   "metadata": {},
   "outputs": [
    {
     "name": "stdout",
     "output_type": "stream",
     "text": [
      "4\n",
      "1 3 1 5\n",
      "8\n"
     ]
    }
   ],
   "source": [
    "# 정수 N을 입력 받기\n",
    "n = int(input())\n",
    "# 모든 식량 정보 입력 받기\n",
    "array = list(map(int, input().split()))\n",
    "\n",
    "# 앞서 계산된 결과를 저장하기 위한 DP 테이블 초기화\n",
    "d = [0] * 100\n",
    "\n",
    "# 다이나믹 프로그래밍(Dynamic Programming) 진행 (바텀업)\n",
    "d[0] = array[0]\n",
    "d[1] = max(array[0], array[1])\n",
    "for i in range(2, n):\n",
    "    d[i] = max(d[i - 1], d[i - 2] + array[i])\n",
    "\n",
    "# 계산된 결과 출력\n",
    "print(d[n - 1])"
   ]
  },
  {
   "cell_type": "code",
   "execution_count": null,
   "id": "52ac16fc",
   "metadata": {},
   "outputs": [],
   "source": [
    "#include <bits/stdc++.h>\n",
    "\n",
    "using namespace std;\n",
    "\n",
    "// 앞서 계산된 결과를 저장하기 위한 DP 테이블 초기화\n",
    "int d[100];\n",
    "int n;\n",
    "vector<int> arr;\n",
    "\n",
    "int main(void) {\n",
    "    // 정수 N을 입력받기\n",
    "    cin >> n;\n",
    "    // 모든 식량 정보 입력받기\n",
    "    for (int i = 0; i < n; i++) {\n",
    "        int x;\n",
    "        cin >> x;\n",
    "        arr.push_back(x);\n",
    "    }\n",
    "\n",
    "    // 다이나믹 프로그래밍(Dynamic Programming) 진행(보텀업)\n",
    "    d[0] = arr[0];\n",
    "    d[1] = max(arr[0], arr[1]);\n",
    "    for (int i = 2; i < n; i++) {\n",
    "        d[i] = max(d[i - 1], d[i - 2] + arr[i]);\n",
    "    }\n",
    "\n",
    "    // 계산된 결과 출력\n",
    "    cout << d[n - 1] << '\\n';\n",
    "}"
   ]
  },
  {
   "cell_type": "code",
   "execution_count": null,
   "id": "4cd13974",
   "metadata": {},
   "outputs": [],
   "source": [
    "import java.util.*;\n",
    "\n",
    "public class Main {\n",
    "\n",
    "    // 앞서 계산된 결과를 저장하기 위한 DP 테이블 초기화 \n",
    "    public static int[] d = new int[100];\n",
    "\n",
    "    public static void main(String[] args) {\n",
    "        Scanner sc = new Scanner(System.in);\n",
    "\n",
    "        // 정수 N을 입력받기\n",
    "        int n = sc.nextInt();\n",
    "\n",
    "        // 모든 식량 정보 입력받기\n",
    "        int[] arr = new int[n];\n",
    "        for (int i = 0; i < n; i++) {\n",
    "            arr[i] = sc.nextInt();\n",
    "        }\n",
    "        \n",
    "        // 다이나믹 프로그래밍(Dynamic Programming) 진행(보텀업)\n",
    "        d[0] = arr[0];\n",
    "        d[1] = Math.max(arr[0], arr[1]);\n",
    "        for (int i = 2; i < n; i++) {\n",
    "            d[i] = Math.max(d[i - 1], d[i - 2] + arr[i]);\n",
    "        }\n",
    "\n",
    "        // 계산된 결과 출력\n",
    "        System.out.println(d[n - 1]);\n",
    "    }\n",
    "}"
   ]
  },
  {
   "cell_type": "markdown",
   "id": "5f4bb0a4",
   "metadata": {},
   "source": [
    "# <문제> 1로 만들기: 문제 설명"
   ]
  },
  {
   "cell_type": "markdown",
   "id": "38c95be3",
   "metadata": {},
   "source": [
    "- 정수 X가 주어졌을 때, 정수 X에 사용할 수 있는 연산은 다음과 같이 **4가지**이다.\n",
    "    1. X가 5로 나누어 떨어지면, 5로 나눈다.\n",
    "    2. X가 3으로 나누어 떨어지면, 3으로 나눈다.\n",
    "    3. X가 2로 나누어 떨어지면, 2로 나눈다.\n",
    "    4. X에서 1을 뺀다.<br><br>\n",
    "- 정수 X가 주어졌을 때, 연산 4개를 적절히 사용해서 값을 1로 만들고자 한다. 연산을 사용하는 횟수의 최솟값을 출력하라. 예를 들어 정수가 26이면 다음과 같이 계산해서 3번의 연산이 최솟값이다.<br><br>\n",
    "    - $26 → 25 → 5 → 1$\n",
    "\n",
    "<hr>\n",
    "<b>난이도 中 | 풀이시간 20분 | 시간제한 1초 | 메모리제한 128MB</b><br>\n",
    "\n",
    "<b>* 입력조건</b><br>\n",
    "- 첫째 줄에 정수 X가 주어진다. (1 <= X <= 30,000)<br>\n",
    "\n",
    "<b>* 출력조건</b><br>\n",
    "- 첫째 줄에 연산을 하는 횟수의 최솟값을 출력한다.<br>\n",
    "\n",
    "<b>* 입력예시</b><br>\n",
    "- 26<br>\n",
    "\n",
    "<b>* 출력예시</b><br>\n",
    "- 3<br>   "
   ]
  },
  {
   "cell_type": "code",
   "execution_count": 24,
   "id": "ca7fd046",
   "metadata": {},
   "outputs": [
    {
     "name": "stdout",
     "output_type": "stream",
     "text": [
      "26\n",
      "8\n"
     ]
    }
   ],
   "source": [
    "# 혼자 풀어보기 - 틀림\n",
    "x = int(input())\n",
    "\n",
    "cnt = 0\n",
    "\n",
    "while int(x) != 1:\n",
    "    if x % 5 == 0:\n",
    "        x /= 5\n",
    "        cnt += 1\n",
    "    elif x % 3 == 0:\n",
    "        x /= 3\n",
    "        cnt += 1\n",
    "    elif x % 2 == 0:\n",
    "        x /= 3\n",
    "        cnt += 1\n",
    "    else:\n",
    "        x -= 1\n",
    "        cnt += 1\n",
    "\n",
    "print(cnt)"
   ]
  },
  {
   "cell_type": "markdown",
   "id": "44e28829",
   "metadata": {},
   "source": [
    "## <문제> 1로 만들기: 문제 해결 아이디어"
   ]
  },
  {
   "cell_type": "markdown",
   "id": "e353f99f",
   "metadata": {},
   "source": [
    "- 피보나치 수열 문제를 도식화한 것처럼 함수가 호출되는 과정을 그림으로 그려보면 다음과 같다.\n",
    "    - **최적 부분 구조**와 **중복되는 부분 문제**를 만족한다.\n",
    "<br><img src=\"image/6강/1로만들기.PNG\" style=\"width: 600px;\"/><br>"
   ]
  },
  {
   "cell_type": "markdown",
   "id": "7ec6e2ed",
   "metadata": {},
   "source": [
    "cf) 그리디 파트에서 다루었던 <1이 될때까지> 문제와는 차이가 있다. 해당 문제는 어떤 값이든 항상 1을 빼는 것보다 나누는 것이 더 값을 빠르게 줄일 수 있기 때문에 매 상황마다 단순히 나누어 떨어진다면 나눌 수 있도록 하는 아이디어가 사용되었다."
   ]
  },
  {
   "cell_type": "markdown",
   "id": "f1ddd707",
   "metadata": {},
   "source": [
    "- $a_{i} = i \\;$를 1로 만들기 위한 최소 연산 횟수\n",
    "- 점화식은 다음과 같다.\n",
    "$$ \\large a_{i} \\; = \\; min(a_{i-1}, \\, a_{i/2}, \\, a_{i/3}, \\, a_{i/5}) \\; + \\; 1$$<br>\n",
    "\n",
    "`cf) 점화식에서 +1은 DP테이블에 더해질 값으로, 연산 횟수를 나타냄`<br>\n",
    "- 단, 1을 빼는 연산을 제외하고는 <u>해당 수로 나누어떨어질 때에 한해 점화식을 적용</u>할 수 있다."
   ]
  },
  {
   "cell_type": "markdown",
   "id": "5eedb613",
   "metadata": {},
   "source": [
    "## <font color='red'>★</font><문제> 1로 만들기: 답안 예시(Python)"
   ]
  },
  {
   "cell_type": "code",
   "execution_count": 36,
   "id": "c0b03950",
   "metadata": {},
   "outputs": [
    {
     "name": "stdout",
     "output_type": "stream",
     "text": [
      "26\n",
      "3\n"
     ]
    }
   ],
   "source": [
    "# 정수 X를 입력 받기\n",
    "x = int(input())\n",
    "\n",
    "# 앞서 계산된 결과를 저장하기 위한 DP 테이블 초기화\n",
    "d = [0] * 30001  # 1(d[1])일 경우 자기 자신이 1이기 때문에 연산할 필요가 없기때문에 0으로 초기화되어있다고 생각\n",
    "\n",
    "# 다이나믹 프로그래밍(Dynamic Programing) 진행 (바텀업)\n",
    "for i in range(2, x + 1):\n",
    "    # 현재의 수에서 1을 빼는 경우\n",
    "    d[i] = d[i - 1] + 1\n",
    "    # 현재의 수가 2로 나누어 떨어지는 경우\n",
    "    if i % 2 == 0:\n",
    "        d[i] = min(d[i], d[i // 2] + 1)\n",
    "    # 현재의 수가 3으로 나누어 떨어지는 경우\n",
    "    if i % 3 == 0:\n",
    "        d[i] = min(d[i], d[i // 3] + 1)\n",
    "    # 현재의 수가 5로 나누어 떨어지는 경우\n",
    "    if i % 5 == 0:\n",
    "        d[i] = min(d[i], d[i // 5] + 1)\n",
    "\n",
    "# # 확인 코드        \n",
    "# print(d[1:x+1])\n",
    "\n",
    "print(d[x])"
   ]
  },
  {
   "cell_type": "code",
   "execution_count": null,
   "id": "e8f2667f",
   "metadata": {},
   "outputs": [],
   "source": [
    "#include <bits/stdc++.h>\n",
    "\n",
    "using namespace std;\n",
    "\n",
    "// 앞서 계산된 결과를 저장하기 위한 DP 테이블 초기화 \n",
    "int d[30001];\n",
    "int x;\n",
    "\n",
    "int main(void) {\n",
    "    cin >> x;\n",
    "    // 다이나믹 프로그래밍(Dynamic Programming) 진행(보텀업)\n",
    "    for (int i = 2; i <= x; i++) {\n",
    "        // 현재의 수에서 1을 빼는 경우\n",
    "        d[i] = d[i - 1] + 1;\n",
    "        // 현재의 수가 2로 나누어 떨어지는 경우\n",
    "        if (i % 2 == 0)\n",
    "            d[i] = min(d[i], d[i / 2] + 1);\n",
    "        // 현재의 수가 3으로 나누어 떨어지는 경우\n",
    "        if (i % 3 == 0)\n",
    "            d[i] = min(d[i], d[i / 3] + 1);\n",
    "        // 현재의 수가 5로 나누어 떨어지는 경우\n",
    "        if (i % 5 == 0)\n",
    "            d[i] = min(d[i], d[i / 5] + 1);\n",
    "    }\n",
    "    cout << d[x] << '\\n';\n",
    "}"
   ]
  },
  {
   "cell_type": "code",
   "execution_count": null,
   "id": "a67fd302",
   "metadata": {},
   "outputs": [],
   "source": [
    "import java.util.*;\n",
    "\n",
    "public class Main {\n",
    "\n",
    "    // 앞서 계산된 결과를 저장하기 위한 DP 테이블 초기화 \n",
    "    public static int[] d = new int[30001];\n",
    "\n",
    "    public static void main(String[] args) {\n",
    "        Scanner sc = new Scanner(System.in);\n",
    "\n",
    "        int x = sc.nextInt();\n",
    "\n",
    "        // 다이나믹 프로그래밍(Dynamic Programming) 진행(보텀업)\n",
    "        for (int i = 2; i <= x; i++) {\n",
    "            // 현재의 수에서 1을 빼는 경우\n",
    "            d[i] = d[i - 1] + 1;\n",
    "            // 현재의 수가 2로 나누어 떨어지는 경우\n",
    "            if (i % 2 == 0)\n",
    "                d[i] = Math.min(d[i], d[i / 2] + 1);\n",
    "            // 현재의 수가 3으로 나누어 떨어지는 경우\n",
    "            if (i % 3 == 0)\n",
    "                d[i] = Math.min(d[i], d[i / 3] + 1);\n",
    "            // 현재의 수가 5로 나누어 떨어지는 경우\n",
    "            if (i % 5 == 0)\n",
    "                d[i] = Math.min(d[i], d[i / 5] + 1);\n",
    "        }\n",
    "\n",
    "        System.out.println(d[x]);\n",
    "    }\n",
    "}"
   ]
  },
  {
   "cell_type": "markdown",
   "id": "8bbb021b",
   "metadata": {},
   "source": [
    "# <font color='red'>★</font><문제> 효율적인 화폐 구성: 문제 설명"
   ]
  },
  {
   "cell_type": "markdown",
   "id": "91362933",
   "metadata": {},
   "source": [
    "- N가지 종류의 화폐가 있다. 이 화폐들의 개수를 최소한으로 이용해서 그 가치의 합이 M원이 되도록 하려고 한다. 이때 각 종류의 화폐는 몇 개라도 사용할 수 있다.\n",
    "- 예를 들어 2원, 3원 단위의 화폐가 있을 때는 15원을 만들기 위해 3원을 5개 사용하는 것이 가장 최소한의 화폐 개수이다.\n",
    "- <u>M원을 만들기 위한 최소한의 화폐 개수</u>를 출력하는 프로그램을 작성하라.\n",
    "<br><hr>\n",
    "<b>난이도 中上 | 풀이시간 30분 | 시간제한 1초 | 메모리제한 128MB</b><br>\n",
    "\n",
    "<b>* 입력조건</b><br>\n",
    "- 첫째 줄에 N, M이 주어진다. (1 <= N <= 100, 1 <= M <= 10,000)<br>\n",
    "- 이후의 N개의 줄에는 각 화폐의 가치가 주어진다. 화폐의 가치는 10,000보다 작거나 같은 자연수이다.\n",
    "\n",
    "<b>* 출력조건</b><br>\n",
    "- 첫째 줄에 최소 화폐 개수를 출력한다.\n",
    "- 불가능할 때는 -1을 출력한다.<br>\n",
    "\n",
    "<b>* 입력예시1</b><br>\n",
    "- 2 5\n",
    "- 2\n",
    "- 3<br>\n",
    "\n",
    "<b>* 출력예시1</b><br>\n",
    "- 5<br>\n",
    "\n",
    "<b>* 입력예시2</b><br>\n",
    "- 3 4\n",
    "- 3\n",
    "- 5\n",
    "- 7<br>\n",
    "\n",
    "<b>* 출력예시2</b><br>\n",
    "- -1<br>"
   ]
  },
  {
   "cell_type": "markdown",
   "id": "96f75b36",
   "metadata": {},
   "source": [
    "## <문제> 효율적인 화폐 구성: 문제 해결 아이디어"
   ]
  },
  {
   "cell_type": "markdown",
   "id": "febcf1a0",
   "metadata": {},
   "source": [
    "- $a_{i}$ = 금액 $i$를 만들 수 있는 최소한의 화폐 개수\n",
    "- $k$ = 각 화폐의 단위\n",
    "- **점화식**: 각 화폐 단위인 k를 <font color='red'>**하나씩 확인하며**</font>\n",
    "    - $a_{i-k}$를 만드는 방법이 존재하는 경우, $a_{i} \\; = \\; min(a_{i}, \\, a_{i-k} \\, + \\, 1)$\n",
    "    - $a_{i-k}$를 만드는 방법이 존재하지 않는 경우, $a_{i} \\; = \\; INF$"
   ]
  },
  {
   "cell_type": "markdown",
   "id": "46ea27e2",
   "metadata": {},
   "source": [
    "- $ N \\, = \\, 3, \\; M \\, = \\, 7$이고, 각 화폐의 단위가 2, 3, 5인 경우를 확인해보자.\n",
    "- **Step 0(초기화)**\n",
    "    - 먼저 각 인덱스에 해당하는 값으로 INF(무한)의 값을 설정한다.\n",
    "    - INF는 특정 금액을 만들 수 있는 화폐 구성이 가능하지 않다는 의미를 가진다.\n",
    "    - 본 문제에서는 10,001을 사용할 수 있다.\n",
    "<br><img src=\"image/6강/효율적인화폐구성.PNG\" style=\"width: 600px;\"/><br>"
   ]
  },
  {
   "cell_type": "markdown",
   "id": "e42a628b",
   "metadata": {},
   "source": [
    "- **Step 1**\n",
    "    - 첫 번째 화폐 단위인 2를 확인한다.\n",
    "    - 점화식에 따라서 다음과 같이 리스트가 갱신된다.\n",
    "<br><img src=\"image/6강/효율적인화폐구성2.PNG\" style=\"width: 600px;\"/><br>"
   ]
  },
  {
   "cell_type": "markdown",
   "id": "e9df1373",
   "metadata": {},
   "source": [
    "- **Step 2**\n",
    "    - 두 번째 화폐 단위인 3를 확인한다.\n",
    "    - 점화식에 따라서 다음과 같이 리스트가 갱신된다.\n",
    "<br><img src=\"image/6강/효율적인화폐구성3.PNG\" style=\"width: 600px;\"/><br>"
   ]
  },
  {
   "cell_type": "markdown",
   "id": "578f6505",
   "metadata": {},
   "source": [
    "- **Step 3**\n",
    "    - 세 번째 화폐 단위인 5를 확인한다.\n",
    "    - 점화식에 따라서 다음과 같이 리스트가 갱신된다.\n",
    "<br><img src=\"image/6강/효율적인화폐구성4.PNG\" style=\"width: 600px;\"/><br>"
   ]
  },
  {
   "cell_type": "markdown",
   "id": "85a71e5d",
   "metadata": {},
   "source": [
    "## <문제> 효율적인 화폐 구성: 답안 예시(Python)"
   ]
  },
  {
   "cell_type": "code",
   "execution_count": 49,
   "id": "6feb6365",
   "metadata": {},
   "outputs": [
    {
     "name": "stdout",
     "output_type": "stream",
     "text": [
      "3 4\n",
      "3\n",
      "5\n",
      "7\n",
      "-1\n"
     ]
    }
   ],
   "source": [
    "# 정수 N, M을 입력 받기\n",
    "n, m = map(int, input().split())\n",
    "# N개의 화폐 단위 정보를 입력받기\n",
    "array = []\n",
    "for i in range(n):\n",
    "    array.append(int(input()))\n",
    "    \n",
    "# 한 번 계산된 결과를 저장하기 위한 DP 테이블 초기화\n",
    "d = [10001] * (m + 1)\n",
    "\n",
    "# 다이나믹 프로그래밍(Dynamic Programming) 진행 (바텀업)\n",
    "d[0] = 0\n",
    "for i in range(n):  # array[i] = 각각의 화폐 단위\n",
    "    for j in range(array[i], m + 1):  # j = 각각의 금액\n",
    "        if d[j - array[i]] != 10001: # (i - k)원을 만드는 방법이 존재하는 경우\n",
    "#             print(d[j], d[j - array[i]] + 1)  # 확인 코드\n",
    "            d[j] = min(d[j], d[j - array[i]] + 1)\n",
    "        \n",
    "# print(d[:10])  # 확인 코드\n",
    "\n",
    "# 계산된 결과 출력\n",
    "if d[m] == 10001:  # 최종적으로 M원을 만드는 방법이 없는 경우\n",
    "    print(-1)\n",
    "else:\n",
    "    print(d[m])"
   ]
  },
  {
   "cell_type": "code",
   "execution_count": null,
   "id": "45f1c4db",
   "metadata": {},
   "outputs": [],
   "source": [
    "#include <bits/stdc++.h>\n",
    "\n",
    "using namespace std;\n",
    "\n",
    "int n, m;\n",
    "vector<int> arr;\n",
    "\n",
    "int main(void) {\n",
    "    // 정수 N, M을 입력받기\n",
    "    cin >> n >> m;\n",
    "    \n",
    "    // N개의 화폐 단위 정보를 입력 받기\n",
    "    for (int i = 0; i < n; i++) {\n",
    "        int x;\n",
    "        cin >> x;\n",
    "        arr.push_back(x);\n",
    "    }\n",
    "\n",
    "    // 한 번 계산된 결과를 저장하기 위한 DP 테이블 초기화\n",
    "    vector<int> d(m + 1, 10001);\n",
    "\n",
    "    // 다이나믹 프로그래밍(Dynamic Programming) 진행(보텀업)\n",
    "    d[0] = 0;\n",
    "    for (int i = 0; i < n; i++) {\n",
    "        for (int j = arr[i]; j <= m; j++) {\n",
    "            // (i - k)원을 만드는 방법이 존재하는 경우\n",
    "            if (d[j - arr[i]] != 10001) {\n",
    "                d[j] = min(d[j], d[j - arr[i]] + 1);\n",
    "            }\n",
    "        }\n",
    "    }\n",
    "\n",
    "    // 계산된 결과 출력\n",
    "    if (d[m] == 10001) { // 최종적으로 M원을 만드는 방법이 없는 경우\n",
    "        cout << -1 << '\\n';\n",
    "    }\n",
    "    else {\n",
    "        cout << d[m] << '\\n';\n",
    "    }\n",
    "}"
   ]
  },
  {
   "cell_type": "code",
   "execution_count": null,
   "id": "41b78cd1",
   "metadata": {},
   "outputs": [],
   "source": [
    "import java.util.*;\n",
    "\n",
    "public class Main {\n",
    "\n",
    "    public static void main(String[] args) {\n",
    "        Scanner sc = new Scanner(System.in);\n",
    "\n",
    "        // 정수 N, M을 입력받기\n",
    "        int n = sc.nextInt();\n",
    "        int m = sc.nextInt();\n",
    "\n",
    "        // N개의 화폐 단위 정보를 입력 받기\n",
    "        int[] arr = new int[n];\n",
    "        for (int i = 0; i < n; i++) {\n",
    "            arr[i] = sc.nextInt();\n",
    "        }\n",
    "\n",
    "        // 앞서 계산된 결과를 저장하기 위한 DP 테이블 초기화 \n",
    "        int[] d = new int[m + 1];\n",
    "        Arrays.fill(d, 10001);\n",
    "\n",
    "        // 다이나믹 프로그래밍(Dynamic Programming) 진행(보텀업)\n",
    "        d[0] = 0;\n",
    "        for (int i = 0; i < n; i++) {\n",
    "            for (int j = arr[i]; j <= m; j++) {\n",
    "                // (i - k)원을 만드는 방법이 존재하는 경우\n",
    "                if (d[j - arr[i]] != 10001) {\n",
    "                    d[j] = Math.min(d[j], d[j - arr[i]] + 1);\n",
    "                }\n",
    "            }\n",
    "        }\n",
    "\n",
    "        // 계산된 결과 출력\n",
    "        if (d[m] == 10001) { // 최종적으로 M원을 만드는 방법이 없는 경우\n",
    "            System.out.println(-1);\n",
    "        }\n",
    "        else {\n",
    "            System.out.println(d[m]);\n",
    "        }\n",
    "    }\n",
    "}"
   ]
  },
  {
   "cell_type": "markdown",
   "id": "e8aa8411",
   "metadata": {},
   "source": [
    "# <문제> 금광: 문제 설명"
   ]
  },
  {
   "cell_type": "markdown",
   "id": "d495c391",
   "metadata": {},
   "source": [
    "- n X m 크기의 금광이 있다. 금광은 1 X 1 크기의 칸으로 나누어져 있으며, 각 칸은 특정한 크기의 금이 들어있다.\n",
    "- 채굴자는 첫 번째 열부터 출발하여 금을 캐기 시작한다. 맨 처음에는 첫 번째 열의 어느 행에서든 출발할 수 있다.<br>이후에 m - 1번에 걸쳐서 매번 오른쪽 위, 오른쪽, 오른쪽 아래 3가지 중 하나의 위치로 이동해야한다.<br>결과적으로 **채굴자가 얻을 수 있는 금의 최대 크기**를 출력하는 프로그램을 작성하라.\n",
    "<br><img src=\"image/6강/금광.PNG\" style=\"width: 600px;\"/><br>\n",
    "\n",
    "<hr>\n",
    "\n",
    "<b>난이도 中 | 풀이시간 30분 | 시간제한 1초 | 메모리제한 128MB | 기출 Flipkart 인터뷰</b><br><br>\n",
    "<b>* 입력조건</b><br>\n",
    "- 첫째 줄에 테스트 케이스 T가 입력된다. (1 <= T <= 1000)\n",
    "- 매 테스트 케이스 첫째 줄에 n과 m이 공백으로 구분되어 입력된다. (1 <= n, m <= 20)<br>\n",
    "- 둘째 줄에 n X m개의 위치에 매장된 금의 개수가 공백으로 구분되어 입력된다. (1 <= 각 위치에 매장된 금의 개수 <= 100)<br><br>\n",
    "\n",
    "<b>* 출력조건</b><br>\n",
    "- 테스트 케이스마다 채굴자가 얻을 수 있는 금의 최대 크기를 출력한다. 각 테스트 케이스는 줄 바꿈을 이용해 구분한다.<br><br>\n",
    "\n",
    "<b>* 입력예시</b><br>\n",
    "2<br>\n",
    "3 4<br>\n",
    "1 3 3 2 2 1 4 1 0 6 4 7 <br>\n",
    "4 4<br>\n",
    "1 3 1 5 2 2 4 1 5 0 2 3 0 6 1 2<br><br>\n",
    "\n",
    "<b>* 출력예시</b><br>\n",
    "19<br>\n",
    "16<br>"
   ]
  },
  {
   "cell_type": "markdown",
   "id": "68b3a43d",
   "metadata": {},
   "source": [
    "cf) 입력예시 n X m으로 변환한 경우\n",
    "- 입력예시(1)<br>\n",
    "1 3 3 2<br>\n",
    "2 1 4 1<br>\n",
    "0 6 4 7<br>\n",
    "\n",
    "$->$ 2 6 4 7<br>\n",
    "\n",
    "- 입력예시(2)<br>\n",
    "1 3 1 5<br>\n",
    "2 2 4 1<br>\n",
    "5 0 2 3<br>\n",
    "0 6 1 2<br>\n",
    "\n",
    "$->$ 5 6 2 3<br>"
   ]
  },
  {
   "cell_type": "markdown",
   "id": "531b02d5",
   "metadata": {},
   "source": [
    "## <문제> 금광: 문제 해결 아이디어"
   ]
  },
  {
   "cell_type": "markdown",
   "id": "ff29872f",
   "metadata": {},
   "source": [
    "- 금광의 모든 위치에 대하여 다음의 세 가지만 고려하면 된다.\n",
    "    1. 왼쪽 위에서 오는 경우\n",
    "    2. 왼쪽 아래에서 오는 경우\n",
    "    3. 왼쪽에서 오는 경우\n",
    "- **세 가지** 경우 중에서 <u>가장 많은 금을 가지고 있는 경우</u>를 테이블에 갱신해주어 문제를 해결한다.  \n",
    "<br><img src=\"image/6강/금광2.PNG\" style=\"width: 200px;\"/><br>"
   ]
  },
  {
   "cell_type": "markdown",
   "id": "4bcd7ad5",
   "metadata": {},
   "source": [
    "- $array[i][j] \\; = \\; i행 \\, j열$에 존재하는 금의 양\n",
    "- $dp[i][j] \\; = \\; i행 \\, j열$까지의 최적의 해(얻을 수 있는 금의 최댓값)\n",
    "- 점화식은 다음과 같다.<br><br>\n",
    "\n",
    "$$ \\large dp[i][j] \\; = \\; array[i][j] \\, + \\, max(dp[i \\, - \\, 1][j \\, - \\, 1], \\, dp[i][[j \\, - \\, 1], \\, dp[i \\, + \\, 1][j \\, - \\, 1]) $$\n",
    "\n",
    "<br>\n",
    "\n",
    "- 이때 테이블에 접근할 때마다 리스트의 범위를 벗어나지 않는지 체크해야한다.\n",
    "- 편의상 초기 데이터를 담는 변수 array를 사용하지 않아도 된다.\n",
    "    - 바로 DP테이블에 초기 데이터를 담아서 다이나믹 프로그래밍을 적용할 수 있다."
   ]
  },
  {
   "cell_type": "markdown",
   "id": "04043664",
   "metadata": {},
   "source": [
    "- 금광 문제를 다이나믹 프로그래밍으로 해결하는 과정을 확인하자.\n",
    "<br><img src=\"image/6강/금광3.PNG\" style=\"width: 600px;\"/><br>"
   ]
  },
  {
   "cell_type": "markdown",
   "id": "533b6dbd",
   "metadata": {},
   "source": [
    "- <font color='red'>★</font>해당 문제 코드 오류: 왼쪽 위에서 오는 경우가 모두 0이 됨."
   ]
  },
  {
   "cell_type": "markdown",
   "id": "3ab2b235",
   "metadata": {},
   "source": [
    "## <문제> 금광: 답안 예시(Python)"
   ]
  },
  {
   "cell_type": "code",
   "execution_count": 70,
   "id": "f91e089c",
   "metadata": {},
   "outputs": [
    {
     "name": "stdout",
     "output_type": "stream",
     "text": [
      "1\n",
      "3 4\n",
      "1 3 3 2 2 1 4 1 0 6 4 7\n",
      "dp:  [[1, 3, 3, 2], [2, 1, 4, 1], [0, 6, 4, 7]]\n",
      "금 합계: 5, 행(i)=0, 열(j)=1:\n",
      "왼쪽 위: 0, 왼쪽 아래: 2, 왼쪽: 1\n",
      "==================================================\n",
      "금 합계: 3, 행(i)=1, 열(j)=1:\n",
      "왼쪽 위: 0, 왼쪽 아래: 0, 왼쪽: 2\n",
      "==================================================\n",
      "금 합계: 6, 행(i)=2, 열(j)=1:\n",
      "왼쪽 위: 0, 왼쪽 아래: 0, 왼쪽: 0\n",
      "==================================================\n",
      "금 합계: 8, 행(i)=0, 열(j)=2:\n",
      "왼쪽 위: 0, 왼쪽 아래: 3, 왼쪽: 5\n",
      "==================================================\n",
      "금 합계: 10, 행(i)=1, 열(j)=2:\n",
      "왼쪽 위: 0, 왼쪽 아래: 6, 왼쪽: 3\n",
      "==================================================\n",
      "금 합계: 10, 행(i)=2, 열(j)=2:\n",
      "왼쪽 위: 0, 왼쪽 아래: 0, 왼쪽: 6\n",
      "==================================================\n",
      "금 합계: 12, 행(i)=0, 열(j)=3:\n",
      "왼쪽 위: 0, 왼쪽 아래: 10, 왼쪽: 8\n",
      "==================================================\n",
      "금 합계: 11, 행(i)=1, 열(j)=3:\n",
      "왼쪽 위: 0, 왼쪽 아래: 10, 왼쪽: 10\n",
      "==================================================\n",
      "금 합계: 17, 행(i)=2, 열(j)=3:\n",
      "왼쪽 위: 0, 왼쪽 아래: 0, 왼쪽: 10\n",
      "==================================================\n",
      "최대값 합: 12\n",
      "최대값 합: 12\n",
      "최대값 합: 17\n",
      "17\n"
     ]
    }
   ],
   "source": [
    "# 테스트 케이스(Test Case) 입력\n",
    "for tc in range(int(input())):\n",
    "    # 금광 정보 입력\n",
    "    n, m = map(int, input().split())\n",
    "    array = list(map(int, input().split()))\n",
    "    # 다이나믹 프로그래밍을 위한 2차원 DP 테이블 초기화\n",
    "    dp = []\n",
    "    index = 0\n",
    "    for i in range(n):\n",
    "        dp.append(array[index:index + m])\n",
    "        index += m\n",
    "    \n",
    "    # 오류 확인을 위한 코드\n",
    "    print('dp: ', dp)   \n",
    "    \n",
    "    # 다이나믹 프로그래밍 진행\n",
    "    for j in range(1, m):  # 열\n",
    "        for i in range(n):  # 행\n",
    "            # 왼쪽 위에서 오는 경우\n",
    "            if i == 0: left_up = 0\n",
    "            else: letf_up = dp[i - 1][j - 1]\n",
    "            # 왼쪽 아래에서 오는 경우\n",
    "            if i == n - 1: left_down = 0\n",
    "            else: left_down = dp[i + 1][j - 1]\n",
    "            # 왼쪽에서 오는 경우\n",
    "            left = dp[i][j - 1]\n",
    "            dp[i][j] = dp[i][j] + max(left_up, left_down, left)\n",
    "            \n",
    "            # 오류 확인을 위한 코드\n",
    "            print('금 합계: {}, 행(i)={}, 열(j)={}:'.format(dp[i][j], i, j))\n",
    "            print('왼쪽 위: {}, 왼쪽 아래: {}, 왼쪽: {}'.format(left_up, left_down, left))\n",
    "            print('='*50)\n",
    "            \n",
    "    result = 0\n",
    "    for i in range(n): # 행\n",
    "        result = max(result, dp[i][m - 1])\n",
    "        \n",
    "        # 오류 확인을 위한 코드\n",
    "        print('최대값 합:', result)\n",
    "        \n",
    "    print(result)"
   ]
  },
  {
   "cell_type": "markdown",
   "id": "4079ef53",
   "metadata": {},
   "source": [
    "## <font color='red'>★</font>해당 문제 코드 오류: 왼쪽 위에서 오는 경우가 모두 0이 됨."
   ]
  },
  {
   "cell_type": "markdown",
   "id": "d2a871c4",
   "metadata": {},
   "source": [
    "cf) 입력예시 n X m으로 변환한 경우\n",
    "- 입력예시(1)<br>\n",
    "1 3 3 2<br>\n",
    "2 1 4 1<br>\n",
    "0 6 4 7<br>\n",
    "\n",
    "$->$ 2 6 4 7<br>\n",
    "\n",
    "- 입력예시(2)<br>\n",
    "1 3 1 5<br>\n",
    "2 2 4 1<br>\n",
    "5 0 2 3<br>\n",
    "0 6 1 2<br>\n",
    "\n",
    "$->$ 5 6 2 3<br>"
   ]
  },
  {
   "cell_type": "markdown",
   "id": "1e846651",
   "metadata": {},
   "source": [
    "# <문제> 병사 배치하기: 문제 설명"
   ]
  },
  {
   "cell_type": "markdown",
   "id": "67575a2e",
   "metadata": {},
   "source": [
    "- N명의 병사가 무작위로 나열되어 있다. 각 병사는 특정한 값의 전투력을 보유하고 있다.\n",
    "- 병사를 배치할 때는 **전투력이 높은 병사가 앞쪽으로 오도록 내림차순으로 배치**를 하고자 한다. 다시 말해 앞쪽에 있는 병사의 전투력이 항상 뒤쪽에 있는 병사보다 높아야 한다.\n",
    "- 또한 배치 과정에서는 특정한 위치에 있는 병사를 열외시키는 방법을 이용한다. 그러면서도 남아 있는 병사의 수가 최대가 되도록 하고 싶다."
   ]
  },
  {
   "cell_type": "markdown",
   "id": "5db1350a",
   "metadata": {},
   "source": [
    "- 예를 들어, N = 7일 때 나열된 병사들의 전투력이 다음과 같다고 가정하자.\n",
    "<br><img src=\"image/6강/병사배치하기.PNG\" style=\"width: 600px;\"/><br>\n",
    "- 이때 3번 병사와 6번 병사를 열외시키면, 다음과 같이 남아 있는 병사의 수가 내림차순의 형태가 되며 5명이 된다. 이는 남아있는 병사의 수가 최대가 되도록 하는 방법이다.\n",
    "<br><img src=\"image/6강/병사배치하기2.PNG\" style=\"width: 500px;\"/><br>\n",
    "- 병사에 대한 정보가 주어졌을 때, 남아있는 병사의 수가 최대가 되도록 하기 위해서 열외시켜야 하는 병사의 수를 출력하는 프로그램을 작성하라.\n",
    "\n",
    "<br><hr>\n",
    "<b>난이도 中 | 풀이시간 40분 | 시간제한 1초 | 메모리제한 256MB | 기출 핵심유형</b><br>\n",
    "\n",
    "<b>* 입력조건</b><br>\n",
    "- 첫째 줄에 N이 주어진다. (1 <= N <= 2,000)<br>\n",
    "- 둘째 줄에 각 병사의 전투력이 공백으로 구분되어 차례대로 주어진다. 각 병사의 전투력은 10,000,000보다 작거나 같은 자연수이다.\n",
    "\n",
    "<b>* 출력조건</b><br>\n",
    "- 첫째 줄에 남아 있는 병사의 수가 최대가 되도록 하기 위해서 열외시켜야 하는 병사의 수를 출력한다.<br>\n",
    "\n",
    "<b>* 입력예시</b><br>\n",
    "- 7\n",
    "- 15 11 4 8 5 2 4<br>\n",
    "\n",
    "<b>* 출력예시</b><br>\n",
    "- 2<br>"
   ]
  },
  {
   "cell_type": "markdown",
   "id": "78761307",
   "metadata": {},
   "source": [
    "## <문제> 병사 배치하기: 문제 해결 아이디어"
   ]
  },
  {
   "cell_type": "markdown",
   "id": "682d4612",
   "metadata": {},
   "source": [
    "- 이 문제의 기본 아이디어는 **가장 긴 증가하는 부분 수열(Longest Increasing Subsequence, LIS)**로 알려진 전형적인 다이나믹 프로그래밍 문제의 아이디어와 같다.\n",
    "- 예를 들어 하나의 수열 $ array $ = {4, 2, 5, 8, 4, 11, 15}이 있다고 하자.\n",
    "    - 이 수열의 가장 긴 증가하는 부분 수열은 {4, 5, 8, 11, 15}이다.\n",
    "- <u>본 문제는 가장 긴 감소하는 부분 수열을 찾는 문제</u>로 치환할 수 있으므로, LIS 알고리즘을 조금 수정하여 적용함으로써 정답을 도출할 수 있다."
   ]
  },
  {
   "cell_type": "markdown",
   "id": "3497c7b5",
   "metadata": {},
   "source": [
    "- 가장 긴 증가하는 부분 수열(LIS) 알고리즘을 확인해보자.\n",
    "- $D[i] \\, = \\, array[i]$를 마지막 원소로 가지는 부분 수열의 최대 길이\n",
    "- 점화식은 다음과 같다.<br>\n",
    "$$ 모든 \\, 0 \\, <= \\, j \\, < \\, i에 \\, 대하여, \\, D[i] \\, = \\, max(D[i], \\, D[j] \\, + \\, 1) \\, if \\, array[j] \\, < \\,  array[i] $$<br>\n",
    "cf) D[j] + 1: D[j]에서 길이 1이 늘어난 값으로 D[i]와 비교한다.<br>\n",
    "\n",
    "<br><img src=\"image/6강/병사배치하기3.PNG\" style=\"width: 700px;\"/><br>"
   ]
  },
  {
   "cell_type": "markdown",
   "id": "ac062ae5",
   "metadata": {},
   "source": [
    "- 가장 먼저 입력 받은 병사 정보의 순서를 뒤집는다.\n",
    "- **가장 긴 증가하는 부분 수열 (LIS) 알고리즘을 수행**하여 정답을 도출한다."
   ]
  },
  {
   "cell_type": "markdown",
   "id": "6e35a4a6",
   "metadata": {},
   "source": [
    "## <문제> 병사 배치하기: 답안 예시(Python)"
   ]
  },
  {
   "cell_type": "code",
   "execution_count": 71,
   "id": "ff72e1bc",
   "metadata": {},
   "outputs": [
    {
     "name": "stdout",
     "output_type": "stream",
     "text": [
      "7\n",
      "15 11 4 8 5 2 4\n",
      "2\n"
     ]
    }
   ],
   "source": [
    "n = int(input())\n",
    "array = list(map(int, input().split()))\n",
    "# 순서를 뒤집어 '최장 증가 부분 수열' 문제로 변환\n",
    "array.reverse()\n",
    "\n",
    "# 다이나믹 프로그래밍을 위한 1차원 DP 테이블 초기화\n",
    "dp = [1] * n\n",
    "\n",
    "# 가장 긴 증가하는 부분 수열(LIS) 알고리즘 수행\n",
    "for i in range(1, n):\n",
    "    for j in range(0, i):\n",
    "        if array[j] < array[i]:\n",
    "            dp[i] = max(dp[i], dp[j] + 1)\n",
    "            \n",
    "# 열외해야 하는 병사의 최소 수를 출력\n",
    "print(n - max(dp))"
   ]
  },
  {
   "cell_type": "code",
   "execution_count": null,
   "id": "1d126a9d",
   "metadata": {},
   "outputs": [],
   "source": [
    "#include <bits/stdc++.h>\n",
    "\n",
    "using namespace std;\n",
    "\n",
    "int n;\n",
    "vector<int> v;\n",
    "\n",
    "int main(void) {\n",
    "    cin >> n;\n",
    "    for(int i = 0; i < n; i++) {\n",
    "        int x;\n",
    "        cin >> x;\n",
    "        v.push_back(x);\n",
    "    }\n",
    "    // 순서를 뒤집어 '최장 증가 부분 수열' 문제로 변환\n",
    "    reverse(v.begin(), v.end());\n",
    "    // 다이나믹 프로그래밍을 위한 1차원 DP 테이블 초기화\n",
    "    int dp[2000];\n",
    "    for(int i = 0; i < n; i++) dp[i] = 1;\n",
    "    // 가장 긴 증가하는 부분 수열(LIS) 알고리즘 수행\n",
    "    for(int i = 1; i < n; i++)\n",
    "        for(int j = 0; j < i; j++)\n",
    "            if(v[j] < v[i]) dp[i] = max(dp[i], dp[j] + 1);\n",
    "    // 열외해야 하는 병사의 최소 수를 출력\n",
    "    int maxValue = 0;\n",
    "    for(int i = 0; i < n; i++) maxValue = max(maxValue, dp[i]);\n",
    "    cout << n - maxValue << '\\n';\n",
    "}"
   ]
  },
  {
   "cell_type": "code",
   "execution_count": null,
   "id": "9a8c43e6",
   "metadata": {},
   "outputs": [],
   "source": [
    "import java.util.*;\n",
    "\n",
    "public class Main {\n",
    "    static int n;\n",
    "    static ArrayList<Integer> v = new ArrayList<Integer>();\n",
    "    static int[] dp = new int[2000];\n",
    "    \n",
    "    public static void main(String[] args) {\n",
    "        Scanner sc = new Scanner(System.in);\n",
    "        n = sc.nextInt();\n",
    "        for(int i = 0; i < n; i++) {\n",
    "            v.add(sc.nextInt());\n",
    "        }\n",
    "        // 순서를 뒤집어 '최장 증가 부분 수열' 문제로 변환\n",
    "        Collections.reverse(v);\n",
    "        // 다이나믹 프로그래밍을 위한 1차원 DP테이블 초기화\n",
    "        for(int i = 0; i < n; i++) dp[i] =1;\n",
    "        // 가장 긴 증가하는 부분 수열(LIS) 알고리즘 수행\n",
    "        for(int i = 1; i < n; i++)\n",
    "            for(int j = 0; j < i; j++)\n",
    "                if(v.get(j) < v.get(i)) dp[i] = Math.max(dp[i], dp[j] + 1);\n",
    "        // 열외해야 하는 병사의 최소 수를 출력\n",
    "        int maxValue = 0;\n",
    "        for(int i = 0; i < n; i++) maxValue = Math.max(maxValue, dp[i]);\n",
    "        System.out.println(n - maxValue);\n",
    "    }\n",
    "}"
   ]
  }
 ],
 "metadata": {
  "kernelspec": {
   "display_name": "Python 3",
   "language": "python",
   "name": "python3"
  },
  "language_info": {
   "codemirror_mode": {
    "name": "ipython",
    "version": 3
   },
   "file_extension": ".py",
   "mimetype": "text/x-python",
   "name": "python",
   "nbconvert_exporter": "python",
   "pygments_lexer": "ipython3",
   "version": "3.8.8"
  },
  "toc": {
   "base_numbering": 1,
   "nav_menu": {},
   "number_sections": true,
   "sideBar": true,
   "skip_h1_title": false,
   "title_cell": "Table of Contents",
   "title_sidebar": "Contents",
   "toc_cell": false,
   "toc_position": {
    "height": "calc(100% - 180px)",
    "left": "10px",
    "top": "150px",
    "width": "426.667px"
   },
   "toc_section_display": true,
   "toc_window_display": false
  }
 },
 "nbformat": 4,
 "nbformat_minor": 5
}
