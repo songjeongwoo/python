{
  "nbformat": 4,
  "nbformat_minor": 0,
  "metadata": {
    "colab": {
      "name": "02-1 훈련 세트와 테스트 세트.ipynb",
      "provenance": [],
      "collapsed_sections": []
    },
    "kernelspec": {
      "name": "python3",
      "display_name": "Python 3"
    },
    "language_info": {
      "name": "python"
    }
  },
  "cells": [
    {
      "cell_type": "markdown",
      "source": [
        "# 훈련 세트와 테스트 세트"
      ],
      "metadata": {
        "id": "KgJxQqkn_1Vv"
      }
    },
    {
      "cell_type": "markdown",
      "source": [
        "## 훈련 세트(35개)와 테스트 세트(14개)"
      ],
      "metadata": {
        "id": "IsQYsMCb_4ot"
      }
    },
    {
      "cell_type": "code",
      "execution_count": 1,
      "metadata": {
        "id": "SdsY7jfk_y_k"
      },
      "outputs": [],
      "source": [
        "fish_length = [25.4, 26.3, 26.5, 29.0, 29.0, 29.7, 29.7, 30.0, 30.0, 30.7, 31.0, 31.0, \n",
        "                31.5, 32.0, 32.0, 32.0, 33.0, 33.0, 33.5, 33.5, 34.0, 34.0, 34.5, 35.0, \n",
        "                35.0, 35.0, 35.0, 36.0, 36.0, 37.0, 38.5, 38.5, 39.5, 41.0, 41.0, 9.8, \n",
        "                10.5, 10.6, 11.0, 11.2, 11.3, 11.8, 11.8, 12.0, 12.2, 12.4, 13.0, 14.3, 15.0]\n",
        "fish_weight = [242.0, 290.0, 340.0, 363.0, 430.0, 450.0, 500.0, 390.0, 450.0, 500.0, 475.0, 500.0, \n",
        "                500.0, 340.0, 600.0, 600.0, 700.0, 700.0, 610.0, 650.0, 575.0, 685.0, 620.0, 680.0, \n",
        "                700.0, 725.0, 720.0, 714.0, 850.0, 1000.0, 920.0, 955.0, 925.0, 975.0, 950.0, 6.7, \n",
        "                7.5, 7.0, 9.7, 9.8, 8.7, 10.0, 9.9, 9.8, 12.2, 13.4, 12.2, 19.7, 19.9]"
      ]
    },
    {
      "cell_type": "code",
      "source": [
        "# 사이킷런 사용을 위해 2차원 배열 만들기\n",
        "fish_data = [[l, w] for l, w in zip(fish_length, fish_weight)]\n",
        "fish_target = [1]*35 + [0]*14"
      ],
      "metadata": {
        "id": "W_HtQF-qARuF"
      },
      "execution_count": 2,
      "outputs": []
    },
    {
      "cell_type": "code",
      "source": [
        "print(fish_data[4])"
      ],
      "metadata": {
        "colab": {
          "base_uri": "https://localhost:8080/"
        },
        "id": "oGK7ePVGAuok",
        "outputId": "f516df86-1c11-4b30-a94d-c06caf4251e2"
      },
      "execution_count": 3,
      "outputs": [
        {
          "output_type": "stream",
          "name": "stdout",
          "text": [
            "[29.0, 430.0]\n"
          ]
        }
      ]
    },
    {
      "cell_type": "code",
      "source": [
        "print(fish_data[0:5])"
      ],
      "metadata": {
        "colab": {
          "base_uri": "https://localhost:8080/"
        },
        "id": "9ciYHLugAwzs",
        "outputId": "cb80bb60-dc23-44c9-ba7f-4703e144ad0c"
      },
      "execution_count": 4,
      "outputs": [
        {
          "output_type": "stream",
          "name": "stdout",
          "text": [
            "[[25.4, 242.0], [26.3, 290.0], [26.5, 340.0], [29.0, 363.0], [29.0, 430.0]]\n"
          ]
        }
      ]
    },
    {
      "cell_type": "code",
      "source": [
        "print(fish_data[:5])"
      ],
      "metadata": {
        "colab": {
          "base_uri": "https://localhost:8080/"
        },
        "id": "bfoxiNqzAzSc",
        "outputId": "eacfae1e-73d8-4c9e-fe70-582e4d8f43cd"
      },
      "execution_count": 5,
      "outputs": [
        {
          "output_type": "stream",
          "name": "stdout",
          "text": [
            "[[25.4, 242.0], [26.3, 290.0], [26.5, 340.0], [29.0, 363.0], [29.0, 430.0]]\n"
          ]
        }
      ]
    },
    {
      "cell_type": "code",
      "source": [
        "print(fish_data[44:])"
      ],
      "metadata": {
        "colab": {
          "base_uri": "https://localhost:8080/"
        },
        "id": "oi0M6p9xA0Vd",
        "outputId": "0425fbcb-da62-4d96-affc-3e304e9dda1d"
      },
      "execution_count": 6,
      "outputs": [
        {
          "output_type": "stream",
          "name": "stdout",
          "text": [
            "[[12.2, 12.2], [12.4, 13.4], [13.0, 12.2], [14.3, 19.7], [15.0, 19.9]]\n"
          ]
        }
      ]
    },
    {
      "cell_type": "code",
      "source": [
        "# 훈련 세트로 입력값 중 0부터 34번째 인덱스까지 사용\n",
        "x_train = fish_data[:35]\n",
        "\n",
        "# 훈련 세트로 타겟값 중 0부터 34번째 인덱스까지 사용\n",
        "y_train = fish_target[:35]\n",
        "\n",
        "# 테스트 세트로 입력값 중 35번째부터 마지막 인덱스까지 사용\n",
        "x_test = fish_data[35:]\n",
        "\n",
        "# 테스트 세트로 타겟값 중 35번째부터 마지막 인덱스까지 사용\n",
        "y_test = fish_target[35:]"
      ],
      "metadata": {
        "id": "s-bwMqnEA1L8"
      },
      "execution_count": 7,
      "outputs": []
    },
    {
      "cell_type": "code",
      "source": [
        "from sklearn.neighbors import KNeighborsClassifier\n",
        "model = KNeighborsClassifier()"
      ],
      "metadata": {
        "id": "i2BTvY4bAcwE"
      },
      "execution_count": 8,
      "outputs": []
    },
    {
      "cell_type": "code",
      "source": [
        "# model = model.fit(train_input, train_target)\n",
        "model.fit(x_train, y_train)  # 위에 코드와 동일, 변수에 담냐 차이\n",
        "model.score(x_test, y_test)  # 정확도 0.0  # why? 샘플링 편향"
      ],
      "metadata": {
        "colab": {
          "base_uri": "https://localhost:8080/"
        },
        "id": "EmPfj10HBUqO",
        "outputId": "8542c5ba-4217-4d66-b4c9-820632300ca7"
      },
      "execution_count": 9,
      "outputs": [
        {
          "output_type": "execute_result",
          "data": {
            "text/plain": [
              "0.0"
            ]
          },
          "metadata": {},
          "execution_count": 9
        }
      ]
    },
    {
      "cell_type": "markdown",
      "source": [
        "## 넘파이"
      ],
      "metadata": {
        "id": "U7JNJDhsDPd8"
      }
    },
    {
      "cell_type": "code",
      "source": [
        "import numpy as np"
      ],
      "metadata": {
        "id": "m9PF-hr2BhGc"
      },
      "execution_count": 10,
      "outputs": []
    },
    {
      "cell_type": "code",
      "source": [
        "input_arr = np.array(fish_data)\n",
        "target_arr = np.array(fish_target)"
      ],
      "metadata": {
        "id": "NvsTlLDODWdb"
      },
      "execution_count": 11,
      "outputs": []
    },
    {
      "cell_type": "code",
      "source": [
        "print(input_arr[:2])"
      ],
      "metadata": {
        "colab": {
          "base_uri": "https://localhost:8080/"
        },
        "id": "oY4ry9GEDcUT",
        "outputId": "10895a21-5f83-405f-9bbf-2526afdedceb"
      },
      "execution_count": 12,
      "outputs": [
        {
          "output_type": "stream",
          "name": "stdout",
          "text": [
            "[[ 25.4 242. ]\n",
            " [ 26.3 290. ]]\n"
          ]
        }
      ]
    },
    {
      "cell_type": "code",
      "source": [
        "# np array.shape: (샘플 수, 특성 수)를 출력\n",
        "print(input_arr.shape)"
      ],
      "metadata": {
        "colab": {
          "base_uri": "https://localhost:8080/"
        },
        "id": "z0-Hbao9DdTa",
        "outputId": "df1f28e9-c97c-4a44-ec6d-f7ca41ff8ec9"
      },
      "execution_count": 13,
      "outputs": [
        {
          "output_type": "stream",
          "name": "stdout",
          "text": [
            "(49, 2)\n"
          ]
        }
      ]
    },
    {
      "cell_type": "code",
      "source": [
        "np.random.seed(42)  # 이 코드를 써준 사람들끼린 랜덤한 행위가 동일(= 머신러닝 알고리즘들의 random_state 속성)\n",
        "\n",
        "# 0 ~ 48 정수 배열 만들어서 idx 만들기\n",
        "index = np.arange(49)  # 파이썬의 range와 쓰는 법 동일\n",
        "\n",
        "# 무작위로 섞기\n",
        "np.random.shuffle(index)"
      ],
      "metadata": {
        "id": "UrXoOlN4DjwK"
      },
      "execution_count": 14,
      "outputs": []
    },
    {
      "cell_type": "code",
      "source": [
        "print(index)"
      ],
      "metadata": {
        "colab": {
          "base_uri": "https://localhost:8080/"
        },
        "id": "8MrIHbFoD7QL",
        "outputId": "938af054-42b2-4659-aeeb-345a5fc178d8"
      },
      "execution_count": 15,
      "outputs": [
        {
          "output_type": "stream",
          "name": "stdout",
          "text": [
            "[13 45 47 44 17 27 26 25 31 19 12  4 34  8  3  6 40 41 46 15  9 16 24 33\n",
            " 30  0 43 32  5 29 11 36  1 21  2 37 35 23 39 10 22 18 48 20  7 42 14 28\n",
            " 38]\n"
          ]
        }
      ]
    },
    {
      "cell_type": "code",
      "source": [
        "print(input_arr[[1, 3]])  # idx 1과 3 선택"
      ],
      "metadata": {
        "colab": {
          "base_uri": "https://localhost:8080/"
        },
        "id": "vdTMo8s8D8Dq",
        "outputId": "745b09ad-3a31-4066-d380-2257c81858c1"
      },
      "execution_count": 16,
      "outputs": [
        {
          "output_type": "stream",
          "name": "stdout",
          "text": [
            "[[ 26.3 290. ]\n",
            " [ 29.  363. ]]\n"
          ]
        }
      ]
    },
    {
      "cell_type": "code",
      "source": [
        "# 훈련 세트와 테스트 세트 나누기\n",
        "x_train = input_arr[index[:35]]\n",
        "y_train = target_arr[index[:35]]\n",
        "\n",
        "x_test = input_arr[index[35:]]\n",
        "y_test = target_arr[index[35:]]"
      ],
      "metadata": {
        "id": "qNle27v1EGIj"
      },
      "execution_count": 17,
      "outputs": []
    },
    {
      "cell_type": "code",
      "source": [
        "# 확인\n",
        "print(input_arr[13], x_train[0])"
      ],
      "metadata": {
        "colab": {
          "base_uri": "https://localhost:8080/"
        },
        "id": "8DNfH1x-GQfi",
        "outputId": "e0c4202f-244f-4c80-bc0c-99232ebebe33"
      },
      "execution_count": 19,
      "outputs": [
        {
          "output_type": "stream",
          "name": "stdout",
          "text": [
            "[ 32. 340.] [ 32. 340.]\n"
          ]
        }
      ]
    },
    {
      "cell_type": "code",
      "source": [
        "import matplotlib.pyplot as plt\n",
        "plt.scatter(x_train[:, 0], x_train[:, 1])\n",
        "plt.scatter(x_test[:, 0], x_test[:, 1])\n",
        "plt.xlabel('length')\n",
        "plt.ylabel('weight')\n",
        "plt.legend(['train', 'test'])\n",
        "plt.show()"
      ],
      "metadata": {
        "colab": {
          "base_uri": "https://localhost:8080/",
          "height": 279
        },
        "id": "YM9l1ukrHKmc",
        "outputId": "9c643a85-4773-4d06-c80e-956febeb4b48"
      },
      "execution_count": 21,
      "outputs": [
        {
          "output_type": "display_data",
          "data": {
            "image/png": "[encoded data removed]",
            "text/plain": [
              "<Figure size 432x288 with 1 Axes>"
            ]
          },
          "metadata": {
            "needs_background": "light"
          }
        }
      ]
    },
    {
      "cell_type": "markdown",
      "source": [
        "## 두 번째 머신러닝 프로그램"
      ],
      "metadata": {
        "id": "Z1MHzLGgHxar"
      }
    },
    {
      "cell_type": "code",
      "source": [
        "# 학습하기\n",
        "\n",
        "# model = model.fit(train_input, train_target)\n",
        "model.fit(x_train, y_train)  # 위에 코드와 동일, 변수에 담냐 차이"
      ],
      "metadata": {
        "colab": {
          "base_uri": "https://localhost:8080/"
        },
        "id": "MueozF3kHv0L",
        "outputId": "1feae31f-298c-4b40-b4d3-b74404a380ab"
      },
      "execution_count": 22,
      "outputs": [
        {
          "output_type": "execute_result",
          "data": {
            "text/plain": [
              "KNeighborsClassifier()"
            ]
          },
          "metadata": {},
          "execution_count": 22
        }
      ]
    },
    {
      "cell_type": "code",
      "source": [
        "# 평가하기\n",
        "model.score(x_test, y_test)"
      ],
      "metadata": {
        "colab": {
          "base_uri": "https://localhost:8080/"
        },
        "id": "6Gxf2IONIrHS",
        "outputId": "5ff7d358-5e2a-4b3e-f12e-eafaf520f4fa"
      },
      "execution_count": 23,
      "outputs": [
        {
          "output_type": "execute_result",
          "data": {
            "text/plain": [
              "1.0"
            ]
          },
          "metadata": {},
          "execution_count": 23
        }
      ]
    },
    {
      "cell_type": "code",
      "source": [
        "# 예측하기\n",
        "model.predict(x_test)"
      ],
      "metadata": {
        "colab": {
          "base_uri": "https://localhost:8080/"
        },
        "id": "RUOVREklIvxK",
        "outputId": "45ca5b85-6d2e-4b17-9096-601011afd84f"
      },
      "execution_count": 25,
      "outputs": [
        {
          "output_type": "execute_result",
          "data": {
            "text/plain": [
              "array([0, 0, 1, 0, 1, 1, 1, 0, 1, 1, 0, 1, 1, 0])"
            ]
          },
          "metadata": {},
          "execution_count": 25
        }
      ]
    },
    {
      "cell_type": "code",
      "source": [
        "# 확인\n",
        "y_test"
      ],
      "metadata": {
        "colab": {
          "base_uri": "https://localhost:8080/"
        },
        "id": "g2XfwlmAIziq",
        "outputId": "2948d812-8be7-4ff6-c66b-0a5423046ce0"
      },
      "execution_count": 26,
      "outputs": [
        {
          "output_type": "execute_result",
          "data": {
            "text/plain": [
              "array([0, 0, 1, 0, 1, 1, 1, 0, 1, 1, 0, 1, 1, 0])"
            ]
          },
          "metadata": {},
          "execution_count": 26
        }
      ]
    }
  ]
}