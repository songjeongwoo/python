{
  "nbformat": 4,
  "nbformat_minor": 0,
  "metadata": {
    "colab": {
      "name": "03-3 특성 공학(FE)과 규제.ipynb",
      "provenance": [],
      "collapsed_sections": []
    },
    "kernelspec": {
      "name": "python3",
      "display_name": "Python 3"
    },
    "language_info": {
      "name": "python"
    }
  },
  "cells": [
    {
      "cell_type": "markdown",
      "source": [
        "# 특성 공학과 규제"
      ],
      "metadata": {
        "id": "A-MP6TmXB3IG"
      }
    },
    {
      "cell_type": "markdown",
      "source": [
        "## 데이터 준비"
      ],
      "metadata": {
        "id": "AmF7MWJkC6hA"
      }
    },
    {
      "cell_type": "code",
      "source": [
        "import pandas as pd"
      ],
      "metadata": {
        "id": "y5qAWryxC96x"
      },
      "execution_count": 1,
      "outputs": []
    },
    {
      "cell_type": "code",
      "source": [
        "df = pd.read_csv('https://bit.ly/perch_csv_data')\n",
        "perch_full = df.to_numpy()  # df를 np array로 변환\n",
        "print(perch_full)"
      ],
      "metadata": {
        "collapsed": true,
        "colab": {
          "base_uri": "https://localhost:8080/"
        },
        "id": "XYTKoZevDBkn",
        "outputId": "5628580e-19dc-4fd8-ff7a-2947a4abb8ff"
      },
      "execution_count": 2,
      "outputs": [
        {
          "output_type": "stream",
          "name": "stdout",
          "text": [
            "[[ 8.4   2.11  1.41]\n",
            " [13.7   3.53  2.  ]\n",
            " [15.    3.82  2.43]\n",
            " [16.2   4.59  2.63]\n",
            " [17.4   4.59  2.94]\n",
            " [18.    5.22  3.32]\n",
            " [18.7   5.2   3.12]\n",
            " [19.    5.64  3.05]\n",
            " [19.6   5.14  3.04]\n",
            " [20.    5.08  2.77]\n",
            " [21.    5.69  3.56]\n",
            " [21.    5.92  3.31]\n",
            " [21.    5.69  3.67]\n",
            " [21.3   6.38  3.53]\n",
            " [22.    6.11  3.41]\n",
            " [22.    5.64  3.52]\n",
            " [22.    6.11  3.52]\n",
            " [22.    5.88  3.52]\n",
            " [22.    5.52  4.  ]\n",
            " [22.5   5.86  3.62]\n",
            " [22.5   6.79  3.62]\n",
            " [22.7   5.95  3.63]\n",
            " [23.    5.22  3.63]\n",
            " [23.5   6.28  3.72]\n",
            " [24.    7.29  3.72]\n",
            " [24.    6.38  3.82]\n",
            " [24.6   6.73  4.17]\n",
            " [25.    6.44  3.68]\n",
            " [25.6   6.56  4.24]\n",
            " [26.5   7.17  4.14]\n",
            " [27.3   8.32  5.14]\n",
            " [27.5   7.17  4.34]\n",
            " [27.5   7.05  4.34]\n",
            " [27.5   7.28  4.57]\n",
            " [28.    7.82  4.2 ]\n",
            " [28.7   7.59  4.64]\n",
            " [30.    7.62  4.77]\n",
            " [32.8  10.03  6.02]\n",
            " [34.5  10.26  6.39]\n",
            " [35.   11.49  7.8 ]\n",
            " [36.5  10.88  6.86]\n",
            " [36.   10.61  6.74]\n",
            " [37.   10.84  6.26]\n",
            " [37.   10.57  6.37]\n",
            " [39.   11.14  7.49]\n",
            " [39.   11.14  6.  ]\n",
            " [39.   12.43  7.35]\n",
            " [40.   11.93  7.11]\n",
            " [40.   11.73  7.22]\n",
            " [40.   12.38  7.46]\n",
            " [40.   11.14  6.63]\n",
            " [42.   12.8   6.87]\n",
            " [43.   11.93  7.28]\n",
            " [43.   12.51  7.42]\n",
            " [43.5  12.6   8.14]\n",
            " [44.   12.49  7.6 ]]\n"
          ]
        }
      ]
    },
    {
      "cell_type": "markdown",
      "source": [
        "- cf) 넘파이 튜토리얼: https://ml-ko.kr/homl2/tools_numpy.html\n",
        "- cf) 판다스 튜토리얼: https://ml-ko.kr/homl2/tools_pandas.html"
      ],
      "metadata": {
        "id": "zpxJPjwdGRsJ"
      }
    },
    {
      "cell_type": "code",
      "source": [
        "import numpy as np\n",
        "\n",
        "perch_weight = np.array(\n",
        "    [5.9, 32.0, 40.0, 51.5, 70.0, 100.0, 78.0, 80.0, 85.0, 85.0, \n",
        "     110.0, 115.0, 125.0, 130.0, 120.0, 120.0, 130.0, 135.0, 110.0, \n",
        "     130.0, 150.0, 145.0, 150.0, 170.0, 225.0, 145.0, 188.0, 180.0, \n",
        "     197.0, 218.0, 300.0, 260.0, 265.0, 250.0, 250.0, 300.0, 320.0, \n",
        "     514.0, 556.0, 840.0, 685.0, 700.0, 700.0, 690.0, 900.0, 650.0, \n",
        "     820.0, 850.0, 900.0, 1015.0, 820.0, 1100.0, 1000.0, 1100.0, \n",
        "     1000.0, 1000.0]\n",
        "     )"
      ],
      "metadata": {
        "id": "PLxyuRoEDCiN"
      },
      "execution_count": 3,
      "outputs": []
    },
    {
      "cell_type": "code",
      "source": [
        "from sklearn.model_selection import train_test_split\n",
        "\n",
        "x_train, x_test, y_train, y_test = train_test_split(perch_full, perch_weight, random_state=42)"
      ],
      "metadata": {
        "id": "Okc0n-25DF1-"
      },
      "execution_count": 4,
      "outputs": []
    },
    {
      "cell_type": "markdown",
      "source": [
        "## LinearRegression"
      ],
      "metadata": {
        "id": "7ECp3v8TSPzF"
      }
    },
    {
      "cell_type": "markdown",
      "source": [
        "## 사이킷런의 변환기\n",
        "- 변환기(Transformer): 특성을 만들거나 전처리하기 위한 클래스\n",
        "  - fit(), transform() 메서드 제공\n",
        "  - 이 둘을 합친 fit_transform() 메서드도 있음\n",
        "- cf) 딥러닝의 Transformer 구조와 전혀 상관없음\n",
        "- cf) 추정기(Estimator): LinearRegression, KNN 등처럼 변환기 외에 모델링하는 것들을 통칭\n",
        "  - fit(), predict(), score() 메서드 제공"
      ],
      "metadata": {
        "id": "4I2FCtZ3DHW-"
      }
    },
    {
      "cell_type": "markdown",
      "source": [
        "### Polynomial Regression\n",
        "- 비선형(non-linear) 데이터를 학습하는데 선형 모델을 사용할 수 있게 해줌\n",
        "- 기존 데이터의 feature가 여러 개일 때 feature 간의 관계를 찾을 수 있음<br>\n",
        "cf) https://box-world.tistory.com/52"
      ],
      "metadata": {
        "id": "syBmd6RxZwXu"
      }
    },
    {
      "cell_type": "markdown",
      "source": [
        "#### 다항 특성 만들기"
      ],
      "metadata": {
        "id": "RuJo6MwwG0PH"
      }
    },
    {
      "cell_type": "code",
      "source": [
        "from sklearn.preprocessing import PolynomialFeatures"
      ],
      "metadata": {
        "id": "4cWvtCK8DJ29"
      },
      "execution_count": 5,
      "outputs": []
    },
    {
      "cell_type": "markdown",
      "source": [
        "#### model.fit()한 후에 model.transform()을 사용할 수 있음"
      ],
      "metadata": {
        "id": "ZNJ1q8-dTwht"
      }
    },
    {
      "cell_type": "code",
      "source": [
        "# degree=2 디폴트\n",
        "model = PolynomialFeatures()\n",
        "model.fit([[2, 3]])\n",
        "\n",
        "# 1(편향 / 절편, bias), 2(특성1), 3(특성2), 2**2(특성1**2), 2*3(특성1*특성2), 3**2(특성2**2)\n",
        "print(model.transform([[2, 3]]))\n",
        "\n",
        "# cf) fit()와 transform()을 model.fit_transform()으로 한 번에 쓸 수 있음"
      ],
      "metadata": {
        "colab": {
          "base_uri": "https://localhost:8080/"
        },
        "id": "QS_cUO6eDKq-",
        "outputId": "c8f55e1b-a2ca-4c1e-b9f7-623cc11304b6"
      },
      "execution_count": 6,
      "outputs": [
        {
          "output_type": "stream",
          "name": "stdout",
          "text": [
            "[[1. 2. 3. 4. 6. 9.]]\n"
          ]
        }
      ]
    },
    {
      "cell_type": "code",
      "source": [
        "# LinearRegression 클래스(모델)는 bias를 자동으로 추가하므로 굳이 bias를 생성하지 않음\n",
        "# bias를 추가하더라도 무시하기때문에 상관없지만 혼돈을 피하기 위해 명시적으로 include_bias=False를 사용\n",
        "model = PolynomialFeatures(include_bias=False)\n",
        "model.fit([[2, 3]])\n",
        "print(model.transform([[2, 3]]))"
      ],
      "metadata": {
        "colab": {
          "base_uri": "https://localhost:8080/"
        },
        "id": "61hvMPRCDLU9",
        "outputId": "bc4a3c3d-3445-4174-c9ff-0c6098ff5b24"
      },
      "execution_count": 7,
      "outputs": [
        {
          "output_type": "stream",
          "name": "stdout",
          "text": [
            "[[2. 3. 4. 6. 9.]]\n"
          ]
        }
      ]
    },
    {
      "cell_type": "markdown",
      "source": [
        "#### 코드 적용"
      ],
      "metadata": {
        "id": "KZaG50cvba5x"
      }
    },
    {
      "cell_type": "code",
      "source": [
        "# degree=2 디폴트\n",
        "model = PolynomialFeatures(include_bias=False)\n",
        "\n",
        "model.fit(x_train)\n",
        "train_poly = model.transform(x_train)"
      ],
      "metadata": {
        "id": "vpu7614WDMW2"
      },
      "execution_count": 8,
      "outputs": []
    },
    {
      "cell_type": "code",
      "source": [
        "print(x_train.shape, train_poly.shape)"
      ],
      "metadata": {
        "colab": {
          "base_uri": "https://localhost:8080/"
        },
        "id": "5zkaVhMtDNMN",
        "outputId": "f4e6058e-330b-4b85-cf08-127dedd9ea42"
      },
      "execution_count": 9,
      "outputs": [
        {
          "output_type": "stream",
          "name": "stdout",
          "text": [
            "(42, 3) (42, 9)\n"
          ]
        }
      ]
    },
    {
      "cell_type": "code",
      "source": [
        "model.get_feature_names_out()"
      ],
      "metadata": {
        "colab": {
          "base_uri": "https://localhost:8080/"
        },
        "id": "OthoERONDN7l",
        "outputId": "d06a560f-2fa7-4035-bbde-6e9e732b4333"
      },
      "execution_count": 10,
      "outputs": [
        {
          "output_type": "execute_result",
          "data": {
            "text/plain": [
              "array(['x0', 'x1', 'x2', 'x0^2', 'x0 x1', 'x0 x2', 'x1^2', 'x1 x2',\n",
              "       'x2^2'], dtype=object)"
            ]
          },
          "metadata": {},
          "execution_count": 10
        }
      ]
    },
    {
      "cell_type": "code",
      "source": [
        "test_poly = model.transform(x_test)"
      ],
      "metadata": {
        "id": "hS04HPQcDOzl"
      },
      "execution_count": 11,
      "outputs": []
    },
    {
      "cell_type": "markdown",
      "source": [
        "#### 다중 회귀(multiple / multinomial regression) 모델 훈련하기"
      ],
      "metadata": {
        "id": "v3EnhI_fDPwN"
      }
    },
    {
      "cell_type": "code",
      "source": [
        "from sklearn.linear_model import LinearRegression\n",
        "\n",
        "model = LinearRegression()\n",
        "model.fit(train_poly, y_train)\n",
        "print(model.score(train_poly, y_train))"
      ],
      "metadata": {
        "colab": {
          "base_uri": "https://localhost:8080/"
        },
        "id": "iMZCbR5_DRd-",
        "outputId": "49f0399d-fa65-4b6c-abc4-4df9a39b59f1"
      },
      "execution_count": 12,
      "outputs": [
        {
          "output_type": "stream",
          "name": "stdout",
          "text": [
            "0.9903183436982124\n"
          ]
        }
      ]
    },
    {
      "cell_type": "code",
      "source": [
        "print(model.score(test_poly, y_test))"
      ],
      "metadata": {
        "colab": {
          "base_uri": "https://localhost:8080/"
        },
        "id": "undO5EHIDSeU",
        "outputId": "4b4c6e01-8b42-4b7a-dace-3914afb75fc2"
      },
      "execution_count": 13,
      "outputs": [
        {
          "output_type": "stream",
          "name": "stdout",
          "text": [
            "0.9714559911594134\n"
          ]
        }
      ]
    },
    {
      "cell_type": "markdown",
      "source": [
        "#### 더 많은 특성 만들기"
      ],
      "metadata": {
        "id": "UCSXARi7cSZk"
      }
    },
    {
      "cell_type": "code",
      "source": [
        "# degree=2가 디폴트\n",
        "poly = PolynomialFeatures(degree=5, include_bias=False)\n",
        "\n",
        "poly.fit(x_train)\n",
        "train_poly = poly.transform(x_train)\n",
        "test_poly = poly.transform(x_test)"
      ],
      "metadata": {
        "id": "VNxp-FaEDTiN"
      },
      "execution_count": 14,
      "outputs": []
    },
    {
      "cell_type": "code",
      "source": [
        "print(train_poly.shape)"
      ],
      "metadata": {
        "colab": {
          "base_uri": "https://localhost:8080/"
        },
        "id": "xPqX19epDUdM",
        "outputId": "122f45c2-4ce7-4e2f-e035-67b287c44346"
      },
      "execution_count": 15,
      "outputs": [
        {
          "output_type": "stream",
          "name": "stdout",
          "text": [
            "(42, 55)\n"
          ]
        }
      ]
    },
    {
      "cell_type": "markdown",
      "source": [
        "- 특성의 개수를 크게 늘리면 선형모델은 아주 강력해짐.\n",
        "- 훈련 세트에 대해 거의 완벽하게 학습이 가능하지만 과대적합이 발생."
      ],
      "metadata": {
        "id": "K9z3g2FUdHFj"
      }
    },
    {
      "cell_type": "code",
      "source": [
        "model.fit(train_poly, y_train)\n",
        "print(model.score(train_poly, y_train))"
      ],
      "metadata": {
        "colab": {
          "base_uri": "https://localhost:8080/"
        },
        "id": "joy2hz5CDVxV",
        "outputId": "6ea0a884-7fa2-4e2b-9582-c725403d7eeb"
      },
      "execution_count": 16,
      "outputs": [
        {
          "output_type": "stream",
          "name": "stdout",
          "text": [
            "0.9999999999991097\n"
          ]
        }
      ]
    },
    {
      "cell_type": "code",
      "source": [
        "print(model.score(test_poly, y_test))"
      ],
      "metadata": {
        "colab": {
          "base_uri": "https://localhost:8080/"
        },
        "id": "Ktc1ouaXDWhV",
        "outputId": "3dda381f-fdc4-49fb-cb96-9eeaebe8190c"
      },
      "execution_count": 17,
      "outputs": [
        {
          "output_type": "stream",
          "name": "stdout",
          "text": [
            "-144.40579242684848\n"
          ]
        }
      ]
    },
    {
      "cell_type": "markdown",
      "source": [
        "## 규제\n",
        "- 과대적합을 방지함\n",
        "- 선형 회귀 모델의 경우 특성에 곱해지는 계수(또는 가중치(기울기))의 크기를 작게 만드는 일\n",
        "  - 대표적으로 릿지 회귀와 라쏘 회귀가 있음\n",
        "- 먼저 정규화를 해야함\n",
        "  - 계수 값의 크기가 서로 많이 다르면 공정하게 제어되지 않기 때문"
      ],
      "metadata": {
        "id": "5NzZB_NYDXUd"
      }
    },
    {
      "cell_type": "markdown",
      "source": [
        "### 규제 전 정규화 - StandardScaler 클래스\n",
        "- 정규화\n",
        "- 변환기(Transformer) 중 하나\n",
        "  - fit(), transform(), fit_transform()"
      ],
      "metadata": {
        "id": "VJMLSQnxk-Z9"
      }
    },
    {
      "cell_type": "code",
      "source": [
        "from sklearn.preprocessing import StandardScaler\n",
        "\n",
        "model = StandardScaler()\n",
        "model.fit(train_poly)  # 각 특성마다 표준편차를 구함\n",
        "\n",
        "train_scaled = model.transform(train_poly)\n",
        "test_scaled = model.transform(test_poly)"
      ],
      "metadata": {
        "id": "YEwpS7EODZQc"
      },
      "execution_count": 18,
      "outputs": []
    },
    {
      "cell_type": "markdown",
      "source": [
        "### 릿지 회귀\n",
        "- (가중치)^2을 벌칙으로 사용\n",
        "  - 이를 선형 회귀가 아닌 다른 클래스(모델)에 적용할 경우, `L2규제`라고 한다.\n",
        "- 가중치처럼 모델이 학습할 때 쓰는 파라미터를 \"모델 파라미터\"라고 한다."
      ],
      "metadata": {
        "id": "PcZ7ob6hDaD2"
      }
    },
    {
      "cell_type": "code",
      "source": [
        "from sklearn.linear_model import Ridge\n",
        "\n",
        "model = Ridge()  # 하이퍼파라미터 \"alpha\"는 1이 디폴트, alpha를 크게하면 강도 ↑\n",
        "model.fit(train_scaled, y_train)\n",
        "print(model.score(train_scaled, y_train))"
      ],
      "metadata": {
        "colab": {
          "base_uri": "https://localhost:8080/"
        },
        "id": "-yZdjDYTDccc",
        "outputId": "690b1967-3b17-4ee5-885a-df5240c5f136"
      },
      "execution_count": 19,
      "outputs": [
        {
          "output_type": "stream",
          "name": "stdout",
          "text": [
            "0.9896101671037343\n"
          ]
        }
      ]
    },
    {
      "cell_type": "code",
      "source": [
        "print(model.score(test_scaled, y_test))"
      ],
      "metadata": {
        "colab": {
          "base_uri": "https://localhost:8080/"
        },
        "id": "D2ylZ9xIDdQs",
        "outputId": "b04d5393-cfc2-4b33-bdfc-3dd919b16f4d"
      },
      "execution_count": 20,
      "outputs": [
        {
          "output_type": "stream",
          "name": "stdout",
          "text": [
            "0.9790693977615397\n"
          ]
        }
      ]
    },
    {
      "cell_type": "code",
      "source": [
        "import matplotlib.pyplot as plt\n",
        "\n",
        "train_score = []\n",
        "test_score = []"
      ],
      "metadata": {
        "id": "sfJN2v3qDeOs"
      },
      "execution_count": 21,
      "outputs": []
    },
    {
      "cell_type": "markdown",
      "source": [
        "- 적절한 규제 강도 찾기 - 더 좋은 alpha 찾아보기\n",
        "\n"
      ],
      "metadata": {
        "id": "aIvP6L7eoPhj"
      }
    },
    {
      "cell_type": "code",
      "source": [
        "alpha_list = [0.001, 0.01, 0.1, 1, 10, 100]  # 이렇게 log 스케일(10의 배수)로 바꾸는 게 관례\n",
        "for alpha in alpha_list:\n",
        "    # 릿지 모델 선언\n",
        "    model = Ridge(alpha=alpha)\n",
        "\n",
        "    # 릿지 모델 훈련\n",
        "    model.fit(train_scaled, y_train)\n",
        "\n",
        "    # 훈련 점수와 테스트 점수 저장\n",
        "    train_score.append(model.score(train_scaled, y_train))\n",
        "    test_score.append(model.score(test_scaled, y_test))"
      ],
      "metadata": {
        "id": "xE_AyhGNDfGU"
      },
      "execution_count": 22,
      "outputs": []
    },
    {
      "cell_type": "markdown",
      "source": [
        "- np.log10()"
      ],
      "metadata": {
        "id": "TCy-N8CAqTAK"
      }
    },
    {
      "cell_type": "code",
      "source": [
        "# np.log10()을 사용해서 alpha_list 간격을 보기 좋게 바꿈\n",
        "plt.plot(np.log10(alpha_list), train_score)\n",
        "plt.plot(np.log10(alpha_list), test_score)\n",
        "plt.xlabel('alpha')\n",
        "plt.ylabel('R^2')\n",
        "plt.legend(['train', 'test'])\n",
        "plt.show()"
      ],
      "metadata": {
        "colab": {
          "base_uri": "https://localhost:8080/",
          "height": 279
        },
        "id": "R0UnSmwxDf-k",
        "outputId": "fd78dd0b-19b2-4a60-92f8-291ba7c84aeb"
      },
      "execution_count": 23,
      "outputs": [
        {
          "output_type": "display_data",
          "data": {
            "image/png": "[encoded data removed]",
            "text/plain": [
              "<Figure size 432x288 with 1 Axes>"
            ]
          },
          "metadata": {
            "needs_background": "light"
          }
        }
      ]
    },
    {
      "cell_type": "code",
      "source": [
        "model = Ridge(alpha=0.1)\n",
        "model.fit(train_scaled, y_train)\n",
        "\n",
        "print(model.score(train_scaled, y_train))\n",
        "print(model.score(test_scaled, y_test))"
      ],
      "metadata": {
        "colab": {
          "base_uri": "https://localhost:8080/"
        },
        "id": "iZecu84nDg28",
        "outputId": "96958b7a-5675-4943-920e-7b951dbf33ea"
      },
      "execution_count": 24,
      "outputs": [
        {
          "output_type": "stream",
          "name": "stdout",
          "text": [
            "0.9903815817570366\n",
            "0.9827976465386926\n"
          ]
        }
      ]
    },
    {
      "cell_type": "markdown",
      "source": [
        "#### 결론: 규제를 안 하면 과대적합, 너무 하면 과소적합, 제일 좋은 지점은 train과 test 차이가 제일 적게 나는 지점"
      ],
      "metadata": {
        "id": "oGI97lmoqg94"
      }
    },
    {
      "cell_type": "markdown",
      "source": [
        "### 라쏘 회귀\n",
        "- |가중치| 를 벌칙으로 사용\n",
        "  - 이를 선형 회귀가 아닌 다른 모델에 적용할 경우, `L1규제`라고 한다."
      ],
      "metadata": {
        "id": "Ygl3k1g-Dhv8"
      }
    },
    {
      "cell_type": "code",
      "source": [
        "from sklearn.linear_model import Lasso\n",
        "\n",
        "model = Lasso()  # 하이퍼파라미터 \"alpha\"는 1이 디폴트, alpha를 크게하면 강도 ↑\n",
        "model.fit(train_scaled, y_train)\n",
        "print(model.score(train_scaled, y_train))"
      ],
      "metadata": {
        "colab": {
          "base_uri": "https://localhost:8080/"
        },
        "id": "ZpBzIcELDjnM",
        "outputId": "941d4d5e-7b63-4767-9c73-94790b7c7228"
      },
      "execution_count": 25,
      "outputs": [
        {
          "output_type": "stream",
          "name": "stdout",
          "text": [
            "0.989789897208096\n"
          ]
        }
      ]
    },
    {
      "cell_type": "code",
      "source": [
        "print(model.score(test_scaled, y_test))"
      ],
      "metadata": {
        "colab": {
          "base_uri": "https://localhost:8080/"
        },
        "id": "EvpIZJZhDklM",
        "outputId": "e369d535-1516-47a1-ccb2-6ef636e37f67"
      },
      "execution_count": 26,
      "outputs": [
        {
          "output_type": "stream",
          "name": "stdout",
          "text": [
            "0.9800593698421883\n"
          ]
        }
      ]
    },
    {
      "cell_type": "code",
      "source": [
        "train_score = []\n",
        "test_score = []\n",
        "\n",
        "alpha_list = [0.001, 0.01, 0.1, 1, 10, 100]  # 이렇게 log 스케일(10의 배수)로 바꾸는 게 관례\n",
        "for alpha in alpha_list:\n",
        "    # 라쏘 모델 선언\n",
        "    model = Lasso(alpha=alpha, max_iter=10000)\n",
        "\n",
        "    # 라쏘 모델 훈련\n",
        "    model.fit(train_scaled, y_train)\n",
        "\n",
        "    # 훈련 점수와 테스트 점수 저장\n",
        "    train_score.append(model.score(train_scaled, y_train))\n",
        "    test_score.append(model.score(test_scaled, y_test))"
      ],
      "metadata": {
        "colab": {
          "base_uri": "https://localhost:8080/"
        },
        "id": "4QE39p-aDlkU",
        "outputId": "24859ad2-c2cc-4e45-a709-73a1c59b6c66"
      },
      "execution_count": 27,
      "outputs": [
        {
          "output_type": "stream",
          "name": "stderr",
          "text": [
            "/usr/local/lib/python3.7/dist-packages/sklearn/linear_model/_coordinate_descent.py:648: ConvergenceWarning: Objective did not converge. You might want to increase the number of iterations, check the scale of the features or consider increasing regularisation. Duality gap: 1.878e+04, tolerance: 5.183e+02\n",
            "  coef_, l1_reg, l2_reg, X, y, max_iter, tol, rng, random, positive\n",
            "/usr/local/lib/python3.7/dist-packages/sklearn/linear_model/_coordinate_descent.py:648: ConvergenceWarning: Objective did not converge. You might want to increase the number of iterations, check the scale of the features or consider increasing regularisation. Duality gap: 1.297e+04, tolerance: 5.183e+02\n",
            "  coef_, l1_reg, l2_reg, X, y, max_iter, tol, rng, random, positive\n"
          ]
        }
      ]
    },
    {
      "cell_type": "code",
      "source": [
        "# np.log10()을 사용해서 alpha_list 간격을 보기 좋게 바꿈\n",
        "plt.plot(np.log10(alpha_list), train_score)\n",
        "plt.plot(np.log10(alpha_list), test_score)\n",
        "plt.xlabel('alpha')\n",
        "plt.ylabel('R^2')\n",
        "plt.show()"
      ],
      "metadata": {
        "colab": {
          "base_uri": "https://localhost:8080/",
          "height": 279
        },
        "id": "_1i1BYPcDmas",
        "outputId": "34ebc8b8-7a0a-41d1-9822-2d3f9c8750a6"
      },
      "execution_count": 28,
      "outputs": [
        {
          "output_type": "display_data",
          "data": {
            "image/png": "[encoded data removed]",
            "text/plain": [
              "<Figure size 432x288 with 1 Axes>"
            ]
          },
          "metadata": {
            "needs_background": "light"
          }
        }
      ]
    },
    {
      "cell_type": "code",
      "source": [
        "model = Lasso(alpha=10)\n",
        "model.fit(train_scaled, y_train)\n",
        "\n",
        "print(model.score(train_scaled, y_train))\n",
        "print(model.score(test_scaled, y_test))"
      ],
      "metadata": {
        "colab": {
          "base_uri": "https://localhost:8080/"
        },
        "id": "RPLrigWzDnbk",
        "outputId": "860c53fe-74b5-478e-d006-0833a884000b"
      },
      "execution_count": 29,
      "outputs": [
        {
          "output_type": "stream",
          "name": "stdout",
          "text": [
            "0.9888067471131867\n",
            "0.9824470598706695\n"
          ]
        }
      ]
    },
    {
      "cell_type": "markdown",
      "source": [
        "- 라쏘 회귀 특징: 일부 특성을 아예 사용 안 할 수도 있다.\n",
        "  - 가중치를 0으로 만들 수 있다. 이러면 해당 특성이 의미 없어짐"
      ],
      "metadata": {
        "id": "nKfT0jzNsz2-"
      }
    },
    {
      "cell_type": "code",
      "source": [
        "print(np.sum(model.coef_ == 0))  # 총 55개 특성 중 15개만 사용했음을 알 수 있다."
      ],
      "metadata": {
        "colab": {
          "base_uri": "https://localhost:8080/"
        },
        "id": "_PG6c-MpDoYE",
        "outputId": "3b7834bd-d28e-4e61-bacf-9149cd2b5f97"
      },
      "execution_count": 30,
      "outputs": [
        {
          "output_type": "stream",
          "name": "stdout",
          "text": [
            "40\n"
          ]
        }
      ]
    },
    {
      "cell_type": "markdown",
      "source": [
        "### 일반적으로 라쏘 회귀(L1)보다는 릿지 회귀(L2) 규제를 선호\n",
        "  - 규제가 좀 더 효과적\n"
      ],
      "metadata": {
        "id": "AbkoDdhjsPza"
      }
    }
  ]
}