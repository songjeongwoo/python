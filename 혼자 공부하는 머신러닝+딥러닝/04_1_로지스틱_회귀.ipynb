{
 "cells": [
  {
   "cell_type": "markdown",
   "metadata": {
    "id": "kTouOUy9FdH5"
   },
   "source": [
    "# 로지스틱 회귀"
   ]
  },
  {
   "cell_type": "markdown",
   "metadata": {
    "id": "5sbroiY7FXyA"
   },
   "source": [
    "## 럭키백의 확률"
   ]
  },
  {
   "cell_type": "markdown",
   "metadata": {
    "id": "BFoR0pfFGY1O"
   },
   "source": [
    "### 데이터 준비"
   ]
  },
  {
   "cell_type": "code",
   "execution_count": 2,
   "metadata": {
    "id": "L-VdOgEbDxdp"
   },
   "outputs": [],
   "source": [
    "import pandas as pd"
   ]
  },
  {
   "cell_type": "code",
   "execution_count": 3,
   "metadata": {
    "colab": {
     "base_uri": "https://localhost:8080/",
     "height": 112
    },
    "id": "KjMkaDqMDyyB",
    "outputId": "c7773c91-63f4-4cb9-8cc1-947c1698219a"
   },
   "outputs": [
    {
     "data": {
      "text/html": [
       "\n",
       "  <div id=\"df-27f5fc68-bc75-4644-a696-714672193f93\">\n",
       "    <div class=\"colab-df-container\">\n",
       "      <div>\n",
       "<style scoped>\n",
       "    .dataframe tbody tr th:only-of-type {\n",
       "        vertical-align: middle;\n",
       "    }\n",
       "\n",
       "    .dataframe tbody tr th {\n",
       "        vertical-align: top;\n",
       "    }\n",
       "\n",
       "    .dataframe thead th {\n",
       "        text-align: right;\n",
       "    }\n",
       "</style>\n",
       "<table border=\"1\" class=\"dataframe\">\n",
       "  <thead>\n",
       "    <tr style=\"text-align: right;\">\n",
       "      <th></th>\n",
       "      <th>Species</th>\n",
       "      <th>Weight</th>\n",
       "      <th>Length</th>\n",
       "      <th>Diagonal</th>\n",
       "      <th>Height</th>\n",
       "      <th>Width</th>\n",
       "    </tr>\n",
       "  </thead>\n",
       "  <tbody>\n",
       "    <tr>\n",
       "      <th>157</th>\n",
       "      <td>Smelt</td>\n",
       "      <td>19.7</td>\n",
       "      <td>14.3</td>\n",
       "      <td>15.2</td>\n",
       "      <td>2.8728</td>\n",
       "      <td>2.0672</td>\n",
       "    </tr>\n",
       "    <tr>\n",
       "      <th>158</th>\n",
       "      <td>Smelt</td>\n",
       "      <td>19.9</td>\n",
       "      <td>15.0</td>\n",
       "      <td>16.2</td>\n",
       "      <td>2.9322</td>\n",
       "      <td>1.8792</td>\n",
       "    </tr>\n",
       "  </tbody>\n",
       "</table>\n",
       "</div>\n",
       "      <button class=\"colab-df-convert\" onclick=\"convertToInteractive('df-27f5fc68-bc75-4644-a696-714672193f93')\"\n",
       "              title=\"Convert this dataframe to an interactive table.\"\n",
       "              style=\"display:none;\">\n",
       "        \n",
       "  <svg xmlns=\"http://www.w3.org/2000/svg\" height=\"24px\"viewBox=\"0 0 24 24\"\n",
       "       width=\"24px\">\n",
       "    <path d=\"M0 0h24v24H0V0z\" fill=\"none\"/>\n",
       "    <path d=\"M18.56 5.44l.94 2.06.94-2.06 2.06-.94-2.06-.94-.94-2.06-.94 2.06-2.06.94zm-11 1L8.5 8.5l.94-2.06 2.06-.94-2.06-.94L8.5 2.5l-.94 2.06-2.06.94zm10 10l.94 2.06.94-2.06 2.06-.94-2.06-.94-.94-2.06-.94 2.06-2.06.94z\"/><path d=\"M17.41 7.96l-1.37-1.37c-.4-.4-.92-.59-1.43-.59-.52 0-1.04.2-1.43.59L10.3 9.45l-7.72 7.72c-.78.78-.78 2.05 0 2.83L4 21.41c.39.39.9.59 1.41.59.51 0 1.02-.2 1.41-.59l7.78-7.78 2.81-2.81c.8-.78.8-2.07 0-2.86zM5.41 20L4 18.59l7.72-7.72 1.47 1.35L5.41 20z\"/>\n",
       "  </svg>\n",
       "      </button>\n",
       "      \n",
       "  <style>\n",
       "    .colab-df-container {\n",
       "      display:flex;\n",
       "      flex-wrap:wrap;\n",
       "      gap: 12px;\n",
       "    }\n",
       "\n",
       "    .colab-df-convert {\n",
       "      background-color: #E8F0FE;\n",
       "      border: none;\n",
       "      border-radius: 50%;\n",
       "      cursor: pointer;\n",
       "      display: none;\n",
       "      fill: #1967D2;\n",
       "      height: 32px;\n",
       "      padding: 0 0 0 0;\n",
       "      width: 32px;\n",
       "    }\n",
       "\n",
       "    .colab-df-convert:hover {\n",
       "      background-color: #E2EBFA;\n",
       "      box-shadow: 0px 1px 2px rgba(60, 64, 67, 0.3), 0px 1px 3px 1px rgba(60, 64, 67, 0.15);\n",
       "      fill: #174EA6;\n",
       "    }\n",
       "\n",
       "    [theme=dark] .colab-df-convert {\n",
       "      background-color: #3B4455;\n",
       "      fill: #D2E3FC;\n",
       "    }\n",
       "\n",
       "    [theme=dark] .colab-df-convert:hover {\n",
       "      background-color: #434B5C;\n",
       "      box-shadow: 0px 1px 3px 1px rgba(0, 0, 0, 0.15);\n",
       "      filter: drop-shadow(0px 1px 2px rgba(0, 0, 0, 0.3));\n",
       "      fill: #FFFFFF;\n",
       "    }\n",
       "  </style>\n",
       "\n",
       "      <script>\n",
       "        const buttonEl =\n",
       "          document.querySelector('#df-27f5fc68-bc75-4644-a696-714672193f93 button.colab-df-convert');\n",
       "        buttonEl.style.display =\n",
       "          google.colab.kernel.accessAllowed ? 'block' : 'none';\n",
       "\n",
       "        async function convertToInteractive(key) {\n",
       "          const element = document.querySelector('#df-27f5fc68-bc75-4644-a696-714672193f93');\n",
       "          const dataTable =\n",
       "            await google.colab.kernel.invokeFunction('convertToInteractive',\n",
       "                                                     [key], {});\n",
       "          if (!dataTable) return;\n",
       "\n",
       "          const docLinkHtml = 'Like what you see? Visit the ' +\n",
       "            '<a target=\"_blank\" href=https://colab.research.google.com/notebooks/data_table.ipynb>data table notebook</a>'\n",
       "            + ' to learn more about interactive tables.';\n",
       "          element.innerHTML = '';\n",
       "          dataTable['output_type'] = 'display_data';\n",
       "          await google.colab.output.renderOutput(dataTable, element);\n",
       "          const docLink = document.createElement('div');\n",
       "          docLink.innerHTML = docLinkHtml;\n",
       "          element.appendChild(docLink);\n",
       "        }\n",
       "      </script>\n",
       "    </div>\n",
       "  </div>\n",
       "  "
      ],
      "text/plain": [
       "    Species  Weight  Length  Diagonal  Height   Width\n",
       "157   Smelt    19.7    14.3      15.2  2.8728  2.0672\n",
       "158   Smelt    19.9    15.0      16.2  2.9322  1.8792"
      ]
     },
     "execution_count": 3,
     "metadata": {},
     "output_type": "execute_result"
    }
   ],
   "source": [
    "data = pd.read_csv('https://bit.ly/fish_csv_data')\n",
    "data.tail(2)"
   ]
  },
  {
   "cell_type": "code",
   "execution_count": 4,
   "metadata": {
    "colab": {
     "base_uri": "https://localhost:8080/"
    },
    "id": "8b0eggF-FhSd",
    "outputId": "cd2424fc-ca0f-4814-fe9c-246c840dedd4"
   },
   "outputs": [
    {
     "name": "stdout",
     "output_type": "stream",
     "text": [
      "['Bream' 'Roach' 'Whitefish' 'Parkki' 'Perch' 'Pike' 'Smelt']\n"
     ]
    }
   ],
   "source": [
    "print(data['Species'].unique())"
   ]
  },
  {
   "cell_type": "markdown",
   "metadata": {
    "id": "7peg9kCxY2Qj"
   },
   "source": [
    "- np arr로 안 바꾸면 밑에 `print(y_train[indexes])` 코드에서 에러\n",
    "  - 이유는.. 그냥 받아들이기로 함..\n",
    "  - np arr로 안 바꿀거면 밑에서 `print(y_train.values[indexes])`로 쓰면 해결되긴 함\n",
    "  - np는 DL에서 pd는 ML에서 애용\n",
    "  - df보다 np arr 속도가 더 빠르다"
   ]
  },
  {
   "cell_type": "code",
   "execution_count": 5,
   "metadata": {
    "colab": {
     "base_uri": "https://localhost:8080/"
    },
    "id": "Sd-Nm1B3D5Y4",
    "outputId": "65aede02-9c73-47aa-9d42-76389c597177"
   },
   "outputs": [
    {
     "name": "stdout",
     "output_type": "stream",
     "text": [
      "[[242.      25.4     30.      11.52     4.02  ]\n",
      " [290.      26.3     31.2     12.48     4.3056]\n",
      " [340.      26.5     31.1     12.3778   4.6961]\n",
      " [363.      29.      33.5     12.73     4.4555]\n",
      " [430.      29.      34.      12.444    5.134 ]]\n"
     ]
    }
   ],
   "source": [
    "x = data[['Weight', 'Length', 'Diagonal', 'Height', 'Width']].to_numpy()  # df를 np arr로 변환\n",
    "print(x[:5])"
   ]
  },
  {
   "cell_type": "code",
   "execution_count": 6,
   "metadata": {
    "colab": {
     "base_uri": "https://localhost:8080/"
    },
    "id": "hvs5jhoxEfIH",
    "outputId": "a58e765a-462a-486d-fe8a-23679210f22d"
   },
   "outputs": [
    {
     "name": "stdout",
     "output_type": "stream",
     "text": [
      "['Bream' 'Bream' 'Bream' 'Bream' 'Bream']\n"
     ]
    }
   ],
   "source": [
    "y = data['Species'].to_numpy()  # Series를 np arr로 변환\n",
    "print(y[:5])"
   ]
  },
  {
   "cell_type": "code",
   "execution_count": 7,
   "metadata": {
    "id": "iwAqZ6kWFurX"
   },
   "outputs": [],
   "source": [
    "# 라이브러리 불러오기\n",
    "from sklearn.model_selection import train_test_split  # train, test셋 분리\n",
    "from sklearn.preprocessing import StandardScaler  # 정규화"
   ]
  },
  {
   "cell_type": "code",
   "execution_count": 8,
   "metadata": {
    "id": "Dy29LUINGBES"
   },
   "outputs": [],
   "source": [
    "# train, test셋 분리\n",
    "x_train, x_test, y_train, y_test = train_test_split(x, y, random_state=42)"
   ]
  },
  {
   "cell_type": "code",
   "execution_count": 9,
   "metadata": {
    "id": "3VdUxnCzGQTv"
   },
   "outputs": [],
   "source": [
    "## 정규화\n",
    "# 모델 선언\n",
    "ss = StandardScaler()\n",
    "\n",
    "# 학습\n",
    "ss.fit(x_train)\n",
    "\n",
    "# 정규화\n",
    "train_scaled = ss.transform(x_train)\n",
    "test_scaled = ss.transform(x_test)"
   ]
  },
  {
   "cell_type": "markdown",
   "metadata": {
    "id": "MANaNeXDGf8X"
   },
   "source": [
    "### k-최근접 이웃 분류기의 확률 예측"
   ]
  },
  {
   "cell_type": "code",
   "execution_count": 10,
   "metadata": {
    "id": "XXgJvqsLG2ZV"
   },
   "outputs": [],
   "source": [
    "# 라이브러리 불러오기\n",
    "from sklearn.neighbors import KNeighborsClassifier"
   ]
  },
  {
   "cell_type": "code",
   "execution_count": 11,
   "metadata": {
    "colab": {
     "base_uri": "https://localhost:8080/"
    },
    "id": "dhz0P9JBG7jn",
    "outputId": "330792da-1af1-4f4e-c38c-bf69009e98b4"
   },
   "outputs": [
    {
     "data": {
      "text/plain": [
       "KNeighborsClassifier(n_neighbors=3)"
      ]
     },
     "execution_count": 11,
     "metadata": {},
     "output_type": "execute_result"
    }
   ],
   "source": [
    "# 모델 선언\n",
    "model = KNeighborsClassifier(n_neighbors=3)  # n_neighbors 디폴트는 5\n",
    "\n",
    "# 학습\n",
    "model.fit(train_scaled, y_train)"
   ]
  },
  {
   "cell_type": "code",
   "execution_count": 12,
   "metadata": {
    "colab": {
     "base_uri": "https://localhost:8080/"
    },
    "id": "px7Cr6IkHTsJ",
    "outputId": "20584ab0-02f2-4dd7-d41d-912069dc3359"
   },
   "outputs": [
    {
     "name": "stdout",
     "output_type": "stream",
     "text": [
      "['Bream' 'Parkki' 'Perch' 'Pike' 'Roach' 'Smelt' 'Whitefish']\n"
     ]
    }
   ],
   "source": [
    "# 타겟의 클래스 확인\n",
    "print(model.classes_)  # cf) sklearn 객체 속성 끝에 _가 붙어있으면 모델 클래스 만들 때 지정한 값이 아니라, 모델이 데이터로부터 학습한 특성일 경우에 _가 붙는다."
   ]
  },
  {
   "cell_type": "code",
   "execution_count": 13,
   "metadata": {
    "colab": {
     "base_uri": "https://localhost:8080/"
    },
    "id": "dBB8bvl3JFnW",
    "outputId": "ea2b299c-1e15-4c39-bb8d-40fb11e4db25"
   },
   "outputs": [
    {
     "name": "stdout",
     "output_type": "stream",
     "text": [
      "['Perch' 'Smelt' 'Pike' 'Perch' 'Perch']\n"
     ]
    }
   ],
   "source": [
    "# 예측\n",
    "y_pred = model.predict(test_scaled)\n",
    "print(y_pred[:5])"
   ]
  },
  {
   "cell_type": "code",
   "execution_count": 14,
   "metadata": {
    "colab": {
     "base_uri": "https://localhost:8080/"
    },
    "id": "GJlWQTIpISjB",
    "outputId": "842d87de-b321-4594-cca4-243ccf7cb014"
   },
   "outputs": [
    {
     "name": "stdout",
     "output_type": "stream",
     "text": [
      "[[0.     0.     1.     0.     0.     0.     0.    ]\n",
      " [0.     0.     0.     0.     0.     1.     0.    ]\n",
      " [0.     0.     0.     1.     0.     0.     0.    ]\n",
      " [0.     0.     0.6667 0.     0.3333 0.     0.    ]\n",
      " [0.     0.     0.6667 0.     0.3333 0.     0.    ]]\n"
     ]
    }
   ],
   "source": [
    "import numpy as np\n",
    "\n",
    "# 확률 출력\n",
    "proba = model.predict_proba(test_scaled[:5])\n",
    "print(np.round(proba, decimals=4))"
   ]
  },
  {
   "cell_type": "code",
   "execution_count": 15,
   "metadata": {
    "colab": {
     "base_uri": "https://localhost:8080/"
    },
    "id": "IRcydDT3I_9F",
    "outputId": "c8f079e0-08bb-4a0f-e249-9166a476c1b3"
   },
   "outputs": [
    {
     "name": "stdout",
     "output_type": "stream",
     "text": [
      "<class 'numpy.ndarray'>\n",
      "[['Roach' 'Perch' 'Perch']]\n"
     ]
    }
   ],
   "source": [
    "# 4번째 샘플에 대한 이웃들(3개) 확인\n",
    "distances, indexes = model.kneighbors(test_scaled[3:4])\n",
    "print(type(indexes))\n",
    "print(y_train[indexes])"
   ]
  },
  {
   "cell_type": "code",
   "execution_count": 16,
   "metadata": {
    "colab": {
     "base_uri": "https://localhost:8080/"
    },
    "id": "d6rJ0n0fERy-",
    "outputId": "ee2f04d1-6913-4fa2-d6b5-ccb2a14d2d58"
   },
   "outputs": [
    {
     "data": {
      "text/plain": [
       "array(['Perch', 'Smelt', 'Pike', 'Whitefish', 'Perch'], dtype=object)"
      ]
     },
     "execution_count": 16,
     "metadata": {},
     "output_type": "execute_result"
    }
   ],
   "source": [
    "# 정답 확인\n",
    "y_test[:5]"
   ]
  },
  {
   "cell_type": "code",
   "execution_count": 17,
   "metadata": {
    "colab": {
     "base_uri": "https://localhost:8080/"
    },
    "id": "X7bIucSoJO58",
    "outputId": "8fc4f5dd-5391-4eb6-fa84-ad2a66171e25"
   },
   "outputs": [
    {
     "name": "stdout",
     "output_type": "stream",
     "text": [
      "0.8907563025210085\n",
      "0.85\n"
     ]
    }
   ],
   "source": [
    "# 평가\n",
    "print(model.score(train_scaled, y_train))\n",
    "print(model.score(test_scaled, y_test))"
   ]
  },
  {
   "cell_type": "code",
   "execution_count": 18,
   "metadata": {
    "colab": {
     "base_uri": "https://localhost:8080/"
    },
    "id": "g42CTtPjJ3UW",
    "outputId": "086be356-ad15-46e5-9db5-f5edbf8be415"
   },
   "outputs": [
    {
     "name": "stdout",
     "output_type": "stream",
     "text": [
      "              precision    recall  f1-score   support\n",
      "\n",
      "       Bream       1.00      1.00      1.00        11\n",
      "      Parkki       1.00      1.00      1.00         2\n",
      "       Perch       0.71      0.83      0.77        12\n",
      "        Pike       1.00      1.00      1.00         4\n",
      "       Roach       0.50      0.67      0.57         3\n",
      "       Smelt       1.00      1.00      1.00         5\n",
      "   Whitefish       0.00      0.00      0.00         3\n",
      "\n",
      "    accuracy                           0.85        40\n",
      "   macro avg       0.74      0.79      0.76        40\n",
      "weighted avg       0.80      0.85      0.82        40\n",
      "\n"
     ]
    },
    {
     "name": "stderr",
     "output_type": "stream",
     "text": [
      "/usr/local/lib/python3.7/dist-packages/sklearn/metrics/_classification.py:1318: UndefinedMetricWarning: Precision and F-score are ill-defined and being set to 0.0 in labels with no predicted samples. Use `zero_division` parameter to control this behavior.\n",
      "  _warn_prf(average, modifier, msg_start, len(result))\n",
      "/usr/local/lib/python3.7/dist-packages/sklearn/metrics/_classification.py:1318: UndefinedMetricWarning: Precision and F-score are ill-defined and being set to 0.0 in labels with no predicted samples. Use `zero_division` parameter to control this behavior.\n",
      "  _warn_prf(average, modifier, msg_start, len(result))\n",
      "/usr/local/lib/python3.7/dist-packages/sklearn/metrics/_classification.py:1318: UndefinedMetricWarning: Precision and F-score are ill-defined and being set to 0.0 in labels with no predicted samples. Use `zero_division` parameter to control this behavior.\n",
      "  _warn_prf(average, modifier, msg_start, len(result))\n"
     ]
    }
   ],
   "source": [
    "# 평가2\n",
    "from sklearn.metrics import classification_report\n",
    "print(classification_report(y_test, y_pred))"
   ]
  },
  {
   "cell_type": "markdown",
   "metadata": {
    "id": "QDY-NW7GNbTm"
   },
   "source": [
    "## 로지스틱회귀"
   ]
  },
  {
   "cell_type": "code",
   "execution_count": 19,
   "metadata": {
    "id": "WquBS2oKCKnz"
   },
   "outputs": [],
   "source": [
    "import numpy as np\n",
    "import matplotlib.pyplot as plt"
   ]
  },
  {
   "cell_type": "markdown",
   "metadata": {
    "id": "D3IxLicRJ7Z5"
   },
   "source": [
    "###sigmoid 함수\n",
    "$$ \\large p = \\frac{1}{(1 + e^{-z})} $$\n",
    "<br>\n",
    "cf) $ z = f(x) $ 로 선형판별식을 뜻한다.<br>\n",
    "cf) model.predict()는 z값으로 판단, model.predict_proba()는 z값을 계산해서 p를 출력한다.<br>\n",
    "&nbsp;&nbsp;&nbsp;&nbsp;- 이진분류일 경우, 양성 클래스에 대한 p<br>\n",
    "cf) sklearn의 대부분의 분류모델은 model.decision_function()을 제공하고 이는 z값을 출력해줌.<br>\n",
    "&nbsp;&nbsp;&nbsp;&nbsp;- 따라서 z값만 보고 z값이 양수이면 1, 음수이면 0임을 알 수 있다."
   ]
  },
  {
   "cell_type": "code",
   "execution_count": 20,
   "metadata": {
    "colab": {
     "base_uri": "https://localhost:8080/",
     "height": 279
    },
    "id": "m4muXZ8ACR29",
    "outputId": "b09ec3d0-3748-4a83-ed14-34b3a6be73fd"
   },
   "outputs": [
    {
     "data": {
      "image/png": "[encoded data removed]",
      "text/plain": [
       "<Figure size 432x288 with 1 Axes>"
      ]
     },
     "metadata": {
      "needs_background": "light"
     },
     "output_type": "display_data"
    }
   ],
   "source": [
    "z = np.arange(-5, 5, 0.1)  # range 함수에는 정수 단위만 지원하나, np.arange는 실수 단위도 표현 가능  # range 메소드는 range iterator 자료형을 반환하고, np.arange 메소드는 numpy array 자료형을 반환\n",
    "phi = 1 / (1 + np.exp(-z))  # numpy.exp(x) 함수는 밑이 자연상수 e인 지수함수(e^x)로 변환\n",
    "plt.plot(z, phi)\n",
    "plt.xlabel('z')\n",
    "plt.ylabel('phi')\n",
    "plt.show()"
   ]
  },
  {
   "cell_type": "markdown",
   "metadata": {
    "id": "m47OukwvCZ9b"
   },
   "source": [
    "### 로지스틱 회귀로 이진 분류 수행하기"
   ]
  },
  {
   "cell_type": "code",
   "execution_count": 21,
   "metadata": {
    "colab": {
     "base_uri": "https://localhost:8080/"
    },
    "id": "nqGlEBPTNdDv",
    "outputId": "1356dc94-2024-47ed-ea68-8ec922265629"
   },
   "outputs": [
    {
     "name": "stdout",
     "output_type": "stream",
     "text": [
      "['A' 'C']\n"
     ]
    }
   ],
   "source": [
    "char_arr = np.array(['A', 'B', 'C', 'D', 'E'])\n",
    "print(char_arr[[True, False, True, False, False]])\n",
    "\n",
    "bream_smelt_indexes = (y_train == 'Bream') | (y_train == 'Smelt')  # 도미 또는 빙어이면 True 아니면 False\n",
    "train_bream_smelt = train_scaled[bream_smelt_indexes]  # True인 것만\n",
    "target_bream_smelt = y_train[bream_smelt_indexes]  # True인 것만"
   ]
  },
  {
   "cell_type": "code",
   "execution_count": 22,
   "metadata": {
    "colab": {
     "base_uri": "https://localhost:8080/"
    },
    "id": "iSnKBMuqPYQM",
    "outputId": "4c130c18-ed9f-4d93-a9dd-afca5da37582"
   },
   "outputs": [
    {
     "data": {
      "text/plain": [
       "array([ True, False,  True, False, False, False, False,  True, False,\n",
       "       False, False,  True, False, False, False,  True,  True, False,\n",
       "       False,  True, False,  True, False, False, False,  True, False,\n",
       "       False,  True, False, False, False, False,  True, False, False,\n",
       "        True,  True, False, False, False, False, False,  True, False,\n",
       "       False, False, False, False,  True, False,  True, False, False,\n",
       "        True, False, False, False,  True, False, False, False, False,\n",
       "       False, False,  True, False,  True, False, False, False, False,\n",
       "       False, False, False, False, False,  True, False,  True, False,\n",
       "       False,  True,  True, False, False, False,  True, False, False,\n",
       "       False, False, False,  True, False, False, False,  True, False,\n",
       "        True, False, False,  True,  True, False, False, False, False,\n",
       "       False, False, False, False,  True,  True, False, False,  True,\n",
       "       False, False])"
      ]
     },
     "execution_count": 22,
     "metadata": {},
     "output_type": "execute_result"
    }
   ],
   "source": [
    "# 확인\n",
    "bream_smelt_indexes"
   ]
  },
  {
   "cell_type": "code",
   "execution_count": 23,
   "metadata": {
    "colab": {
     "base_uri": "https://localhost:8080/"
    },
    "id": "HkONZvp5PtMr",
    "outputId": "6b07193f-6134-4946-bf47-2d1840d00254"
   },
   "outputs": [
    {
     "data": {
      "text/plain": [
       "(119, 33)"
      ]
     },
     "execution_count": 23,
     "metadata": {},
     "output_type": "execute_result"
    }
   ],
   "source": [
    "# # True인 것만 뽑혔는지 개수 확인\n",
    "len(bream_smelt_indexes), len(train_bream_smelt)"
   ]
  },
  {
   "cell_type": "code",
   "execution_count": 24,
   "metadata": {
    "id": "RHE5kQzwOBQm"
   },
   "outputs": [],
   "source": [
    "# 라이브러리 불러오기\n",
    "from sklearn.linear_model import LogisticRegression"
   ]
  },
  {
   "cell_type": "code",
   "execution_count": 25,
   "metadata": {
    "colab": {
     "base_uri": "https://localhost:8080/"
    },
    "id": "E3SNfyBCOX0M",
    "outputId": "2ef8fc29-cb7b-4f2a-ced8-233d33e13adc"
   },
   "outputs": [
    {
     "name": "stdout",
     "output_type": "stream",
     "text": [
      "['Bream' 'Smelt' 'Bream' 'Bream' 'Bream']\n"
     ]
    }
   ],
   "source": [
    "# 모델 선언\n",
    "lr = LogisticRegression()\n",
    "\n",
    "# 학습하기\n",
    "lr.fit(train_bream_smelt, target_bream_smelt)\n",
    "\n",
    "# 예측하기\n",
    "print(lr.predict(train_bream_smelt[:5]))  # model.predict()는 z값으로 판단"
   ]
  },
  {
   "cell_type": "code",
   "execution_count": 26,
   "metadata": {
    "colab": {
     "base_uri": "https://localhost:8080/"
    },
    "id": "mMvHaG3zOeNE",
    "outputId": "4315f74c-d7bf-4698-ff13-c05c22685e8f"
   },
   "outputs": [
    {
     "name": "stdout",
     "output_type": "stream",
     "text": [
      "[[0.99759855 0.00240145]\n",
      " [0.02735183 0.97264817]\n",
      " [0.99486072 0.00513928]\n",
      " [0.98584202 0.01415798]\n",
      " [0.99767269 0.00232731]]\n"
     ]
    }
   ],
   "source": [
    "# 확률 확인\n",
    "print(lr.predict_proba(train_bream_smelt[:5]))  # model.predict_proba()는 z값을 계산해서 p를 출력"
   ]
  },
  {
   "cell_type": "code",
   "execution_count": 27,
   "metadata": {
    "colab": {
     "base_uri": "https://localhost:8080/"
    },
    "id": "w6tNKWGROz2z",
    "outputId": "adcd91c0-bda5-4ddc-8393-3c97d46da6b3"
   },
   "outputs": [
    {
     "name": "stdout",
     "output_type": "stream",
     "text": [
      "['Bream' 'Smelt']\n"
     ]
    }
   ],
   "source": [
    "# 클래스 확인\n",
    "print(lr.classes_)"
   ]
  },
  {
   "cell_type": "markdown",
   "metadata": {
    "id": "RhSWXCYRQW3j"
   },
   "source": [
    "### 로지스틱 회귀 계수 확인"
   ]
  },
  {
   "cell_type": "code",
   "execution_count": 28,
   "metadata": {
    "colab": {
     "base_uri": "https://localhost:8080/"
    },
    "id": "WhxXjNxlO3Nr",
    "outputId": "fb459ed0-103d-45e5-bb82-72f16f4b0702"
   },
   "outputs": [
    {
     "name": "stdout",
     "output_type": "stream",
     "text": [
      "[[-0.4037798  -0.57620209 -0.66280298 -1.01290277 -0.73168947]] [-2.16155132]\n"
     ]
    }
   ],
   "source": [
    "# 가중치(기울기), 편향(절편) 확인\n",
    "print(lr.coef_, lr.intercept_)\n",
    "\n",
    "# z(f(x)) = -0.404*무게 -0.576*길이 -0.663*대각선 -0.013*높이 -0.732*두께 -2.161"
   ]
  },
  {
   "cell_type": "code",
   "execution_count": 29,
   "metadata": {
    "colab": {
     "base_uri": "https://localhost:8080/"
    },
    "id": "GS8J0ErpO7lr",
    "outputId": "eb3da8c9-aa16-4736-fefa-5276bd36818a"
   },
   "outputs": [
    {
     "name": "stdout",
     "output_type": "stream",
     "text": [
      "[-6.02927744  3.57123907 -5.26568906 -4.24321775 -6.0607117 ]\n"
     ]
    }
   ],
   "source": [
    "# sklearn의 대부분의 분류모델은 model.decision_function()을 제공하고 이는 z값을 출력해줌\n",
    "# 따라서 이진분류일 경우, z값만 보고 z값이 양수이면 1, 음수이면 0임을 알 수 있다.\n",
    "decisions = lr.decision_function(train_bream_smelt[:5])\n",
    "print(decisions)"
   ]
  },
  {
   "cell_type": "code",
   "execution_count": 30,
   "metadata": {
    "id": "IZdsLdnGQ00q"
   },
   "outputs": [],
   "source": [
    "# sigmoid함수를 위한 라이브러리 불러오기\n",
    "from scipy.special import expit  # sigmoid함수를 제공함"
   ]
  },
  {
   "cell_type": "code",
   "execution_count": 31,
   "metadata": {
    "colab": {
     "base_uri": "https://localhost:8080/"
    },
    "id": "DwV0J0-nQ6fN",
    "outputId": "5dcbb521-efb6-4146-f41b-284d3e708d64"
   },
   "outputs": [
    {
     "name": "stdout",
     "output_type": "stream",
     "text": [
      "[0.00240145 0.97264817 0.00513928 0.01415798 0.00232731]\n"
     ]
    }
   ],
   "source": [
    "print(expit(decisions))  # sigmoid함수를 거친 확률값 출력(이진 분류의 경우 양성의 확률만 출력)"
   ]
  },
  {
   "cell_type": "markdown",
   "metadata": {
    "id": "hC_EZYHdQ9UC"
   },
   "source": [
    "### 로지스틱 회귀(다중 분류)"
   ]
  },
  {
   "cell_type": "code",
   "execution_count": 32,
   "metadata": {
    "colab": {
     "base_uri": "https://localhost:8080/"
    },
    "id": "JD0jnAFoVhsI",
    "outputId": "4283459e-75eb-474d-86d5-8fc08559a6aa"
   },
   "outputs": [
    {
     "data": {
      "text/plain": [
       "LogisticRegression(C=20, max_iter=1000)"
      ]
     },
     "execution_count": 32,
     "metadata": {},
     "output_type": "execute_result"
    }
   ],
   "source": [
    "# 선언하기 \n",
    "# 로지스틱 회귀는 기본적으로 L2노름(norm) 규제를 적용, C↑ → 규제↓ / C↓ → 규제↑, 규제의 역수라고 표현\n",
    "# cf) LinearRegression의 Ridge(릿지회귀, L2규제)에선 alpha↑ → 규제↑\n",
    "lr = LogisticRegression(C=20, max_iter=1000)  # C는 규제강도 지정, 디폴트는 1 / max_iter는 반복횟수 지정, 디폴트는 100\n",
    "\n",
    "# 학습하기\n",
    "lr.fit(train_scaled, y_train)"
   ]
  },
  {
   "cell_type": "code",
   "execution_count": 33,
   "metadata": {
    "colab": {
     "base_uri": "https://localhost:8080/"
    },
    "id": "INR4m_Y5V002",
    "outputId": "1c3a5151-793c-473d-9e46-f809ea8423c5"
   },
   "outputs": [
    {
     "name": "stdout",
     "output_type": "stream",
     "text": [
      "0.9327731092436975\n",
      "0.925\n"
     ]
    }
   ],
   "source": [
    "print(lr.score(train_scaled, y_train))  # 회귀모델일 경우 r2 score, 분류모델일 경우 accuracy\n",
    "print(lr.score(test_scaled, y_test))"
   ]
  },
  {
   "cell_type": "code",
   "execution_count": 34,
   "metadata": {
    "colab": {
     "base_uri": "https://localhost:8080/"
    },
    "id": "odeMd1bOjBoj",
    "outputId": "6d2a5387-0707-4153-ed22-9f43c27324d3"
   },
   "outputs": [
    {
     "name": "stdout",
     "output_type": "stream",
     "text": [
      "[[0.    0.014 0.841 0.    0.136 0.007 0.003]\n",
      " [0.    0.003 0.044 0.    0.007 0.946 0.   ]\n",
      " [0.    0.    0.034 0.935 0.015 0.016 0.   ]\n",
      " [0.011 0.034 0.306 0.007 0.567 0.    0.076]\n",
      " [0.    0.    0.904 0.002 0.089 0.002 0.001]]\n"
     ]
    }
   ],
   "source": [
    "proba = lr.predict_proba(test_scaled[:5])\n",
    "print(np.round(proba, decimals=3))"
   ]
  },
  {
   "cell_type": "code",
   "execution_count": 35,
   "metadata": {
    "colab": {
     "base_uri": "https://localhost:8080/"
    },
    "id": "rL-jRVgXjMfZ",
    "outputId": "7456e5fb-7e70-4c96-b2d7-b23a87995d76"
   },
   "outputs": [
    {
     "name": "stdout",
     "output_type": "stream",
     "text": [
      "(7, 5) (7,)\n"
     ]
    }
   ],
   "source": [
    "print(lr.coef_.shape, lr.intercept_.shape)\n",
    "# 7: 클래스, # 5: 특성에 곱해지는 계수\n",
    "# => z값이 클래스마다 하나씩 만들어짐, 즉 7개의 선형함수가 만들어짐\n",
    "# => 첫번째 샘플이 7개의 선형함수를 거쳐서 가장 큰 값이 예측 클래스가 된다.\n",
    "# 이때 각각의 선형함수를 학습할 때는 OvR(One vs Rest 이진분류)을 실행한다."
   ]
  },
  {
   "cell_type": "markdown",
   "metadata": {
    "id": "DMkrj5QIjQLY"
   },
   "source": [
    "### 소프트맥스 함수"
   ]
  },
  {
   "cell_type": "code",
   "execution_count": 36,
   "metadata": {
    "colab": {
     "base_uri": "https://localhost:8080/"
    },
    "id": "RP2a6ZnSmQpK",
    "outputId": "ab4db953-8994-4971-e474-c67e2d775663"
   },
   "outputs": [
    {
     "name": "stdout",
     "output_type": "stream",
     "text": [
      "[[ -6.5    1.03   5.16  -2.73   3.34   0.33  -0.63]\n",
      " [-10.86   1.93   4.77  -2.4    2.98   7.84  -4.26]\n",
      " [ -4.34  -6.23   3.17   6.49   2.36   2.42  -3.87]\n",
      " [ -0.68   0.45   2.65  -1.19   3.26  -5.75   1.26]\n",
      " [ -6.4   -1.99   5.82  -0.11   3.5   -0.11  -0.71]]\n"
     ]
    }
   ],
   "source": [
    "# sklearn의 대부분의 분류모델은 model.decision_function()을 제공하고 이는 z값을 출력해줌\n",
    "decision = lr.decision_function(test_scaled[:5])\n",
    "print(np.round(decision, decimals=2))"
   ]
  },
  {
   "cell_type": "markdown",
   "metadata": {
    "id": "fdq0SRXYikvx"
   },
   "source": [
    "└>\n",
    "$ \\large\n",
    "s1 = \\frac{e^{z1}}{\\sum^{7}_{i=1} e^{zi}},\n",
    "s2 = \\frac{e^{z2}}{\\sum^{7}_{i=1} e^{zi}}, \n",
    "..., \n",
    "s7 = \\frac{e^{z7}}{\\sum^{7}_{i=1} e^{zi}} $\n",
    "\n",
    "$s1+s2+s3+s4+s5+s6+s7 = 1$ <┐"
   ]
  },
  {
   "cell_type": "code",
   "execution_count": 37,
   "metadata": {
    "id": "2jX02tIwmY4R"
   },
   "outputs": [],
   "source": [
    "# 다중분류를 위한 softmax함수 불러오기\n",
    "from scipy.special import softmax"
   ]
  },
  {
   "cell_type": "code",
   "execution_count": 38,
   "metadata": {
    "colab": {
     "base_uri": "https://localhost:8080/"
    },
    "id": "cyuckvlEmeeT",
    "outputId": "6a0aedb2-276e-4f9f-ae20-1fb5d29fdffe"
   },
   "outputs": [
    {
     "name": "stdout",
     "output_type": "stream",
     "text": [
      "[[0.    0.014 0.841 0.    0.136 0.007 0.003]\n",
      " [0.    0.003 0.044 0.    0.007 0.946 0.   ]\n",
      " [0.    0.    0.034 0.935 0.015 0.016 0.   ]\n",
      " [0.011 0.034 0.306 0.007 0.567 0.    0.076]\n",
      " [0.    0.    0.904 0.002 0.089 0.002 0.001]]\n"
     ]
    }
   ],
   "source": [
    "proba = softmax(decision, axis=1)  # z값을 지수함수에 적용하고 각각을 sum한 값으로 나눔, 행별 합이 1\n",
    "print(np.round(proba, decimals=3))  # 위에서 출력한 확률값과 동일한 결과"
   ]
  }
 ],
 "metadata": {
  "colab": {
   "collapsed_sections": [],
   "name": "04-1 로지스틱 회귀.ipynb",
   "provenance": []
  },
  "kernelspec": {
   "display_name": "Python 3",
   "language": "python",
   "name": "python3"
  },
  "language_info": {
   "codemirror_mode": {
    "name": "ipython",
    "version": 3
   },
   "file_extension": ".py",
   "mimetype": "text/x-python",
   "name": "python",
   "nbconvert_exporter": "python",
   "pygments_lexer": "ipython3",
   "version": "3.8.8"
  },
  "toc": {
   "base_numbering": 1,
   "nav_menu": {},
   "number_sections": true,
   "sideBar": true,
   "skip_h1_title": false,
   "title_cell": "Table of Contents",
   "title_sidebar": "Contents",
   "toc_cell": false,
   "toc_position": {},
   "toc_section_display": true,
   "toc_window_display": false
  }
 },
 "nbformat": 4,
 "nbformat_minor": 1
}
