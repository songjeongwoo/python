{
  "nbformat": 4,
  "nbformat_minor": 0,
  "metadata": {
    "colab": {
      "name": "04-2 확률적 경사 하강법.ipynb",
      "provenance": [],
      "collapsed_sections": []
    },
    "kernelspec": {
      "name": "python3",
      "display_name": "Python 3"
    },
    "language_info": {
      "name": "python"
    }
  },
  "cells": [
    {
      "cell_type": "markdown",
      "source": [
        "# 확률적 경사 하강법(SGD, Stochastic Gradient Descent)\n",
        "- \"랜덤하게 경사(기울기)를 내려가는 방법\"<br>\n",
        "- 점진적 학습의 최적화 방법 중 하나<br>\n",
        "cf) 점진적 학습: 모델 서비스 도중 업데이트(온라인 학습) / 모델 서비스 중지하고 업데이트 후 재개\n",
        "- ML/DL 알고리즘을 훈련하는(최적화하는) 방법<br>\n",
        "- 훈련 세트에서 샘플 한 개를 랜덤하게 선택하여 경사를 내려감(모든 샘플을 다 사용할 때까지).\n",
        "- 훈련 세트를 한 번 모두 사용하는 과정을 **에포크(epoch)**라고 함.\n",
        "<br><br>\n",
        "- **미니배치 경사 하강법(minibatch gradient descent)**: 무작위로 몇 개의 샘플을 선택해서 경사를 내려감.\n",
        "  - <u>실전에서 많이 사용됨</u>.\n",
        "<br><br>\n",
        "- **배치 경사 하강법(batch gradient descent)**: 전체 샘플을 사용해서 경사를 내려감.\n",
        "  - 전체 데이터를 사용하기 때문에 가장 안정적인 방법일 수 있으나, 컴퓨터 자원을 많이 사용하게 됨.\n",
        "  - 데이터가 너무 많으면 한 번에 전체 데이터를 모두 읽을 수 없을 수 도 있음.\n",
        "<br><br>\n",
        "- 신경망 알고리즘(Neural Network, DL)에서는 확률적 경사 하강법을 꼭 사용.\n",
        "  - 신경망은 일반적으로 많은 데이터를 사용하기 때문에, **확률적 경사 하강법** 또는 **미니배치 경사 하강법**을 사용함.\n",
        "<br><br>\n",
        "\n",
        "- cf) 경사를 너무 빨리 내려올 경우, 아래의 그림 중 3번째 그림과 같이 될 수 있다.\n",
        "<img src='https://miro.medium.com/max/600/1*Q-2Wh0Xcy6fsGkbPFJvMhQ.gif'><br>\n",
        "<small><font color='gray'>출처: https://medium.com/x8-the-ai-community/gradient-descent-intuition-how-machines-learn-d29ad7464453</font></small><br>"
      ],
      "metadata": {
        "id": "8vfHYKBDm84_"
      }
    },
    {
      "cell_type": "markdown",
      "source": [
        "# 손실함수\n",
        "- 어떤 문제에서 ML알고리즘이 얼마나 엉터리인지를 측정하는 함수\n",
        "- 비용함수(cost function)과 동의어로 볼 수 있다.\n",
        "  - 엄밀히 따지면, 손실함수는 샘플 하나에 대한 손실을 정의\n",
        "  - 비용함수는 훈련 세트에 있는 모든 샘플에 대한 손실 함수의 합을 뜻함.\n",
        "<br><br>\n",
        "- **확률 경사 하강법**은 **이 <u>손실함수 값이 작아지도록</u> 가중치(기울기), 편향(절편) 값들을 업데이트 하는 것**이다.\n",
        "- 손실함수는 미분가능해야한다.\n",
        "  - 분류문제의 정확도(accuracy)는 미분이 가능하지 않기때문에, 즉 연속적이지 않기 때문에 손실함수로 사용할 수 없는 측정방법 중 하나이다.\n",
        "  - ex) 4개의 샘플에 대해 정확도는 0, 0.25, 0.5, 0.75, 1 다섯가지 뿐이다. → **연속적이지 않기 때문에 경사하강법을 사용할 수 없음.**\n",
        "  - 따라서 분류문제에서는 **정확도(accuracy)로 성능을 측정**하지만, 모델을 최적화할 때는 다른 손실함수를 쓴다.\n",
        "- 분류일 때, 손실함수로 **로지스틱 손실 함수(logistic loss function)** 또는 **이진 크로스 엔트로피 손실 함수(binary cross-entropy loss function)**를 쓴다.\n",
        "<br><br>\n",
        "- cf) 회귀의 경우, 미분 가능한 **평균 절대값 오차(MAE) 또는 평균 제곱 오차(MSE)**를 손실함수로 사용할 수 있다.\n",
        "  - 따라서 **회귀에서는 손실함수와 측정지표를 동일하게** 가져갈 수 있다."
      ],
      "metadata": {
        "id": "TJLSxEm8Isuz"
      }
    },
    {
      "cell_type": "markdown",
      "source": [
        "# 로지스틱 손실 함수(logistic loss function)\n",
        "- 또는 이진 크로스 엔트로피 손실 함수(binary cross-entropy loss function)\n"
      ],
      "metadata": {
        "id": "sTZNTyFjQ8fi"
      }
    },
    {
      "cell_type": "markdown",
      "source": [
        "ex)<br>\n",
        "예측$\\quad$정답(타겟)$\\quad$예측확률<br>\n",
        "\n",
        "$\\;1\\quad=\\quad1$$\\quad\\quad\\quad\\quad$0.9<br>\n",
        "$\\;0\\quad\\neq\\quad1$$\\quad\\quad\\quad\\quad$0.3<br>\n",
        "$\\;0\\quad=\\quad0$$\\quad\\quad\\quad\\quad$0.2<br>\n",
        "$\\;1\\quad\\neq\\quad0$$\\quad\\quad\\quad\\quad$0.8<br><br>\n",
        "\n",
        "$\\quad\\quad\\quad\\quad\\quad\\Downarrow$<br><br>\n",
        "\n",
        "- 정답이 1일 경우, `(-1) * 1(양성클래스) * 예측확률`<br>\n",
        "- 정답이 0일 경우, 양성클래스처럼 바꿔서 처리한다.\n",
        " `(-1) * 1(양성클래스) * (1 - 예측확률)`<br>\n",
        "\n",
        "예측$\\quad$정답(타겟)$\\quad$예측확률$\\quad$손실<br>\n",
        "\n",
        "$\\;1\\quad\\neq\\quad1$$\\quad\\quad\\quad\\quad$0.9$\\quad$$\\quad$-0.9 (-1 * 1 * 0.9)<br>\n",
        "$\\;0\\quad\\neq\\quad1$$\\quad\\quad\\quad\\quad$0.3$\\quad$$\\quad$-0.3 (-1 * 1 * 0.3)<br>\n",
        "$\\;0\\quad=\\quad0$$\\quad\\quad\\quad\\quad$0.2$\\quad$$\\quad$-0.8 (-1 * 1 * (1 - 0.2))<br>\n",
        "$\\;1\\quad\\neq\\quad0$$\\quad\\quad\\quad\\quad$0.8$\\quad$$\\quad$-0.2 (-1 * 1 * (1 - 0.8))<br><br>\n",
        "\n",
        "예측 확률을 사용해 이런 식으로 계산하면 연속적인 손실 함수를 얻을 수 있다.<br>\n",
        "여기에서 예측 확률에 로그 함수를 적용하면 더 좋다.<br>\n",
        "예측 확률의 범위는 0~1 사이인데 로그함수는 이 사이에서 음수가 되므로 최종 손실 값은 양수가 되기 때문이다.<br>\n",
        "또한 로그함수는 0에 가까울수록 아주 큰 음수가 되기 때문에 손실을 아주 크게 만들어 모델에 큰 영향을 미칠 수 있다.<br><br>\n",
        "cf) 로그함수<br><br>\n",
        "<img src='https://ww.namu.la/s/d6acfbc3de1edf2cdb37867f48bfeb687549fba33195a7448d84defb13b41ba458e90f57e6808be2fa4faf7c2ee25568e8af44ff1e272af1e39daac6cac97e377b4c52f82210f30658dbb7fea51972cf' width=400><br>\n",
        "<small><font color='gray'>출처: https://namu.wiki/w/%EB%A1%9C%EA%B7%B8%ED%95%A8%EC%88%98</font></small><br>\n",
        "\n",
        "타겟 = 1일 때: $-log(예측 확률)$<br>\n",
        "타겟 = 0일 때: $-log(1-예측 확률)$<br>\n",
        "\n",
        "cf) $-log x = log_{\\frac{1}{10}} x$<br>\n",
        "<img src='https://mblogthumb-phinf.pstatic.net/MjAxOTEwMjBfMjcx/MDAxNTcxNTczOTkzNjg2.Mrzu4T_rYP8dRBz1udLWCpcbMq_WZRuEvQwaI8-iUVYg.yMDuR3PP8N0KghQ698wa5mzyZasX5aSn4zh2a394HZog.PNG.ppos78/%EC%A7%80%EC%88%98%ED%95%A8%EC%88%98%EC%99%80-%EB%A1%9C%EA%B7%B8%ED%95%A8%EC%88%98%EC%9D%98-%EA%B7%B9%ED%95%9C-01.png?type=w2'><br>\n",
        "- cf) a가 10일때와 $\\frac{1}{10}$일 때를 가정<br>\n",
        "<small><font color='gray'>출처: https://m.blog.naver.com/PostView.naver?isHttpsRedirect=true&blogId=ppos78&logNo=221683505743</font></small><br>\n",
        "\n"
      ],
      "metadata": {
        "id": "eKKWLrnbBB9q"
      }
    },
    {
      "cell_type": "code",
      "source": [
        "# 31'38부터"
      ],
      "metadata": {
        "id": "nXVIGUo6RLtM"
      },
      "execution_count": null,
      "outputs": []
    },
    {
      "cell_type": "markdown",
      "source": [
        "## 데이터 전처리"
      ],
      "metadata": {
        "id": "VBDT-j7y-Akl"
      }
    },
    {
      "cell_type": "code",
      "source": [
        "import pandas as pd"
      ],
      "metadata": {
        "id": "tykSWW0DIUvO"
      },
      "execution_count": 1,
      "outputs": []
    },
    {
      "cell_type": "code",
      "source": [
        "fish = pd.read_csv('https://bit.ly/fish_csv_data')\n",
        "x = fish[['Weight', 'Length', 'Diagonal', 'Height', 'Width']].to_numpy()\n",
        "y = fish['Species'].to_numpy()"
      ],
      "metadata": {
        "id": "H7gpLiE6IXQE"
      },
      "execution_count": 4,
      "outputs": []
    },
    {
      "cell_type": "code",
      "source": [
        "from sklearn.model_selection import train_test_split"
      ],
      "metadata": {
        "id": "483xcQmDIquQ"
      },
      "execution_count": 5,
      "outputs": []
    },
    {
      "cell_type": "code",
      "source": [
        "x_train, x_test, y_train, y_test = train_test_split(x, y, random_state=42)"
      ],
      "metadata": {
        "id": "AkLrrULWIvPC"
      },
      "execution_count": 21,
      "outputs": []
    },
    {
      "cell_type": "code",
      "source": [
        "from sklearn.preprocessing import StandardScaler"
      ],
      "metadata": {
        "id": "lIHFIyboI45j"
      },
      "execution_count": 22,
      "outputs": []
    },
    {
      "cell_type": "code",
      "source": [
        "# 경사 하강법 사용을 위해선 특성마다 스케일이 같아야한다.\n",
        "# 스케일이 다르다면 경사를 공평하게 평가할 수 없다.\n",
        "# 따라서 경사 하강법 알고리즘을 사용할 때에는 반드시 데이터를 전처리해서 표준점수로 특성의 스케일을 바꿔줘야한다.\n",
        "ss = StandardScaler()\n",
        "ss.fit(x_train)\n",
        "train_scaled = ss.transform(x_train)\n",
        "test_scaled = ss.transform(x_test)"
      ],
      "metadata": {
        "id": "0EcU1IfiJCfW"
      },
      "execution_count": 23,
      "outputs": []
    },
    {
      "cell_type": "markdown",
      "source": [
        "## SGDClassifier\n",
        "- 사이킷런에서 제공하는 확률적 경사 하강법 알고리즘\n",
        "  - 배치 또는 미니배치 경사 하강법은 지원하지 않음\n",
        "- 회귀 문제일 경우, SGDRegressor\n",
        "- 머신러닝 모델이 아니라 머신러닝 모델을 최적화하는 방법 중 하나이다.\n",
        "  - loss 하이퍼파라미터에서 어떤 모델을 최적화할 지 정해준다."
      ],
      "metadata": {
        "id": "FeaDRRZbJU8-"
      }
    },
    {
      "cell_type": "code",
      "source": [
        "# 불러오기\n",
        "from sklearn.linear_model import SGDClassifier"
      ],
      "metadata": {
        "id": "zrNFheBDLbrW"
      },
      "execution_count": 32,
      "outputs": []
    },
    {
      "cell_type": "code",
      "source": [
        "# 선언하기  # max_iter: 훈련 세트를 몇 번 사용할 지(=epochs)\n",
        "sc = SGDClassifier(loss='log', max_iter=10, random_state=42)"
      ],
      "metadata": {
        "id": "1O3Gm6R2Lnkd"
      },
      "execution_count": 33,
      "outputs": []
    },
    {
      "cell_type": "markdown",
      "source": [
        "- loss 속성값으로 log를 준 것은 로지스틱 손실함수(이진 크로스엔트로피 손실함수)를 사용한다는 뜻이다.\n",
        "- 따라서 로지스틱 회귀모델을 훈련(최적화)한다는 것이다."
      ],
      "metadata": {
        "id": "1q-vtAZXNZ7r"
      }
    },
    {
      "cell_type": "code",
      "source": [
        "# 학습하기  # train_scaled를 써서 train셋을 한 번에 다 쓰는 \"배치 경사 하강법\"인것 같지만 여기서 하나씩 꺼내서 쓴다.\n",
        "sc.fit(train_scaled, y_train)"
      ],
      "metadata": {
        "colab": {
          "base_uri": "https://localhost:8080/"
        },
        "id": "PZZRcqjiL8nb",
        "outputId": "ab65b0c1-d7ce-4fe1-88bb-6f5fd0379e4a"
      },
      "execution_count": 34,
      "outputs": [
        {
          "output_type": "stream",
          "name": "stderr",
          "text": [
            "/usr/local/lib/python3.7/dist-packages/sklearn/linear_model/_stochastic_gradient.py:700: ConvergenceWarning: Maximum number of iteration reached before convergence. Consider increasing max_iter to improve the fit.\n",
            "  ConvergenceWarning,\n"
          ]
        },
        {
          "output_type": "execute_result",
          "data": {
            "text/plain": [
              "SGDClassifier(loss='log', max_iter=10, random_state=42)"
            ]
          },
          "metadata": {},
          "execution_count": 34
        }
      ]
    },
    {
      "cell_type": "code",
      "source": [
        "# 평가하기\n",
        "print(sc.score(train_scaled, y_train))  # 분류 문제이기 때문에 정확도(accuracy), 회귀라면 r2\n",
        "print(sc.score(test_scaled, y_test))"
      ],
      "metadata": {
        "colab": {
          "base_uri": "https://localhost:8080/"
        },
        "id": "QOst7TwyLwOJ",
        "outputId": "52583f3d-c2a7-4953-d621-a48969a0ea8d"
      },
      "execution_count": 35,
      "outputs": [
        {
          "output_type": "stream",
          "name": "stdout",
          "text": [
            "0.773109243697479\n",
            "0.775\n"
          ]
        }
      ]
    },
    {
      "cell_type": "markdown",
      "source": [
        "#### partial_fit(): 기존에 학습했던 w(가중치)와 b(편향)을 유지하면서 다시 또 훈련하는 것"
      ],
      "metadata": {
        "id": "p3oTz6fQOuLY"
      }
    },
    {
      "cell_type": "code",
      "source": [
        "# partial_fit(): 기존에 학습했던 w(가중치)와 b(편향)을 유지하면서 다시 또 훈련하는 것\n",
        "sc.partial_fit(train_scaled, y_train)"
      ],
      "metadata": {
        "colab": {
          "base_uri": "https://localhost:8080/"
        },
        "id": "BnPtYS43MUVV",
        "outputId": "4a763f9e-d706-49db-ab09-69508d882562"
      },
      "execution_count": 41,
      "outputs": [
        {
          "output_type": "execute_result",
          "data": {
            "text/plain": [
              "SGDClassifier(loss='log', max_iter=10, random_state=42)"
            ]
          },
          "metadata": {},
          "execution_count": 41
        }
      ]
    },
    {
      "cell_type": "code",
      "source": [
        "print(sc.score(train_scaled, y_train))\n",
        "print(sc.score(test_scaled, y_test))"
      ],
      "metadata": {
        "colab": {
          "base_uri": "https://localhost:8080/"
        },
        "id": "JF27jJQ-OSsC",
        "outputId": "460e24c8-388f-4acb-ef5d-0c4b4a84ff3d"
      },
      "execution_count": 42,
      "outputs": [
        {
          "output_type": "stream",
          "name": "stdout",
          "text": [
            "0.8067226890756303\n",
            "0.8\n"
          ]
        }
      ]
    },
    {
      "cell_type": "markdown",
      "source": [
        "## 에포크와 과대/과소적합"
      ],
      "metadata": {
        "id": "dS2tGMc2OY7S"
      }
    },
    {
      "cell_type": "markdown",
      "source": [
        "### 조기종료(Early Stopping)\n",
        "- 과대적합이 시작하기 전에 훈련을 멈추는 것"
      ],
      "metadata": {
        "id": "xXINCwkbSpar"
      }
    },
    {
      "cell_type": "code",
      "source": [
        "import numpy as np"
      ],
      "metadata": {
        "id": "qKQxwNMbP04h"
      },
      "execution_count": 43,
      "outputs": []
    },
    {
      "cell_type": "code",
      "source": [
        "sc = SGDClassifier(loss='log', random_state=42)"
      ],
      "metadata": {
        "id": "OMCxUSvBP2UL"
      },
      "execution_count": 44,
      "outputs": []
    },
    {
      "cell_type": "code",
      "source": [
        "train_score = []\n",
        "test_score = []\n",
        "classes = np.unique(y_train)"
      ],
      "metadata": {
        "id": "TtoHcSevP7ns"
      },
      "execution_count": 45,
      "outputs": []
    },
    {
      "cell_type": "markdown",
      "source": [
        "#### partial_fit()\n",
        " - 앞에 fit()을 안 써주면 이 모델이 찾아야될 클래스 개수를 알 수 없다.\n",
        " - partial_fit()는 훈련세트의 일부분만 주어질 수 있다고 가정한다.\n",
        " - 따라서 partial_fit()만 쓸 경우에는 매개변수로 classes를 줘서 클래스들을 알려줘야 한다."
      ],
      "metadata": {
        "id": "v97NtHuITjXL"
      }
    },
    {
      "cell_type": "code",
      "source": [
        "for _ in range(0, 300):\n",
        "  sc.partial_fit(train_scaled, y_train, classes=classes)\n",
        "  train_score.append(sc.score(train_scaled, y_train))\n",
        "  test_score.append(sc.score(test_scaled, y_test))"
      ],
      "metadata": {
        "id": "Xa5mz6MLQBkK"
      },
      "execution_count": 46,
      "outputs": []
    },
    {
      "cell_type": "code",
      "source": [
        "import matplotlib.pyplot as plt"
      ],
      "metadata": {
        "id": "Iot_HOxvQRDy"
      },
      "execution_count": 47,
      "outputs": []
    },
    {
      "cell_type": "code",
      "source": [
        "plt.plot(train_score)\n",
        "plt.plot(test_score)\n",
        "plt.xlabel('epoch')\n",
        "plt.ylabel('accuracy')\n",
        "plt.legend(['train', 'test'])\n",
        "plt.show()"
      ],
      "metadata": {
        "colab": {
          "base_uri": "https://localhost:8080/",
          "height": 279
        },
        "id": "xa13gUqPQWhZ",
        "outputId": "ebe862ec-e4df-4b69-ceb9-9cd09196dd65"
      },
      "execution_count": 55,
      "outputs": [
        {
          "output_type": "display_data",
          "data": {
            "text/plain": [
              "<Figure size 432x288 with 1 Axes>"
            ],
            "image/png": "[encoded data removed]"
          },
          "metadata": {
            "needs_background": "light"
          }
        }
      ]
    },
    {
      "cell_type": "markdown",
      "source": [
        "- epoch가 약 100일 때, train과 test 차이가 제일 적다.\n",
        "- 그 이상 학습하는 것은 자원낭비로 볼 수 있다.\n",
        "  - 과대적합이기도 하다."
      ],
      "metadata": {
        "id": "RoVQwF4KUqPr"
      }
    },
    {
      "cell_type": "code",
      "source": [
        "# 따라서 이번엔 max_iter에 100만 준다.\n",
        "sc = SGDClassifier(loss='log', max_iter=100, tol=None, random_state=42)"
      ],
      "metadata": {
        "id": "U-fnuzScQfSi"
      },
      "execution_count": 49,
      "outputs": []
    },
    {
      "cell_type": "code",
      "source": [
        "sc.fit(train_scaled, y_train)"
      ],
      "metadata": {
        "colab": {
          "base_uri": "https://localhost:8080/"
        },
        "id": "tQmjF63kQzKw",
        "outputId": "0913e643-04e0-4dc0-fdf2-065bf6ea57e5"
      },
      "execution_count": 50,
      "outputs": [
        {
          "output_type": "execute_result",
          "data": {
            "text/plain": [
              "SGDClassifier(loss='log', max_iter=100, random_state=42, tol=None)"
            ]
          },
          "metadata": {},
          "execution_count": 50
        }
      ]
    },
    {
      "cell_type": "code",
      "source": [
        "print(sc.score(train_scaled, y_train))\n",
        "print(sc.score(test_scaled, y_test))"
      ],
      "metadata": {
        "colab": {
          "base_uri": "https://localhost:8080/"
        },
        "id": "rG58nJoIQzUD",
        "outputId": "c07b27da-ecc0-44d0-c18b-e42ab8696978"
      },
      "execution_count": 51,
      "outputs": [
        {
          "output_type": "stream",
          "name": "stdout",
          "text": [
            "0.957983193277311\n",
            "0.925\n"
          ]
        }
      ]
    },
    {
      "cell_type": "code",
      "source": [
        "# hinge는 SVM알고리즘을 의미한다.\n",
        "sc = SGDClassifier(loss='hinge', max_iter=100, tol=None, random_state=42)"
      ],
      "metadata": {
        "id": "DS-aeSKpQ3Rk"
      },
      "execution_count": 52,
      "outputs": []
    },
    {
      "cell_type": "code",
      "source": [
        "sc.fit(train_scaled, y_train)"
      ],
      "metadata": {
        "colab": {
          "base_uri": "https://localhost:8080/"
        },
        "id": "cSn-69OMQ-CZ",
        "outputId": "31fd97bc-8d92-48a7-ba0c-9336982a9496"
      },
      "execution_count": 53,
      "outputs": [
        {
          "output_type": "execute_result",
          "data": {
            "text/plain": [
              "SGDClassifier(max_iter=100, random_state=42, tol=None)"
            ]
          },
          "metadata": {},
          "execution_count": 53
        }
      ]
    },
    {
      "cell_type": "code",
      "source": [
        "print(sc.score(train_scaled, y_train))\n",
        "print(sc.score(test_scaled, y_test))"
      ],
      "metadata": {
        "colab": {
          "base_uri": "https://localhost:8080/"
        },
        "id": "F4HXSTtHRAfZ",
        "outputId": "ff2296da-3958-4f87-a918-6ac2f01dafa3"
      },
      "execution_count": 54,
      "outputs": [
        {
          "output_type": "stream",
          "name": "stdout",
          "text": [
            "0.9495798319327731\n",
            "0.925\n"
          ]
        }
      ]
    }
  ]
}